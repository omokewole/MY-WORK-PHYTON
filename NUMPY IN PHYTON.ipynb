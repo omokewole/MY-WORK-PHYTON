{
 "cells": [
  {
   "cell_type": "code",
   "execution_count": null,
   "id": "1b3a9398",
   "metadata": {},
   "outputs": [],
   "source": [
    "# packages \n",
    "## libraries purposely built to provide solutions to a specific problem. \n",
    "# we have a lot of packages in phyton\n",
    "\n",
    "# numpy - numerical phyton. it is used to perform mathematical operations\n",
    "\n",
    "###  pandas - it is built to perform data manipulation\n",
    "\n",
    "### matplot or seeborn or tlotly they are built to perform data visualization in [hyton]\n",
    "\n",
    "### scikit or sklen - built to perform machine learning application\n",
    "\n",
    "### keras or pytoch - this are built to perform deep learning application\n"
   ]
  },
  {
   "cell_type": "code",
   "execution_count": null,
   "id": "27a20c15",
   "metadata": {},
   "outputs": [],
   "source": [
    "### using package, you need to install the package. \n",
    "###  package manager-  is used to install any package that you want to use -- pip\n",
    "\n",
    "# pip install numpy"
   ]
  },
  {
   "cell_type": "code",
   "execution_count": null,
   "id": "ffb38f4e",
   "metadata": {},
   "outputs": [],
   "source": [
    "# to import numpy\n",
    "array is like a list, to store data"
   ]
  },
  {
   "cell_type": "code",
   "execution_count": 4,
   "id": "b0ffafae",
   "metadata": {},
   "outputs": [
    {
     "data": {
      "text/plain": [
       "array([1, 4, 5, 6, 1, 7])"
      ]
     },
     "execution_count": 4,
     "metadata": {},
     "output_type": "execute_result"
    }
   ],
   "source": [
    "# creating one dimensional array from one dimension list\n",
    "import numpy as np\n",
    "list1 = [1,4,5,6,1,7]\n",
    "arry1 = np.array(list1)\n",
    "arry1\n"
   ]
  },
  {
   "cell_type": "code",
   "execution_count": 5,
   "id": "d4235e5a",
   "metadata": {},
   "outputs": [
    {
     "data": {
      "text/plain": [
       "numpy.ndarray"
      ]
     },
     "execution_count": 5,
     "metadata": {},
     "output_type": "execute_result"
    }
   ],
   "source": [
    "# checking the type of array\n",
    "type(arry1)"
   ]
  },
  {
   "cell_type": "code",
   "execution_count": 8,
   "id": "f2a95efe",
   "metadata": {},
   "outputs": [
    {
     "data": {
      "text/plain": [
       "array([[ 5,  7,  0, 10, 12, 45]])"
      ]
     },
     "execution_count": 8,
     "metadata": {},
     "output_type": "execute_result"
    }
   ],
   "source": [
    "# creating two dimentional array from two dimensional list\n",
    "\n",
    "list2 =  [[ 5,7,0,10,12,45 ]]\n",
    "arry2 = np.array(list2)\n",
    "arry2"
   ]
  },
  {
   "cell_type": "code",
   "execution_count": 9,
   "id": "61cedce6",
   "metadata": {},
   "outputs": [
    {
     "data": {
      "text/plain": [
       "2"
      ]
     },
     "execution_count": 9,
     "metadata": {},
     "output_type": "execute_result"
    }
   ],
   "source": [
    "# to check the dimension of array\n",
    "arry2.ndim"
   ]
  },
  {
   "cell_type": "code",
   "execution_count": 13,
   "id": "7b6aa677",
   "metadata": {},
   "outputs": [
    {
     "data": {
      "text/plain": [
       "array([[[ 5.+0.j,  7.+0.j,  0.+0.j, 10.+0.j, 12.+0.j, 45.+0.j]]])"
      ]
     },
     "execution_count": 13,
     "metadata": {},
     "output_type": "execute_result"
    }
   ],
   "source": [
    "# creating three dimentional array from one dimension list\n",
    "list2 =  [[ 5,7,0,10,12,45 ]]\n",
    "arry3 = np.array(list2,ndmin=3, dtype=\"complex\")\n",
    "arry3"
   ]
  },
  {
   "cell_type": "code",
   "execution_count": 18,
   "id": "fc6db922",
   "metadata": {},
   "outputs": [
    {
     "data": {
      "text/plain": [
       "array([[[ 2,  4,  5, 22,  8, 54, 22]]])"
      ]
     },
     "execution_count": 18,
     "metadata": {},
     "output_type": "execute_result"
    }
   ],
   "source": [
    "# exercise\n",
    "# create numpy array of three dimensions and integar data type from list below\n",
    "\n",
    "list3 = [2,4,5,22,8,54,22]\n",
    "arry3 = np.array(list3, ndmin=3, dtype=\"int\")\n",
    "arry3"
   ]
  },
  {
   "cell_type": "code",
   "execution_count": 20,
   "id": "ad0920e6",
   "metadata": {},
   "outputs": [
    {
     "data": {
      "text/plain": [
       "array([ 0,  1,  2,  3,  4,  5,  6,  7,  8,  9, 10])"
      ]
     },
     "execution_count": 20,
     "metadata": {},
     "output_type": "execute_result"
    }
   ],
   "source": [
    "# Numpy - creating array from numerical ranges\n",
    "# numpy.arrange(start, stop, skip, dtype)\n",
    "\n",
    "np.arange(0,11)\n"
   ]
  },
  {
   "cell_type": "code",
   "execution_count": 21,
   "id": "ab2d00ea",
   "metadata": {},
   "outputs": [
    {
     "data": {
      "text/plain": [
       "array([ 0,  2,  4,  6,  8, 10])"
      ]
     },
     "execution_count": 21,
     "metadata": {},
     "output_type": "execute_result"
    }
   ],
   "source": [
    "np.arange(0,11,2)"
   ]
  },
  {
   "cell_type": "code",
   "execution_count": 23,
   "id": "53906a85",
   "metadata": {},
   "outputs": [
    {
     "data": {
      "text/plain": [
       "array([10., 20., 30., 40., 50.])"
      ]
     },
     "execution_count": 23,
     "metadata": {},
     "output_type": "execute_result"
    }
   ],
   "source": [
    "# creating array using linspace\n",
    "# numpy.linspace(start, stop, num, endpoint, dtype)\n",
    "\n",
    "np.linspace(10,50,5, endpoint= True)"
   ]
  },
  {
   "cell_type": "code",
   "execution_count": 30,
   "id": "1db1f946",
   "metadata": {},
   "outputs": [
    {
     "data": {
      "text/plain": [
       "array([10.0, 20.0, 30.0, 40.0, 50.0, 60.0, 70.0, 80.0], dtype=object)"
      ]
     },
     "execution_count": 30,
     "metadata": {},
     "output_type": "execute_result"
    }
   ],
   "source": [
    "# create numpy array of object data type containing 8 element within 10 and 90. endpoint should be excluded\n",
    "\n",
    "np.linspace(10,90,8, endpoint = False, dtype= \"object\")"
   ]
  },
  {
   "cell_type": "code",
   "execution_count": 31,
   "id": "174d9c26",
   "metadata": {},
   "outputs": [
    {
     "data": {
      "text/plain": [
       "array([ 7, 15, 23, 31, 39, 47, 55, 63])"
      ]
     },
     "execution_count": 31,
     "metadata": {},
     "output_type": "execute_result"
    }
   ],
   "source": [
    "# create numpy of int data type from 7 to 70 with interval of 8 \n",
    "\n",
    "np.arange(7, 71, 8, dtype= \"int\")"
   ]
  },
  {
   "cell_type": "code",
   "execution_count": null,
   "id": "8c924aa9",
   "metadata": {},
   "outputs": [],
   "source": [
    "# Attribute of array in numpy\n",
    "##  1. shape- it will give the number of elements in each of the dimension."
   ]
  },
  {
   "cell_type": "code",
   "execution_count": 33,
   "id": "d234cb20",
   "metadata": {},
   "outputs": [
    {
     "data": {
      "text/plain": [
       "(2, 3, 2)"
      ]
     },
     "execution_count": 33,
     "metadata": {},
     "output_type": "execute_result"
    }
   ],
   "source": [
    "# how to check the shape of the array\n",
    "\n",
    "arry5 = np.array( [[[2,5],\n",
    "          [8,3],\n",
    "          [6,4]],\n",
    "         \n",
    "         [[1,6],\n",
    "          [4,0],\n",
    "          [4,5]]]) \n",
    "         \n",
    "         \n",
    "arry5.shape  "
   ]
  },
  {
   "cell_type": "code",
   "execution_count": 43,
   "id": "1fbb6332",
   "metadata": {},
   "outputs": [
    {
     "data": {
      "text/plain": [
       "array([ 7, 11, 15, 19, 23, 27, 31, 35, 39, 43, 47, 51, 55, 59, 63, 67])"
      ]
     },
     "execution_count": 43,
     "metadata": {},
     "output_type": "execute_result"
    }
   ],
   "source": [
    "arry6 = np.arange(7,71,4, dtype = \"int\")\n",
    "arry6"
   ]
  },
  {
   "cell_type": "code",
   "execution_count": 36,
   "id": "92704a95",
   "metadata": {},
   "outputs": [
    {
     "data": {
      "text/plain": [
       "(5, 4)"
      ]
     },
     "execution_count": 36,
     "metadata": {},
     "output_type": "execute_result"
    }
   ],
   "source": [
    "arry7= np.array([[ 2,6,7,8],\n",
    "                 [2,6,7,8],\n",
    "                 [2,6,7,8],\n",
    "                 [2,6,7,8],\n",
    "                 [2,6,5,7]])\n",
    "    \n",
    "    \n",
    "arry7.shape\n",
    "    \n"
   ]
  },
  {
   "cell_type": "code",
   "execution_count": 38,
   "id": "f551b69b",
   "metadata": {},
   "outputs": [
    {
     "data": {
      "text/plain": [
       "(16,)"
      ]
     },
     "execution_count": 38,
     "metadata": {},
     "output_type": "execute_result"
    }
   ],
   "source": [
    "# reshaping the shape of array **2 reshape()**\n",
    "arry8 = np.arange(7,71,4, dtype = \"int\")\n",
    "arry8.shape"
   ]
  },
  {
   "cell_type": "code",
   "execution_count": 39,
   "id": "28c69a68",
   "metadata": {},
   "outputs": [
    {
     "data": {
      "text/plain": [
       "array([[ 7, 11, 15, 19],\n",
       "       [23, 27, 31, 35],\n",
       "       [39, 43, 47, 51],\n",
       "       [55, 59, 63, 67]])"
      ]
     },
     "execution_count": 39,
     "metadata": {},
     "output_type": "execute_result"
    }
   ],
   "source": [
    "arry_reshape=arry8.reshape(4,4)\n",
    "arry_reshape"
   ]
  },
  {
   "cell_type": "code",
   "execution_count": 41,
   "id": "f8440dd7",
   "metadata": {},
   "outputs": [
    {
     "data": {
      "text/plain": [
       "(4, 4)"
      ]
     },
     "execution_count": 41,
     "metadata": {},
     "output_type": "execute_result"
    }
   ],
   "source": [
    "arry_reshape=arry8.reshape(4,4)\n",
    "arry_reshape.shape"
   ]
  },
  {
   "cell_type": "code",
   "execution_count": 47,
   "id": "df603bdf",
   "metadata": {},
   "outputs": [
    {
     "data": {
      "text/plain": [
       "[15, 27, 39, 51]"
      ]
     },
     "execution_count": 47,
     "metadata": {},
     "output_type": "execute_result"
    }
   ],
   "source": [
    "# indexing and slicing\n",
    "\n",
    "arry10= [7, 11, 15, 19, 23, 27, 31, 35, 39, 43, 47, 51, 55, 59, 63, 67]\n",
    "\n",
    "arry10[2:14:3]\n",
    "\n",
    "\n"
   ]
  },
  {
   "cell_type": "code",
   "execution_count": 48,
   "id": "813c4b1c",
   "metadata": {},
   "outputs": [
    {
     "data": {
      "text/plain": [
       "array([31, 35, 39, 43, 47, 51, 55, 59, 63, 67])"
      ]
     },
     "execution_count": 48,
     "metadata": {},
     "output_type": "execute_result"
    }
   ],
   "source": [
    "# boolean indexing - is a way of fieltering out our data\n",
    "# to fielter out all element less than 30\n",
    "arry8[arry8> 30]"
   ]
  },
  {
   "cell_type": "code",
   "execution_count": 50,
   "id": "0544f46c",
   "metadata": {},
   "outputs": [
    {
     "data": {
      "text/plain": [
       "(16, 1, 1, 1)"
      ]
     },
     "execution_count": 50,
     "metadata": {},
     "output_type": "execute_result"
    }
   ],
   "source": [
    "#np.flatten()  changing the dimension of array into one\n",
    "## it is used to flatten the dimension from a bigger dimension to a smaller one\n",
    "\n",
    "arry_reshape=arry8.reshape(16,1,1,1)\n",
    "arry_reshape.shape"
   ]
  },
  {
   "cell_type": "code",
   "execution_count": 53,
   "id": "7644348e",
   "metadata": {},
   "outputs": [
    {
     "data": {
      "text/plain": [
       "array([ 7, 11, 15, 19, 23, 27, 31, 35, 39, 43, 47, 51, 55, 59, 63, 67])"
      ]
     },
     "execution_count": 53,
     "metadata": {},
     "output_type": "execute_result"
    }
   ],
   "source": [
    "arry_reshape.flatten().shape"
   ]
  },
  {
   "cell_type": "code",
   "execution_count": null,
   "id": "c2f9f1ea",
   "metadata": {},
   "outputs": [],
   "source": []
  }
 ],
 "metadata": {
  "kernelspec": {
   "display_name": "Python 3 (ipykernel)",
   "language": "python",
   "name": "python3"
  },
  "language_info": {
   "codemirror_mode": {
    "name": "ipython",
    "version": 3
   },
   "file_extension": ".py",
   "mimetype": "text/x-python",
   "name": "python",
   "nbconvert_exporter": "python",
   "pygments_lexer": "ipython3",
   "version": "3.9.13"
  }
 },
 "nbformat": 4,
 "nbformat_minor": 5
}
