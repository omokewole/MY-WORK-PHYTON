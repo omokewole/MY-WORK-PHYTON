{
 "cells": [
  {
   "cell_type": "markdown",
   "id": "a66db75e",
   "metadata": {},
   "source": [
    "# intro to python\n",
    "## Intro to Phyton\n",
    "#### Intro to phyton\n",
    "##### Intro to Phyton\n",
    "\n",
    "python was fun to learn, this is an inntroduction \n",
    "\n",
    "## Order List \n",
    "1. point one \n",
    "2. point two \n",
    "3. point three\n",
    "\n",
    "## unorder list\n",
    "- point one \n",
    "- point two \n",
    "- point three\n"
   ]
  },
  {
   "cell_type": "markdown",
   "id": "a4d8ff42",
   "metadata": {},
   "source": [
    "- a to add a cell above \n",
    "- b to add a cell below\n",
    "- x to delete cell\n",
    "- the cell has to be on blue to to add cells\n",
    "- to start a comment in the  code cell in python, you begin with #\n",
    " # i am about to write my first python code\n"
   ]
  },
  {
   "cell_type": "code",
   "execution_count": 6,
   "id": "904c0539",
   "metadata": {},
   "outputs": [
    {
     "name": "stdout",
     "output_type": "stream",
     "text": [
      "Hello world, i am here learing python for data science\n"
     ]
    }
   ],
   "source": [
    " print(\"Hello world, i am here learing python for data science\")"
   ]
  },
  {
   "cell_type": "code",
   "execution_count": null,
   "id": "28d569f4",
   "metadata": {},
   "outputs": [],
   "source": []
  }
 ],
 "metadata": {
  "kernelspec": {
   "display_name": "Python 3 (ipykernel)",
   "language": "python",
   "name": "python3"
  },
  "language_info": {
   "codemirror_mode": {
    "name": "ipython",
    "version": 3
   },
   "file_extension": ".py",
   "mimetype": "text/x-python",
   "name": "python",
   "nbconvert_exporter": "python",
   "pygments_lexer": "ipython3",
   "version": "3.9.13"
  }
 },
 "nbformat": 4,
 "nbformat_minor": 5
}
