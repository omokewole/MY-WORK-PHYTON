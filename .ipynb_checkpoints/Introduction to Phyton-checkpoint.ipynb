{
 "cells": [
  {
   "cell_type": "markdown",
   "id": "f853e8ef",
   "metadata": {},
   "source": [
    "# intro to python\n",
    "## Intro to Phyton\n",
    "#### Intro to phyton\n",
    "##### Intro to Phyton\n",
    "\n",
    "python was fun to learn, this is an inntroduction \n",
    "\n",
    "## Order List \n",
    "1. point one \n",
    "2. point two \n",
    "3. point three\n",
    "\n",
    "## unorder list\n",
    "- point one \n",
    "- point two \n",
    "- point three\n"
   ]
  },
  {
   "cell_type": "markdown",
   "id": "1fadaa2f",
   "metadata": {},
   "source": [
    "- a to add a cell above \n",
    "- b to add a cell below\n",
    "- x to delete cell\n",
    "- the cell has to be on blue to to add cells\n",
    "- to start a comment in the  code cell in python, you begin with #\n",
    " # i am about to write my first python code\n"
   ]
  },
  {
   "cell_type": "code",
   "execution_count": 6,
   "id": "e120a613",
   "metadata": {},
   "outputs": [
    {
     "name": "stdout",
     "output_type": "stream",
     "text": [
      "Hello world, i am here learing python for data science\n"
     ]
    }
   ],
   "source": [
    " print(\"Hello world, i am here learing python for data science\")"
   ]
  },
  {
   "cell_type": "markdown",
   "id": "bf68de66",
   "metadata": {},
   "source": [
    "# variable and identifier\n",
    "- A variable is any object or value that occupy space on computer memory\n",
    "- An identifier is used to identifu variable"
   ]
  },
  {
   "cell_type": "code",
   "execution_count": 13,
   "id": "6e4b125b",
   "metadata": {},
   "outputs": [
    {
     "name": "stdout",
     "output_type": "stream",
     "text": [
      "2\n"
     ]
    }
   ],
   "source": [
    "num1=2\n",
    "print(num1)"
   ]
  },
  {
   "cell_type": "markdown",
   "id": "d9e7f1b2",
   "metadata": {},
   "source": [
    "## Rules for naming variable\n",
    "- variable name cannot start with a number, although, number can be found any where else\n",
    "- Any special character can not be included in a variable name except underscore\n",
    "- name_ = \"olaitan\" is allowed\n",
    "- variable name cannot be joined with white space(space), use underscore\n",
    "- the python reserved words cannot be used as variable name\n",
    "- variable name needs to be descriptive\n",
    "- text needs to be coated \n",
    "- number cannot be coated\n",
    "- \\n means next line\n",
    "- input is to take input from user and put in variable\n",
    "\n"
   ]
  },
  {
   "cell_type": "code",
   "execution_count": 14,
   "id": "5d6e576c",
   "metadata": {},
   "outputs": [
    {
     "ename": "NameError",
     "evalue": "name 'last_name' is not defined",
     "output_type": "error",
     "traceback": [
      "\u001b[1;31m---------------------------------------------------------------------------\u001b[0m",
      "\u001b[1;31mNameError\u001b[0m                                 Traceback (most recent call last)",
      "\u001b[1;32m~\\AppData\\Local\\Temp\\ipykernel_9436\\2720585998.py\u001b[0m in \u001b[0;36m<module>\u001b[1;34m\u001b[0m\n\u001b[0;32m      3\u001b[0m \u001b[0mage\u001b[0m \u001b[1;33m=\u001b[0m \u001b[1;36m12\u001b[0m\u001b[1;33m\u001b[0m\u001b[1;33m\u001b[0m\u001b[0m\n\u001b[0;32m      4\u001b[0m \u001b[0mcourse\u001b[0m \u001b[1;33m=\u001b[0m \u001b[1;34m\" Data Analysis\"\u001b[0m\u001b[1;33m\u001b[0m\u001b[1;33m\u001b[0m\u001b[0m\n\u001b[1;32m----> 5\u001b[1;33m \u001b[0mprint\u001b[0m\u001b[1;33m(\u001b[0m\u001b[1;34m\"Hello everyone!!!. \\n my name is\"\u001b[0m\u001b[1;33m,\u001b[0m \u001b[0mfirst_name\u001b[0m\u001b[1;33m,\u001b[0m \u001b[0mlast_name\u001b[0m\u001b[1;33m,\u001b[0m \u001b[1;34m\"I am\"\u001b[0m\u001b[1;33m,\u001b[0m \u001b[0mage\u001b[0m\u001b[1;33m,\u001b[0m \u001b[1;34m\" years old\"\u001b[0m\u001b[1;33m,\u001b[0m \u001b[1;34m\"Taking the course\"\u001b[0m\u001b[1;33m,\u001b[0m \u001b[0mcourse\u001b[0m\u001b[1;33m)\u001b[0m\u001b[1;33m\u001b[0m\u001b[1;33m\u001b[0m\u001b[0m\n\u001b[0m",
      "\u001b[1;31mNameError\u001b[0m: name 'last_name' is not defined"
     ]
    }
   ],
   "source": [
    "first_name = \"Oreagba\"\n",
    "Last_name = \"Omotoke\"\n",
    "age = 12\n",
    "course = \" Data Analysis\"\n",
    "print(\"Hello everyone!!!. \\n my name is\", first_name, last_name, \"I am\", age, \" years old\", \"Taking the course\", course)"
   ]
  },
  {
   "cell_type": "code",
   "execution_count": 15,
   "id": "83216c7e",
   "metadata": {},
   "outputs": [
    {
     "name": "stdout",
     "output_type": "stream",
     "text": [
      "Hello everyone!!!. \n",
      " my name is Oreagba Omotoke I am 12  years old Taking the course  Data Analysis\n"
     ]
    }
   ],
   "source": [
    "First_name = \"Oreagba\"\n",
    "Last_name = \"Omotoke\"\n",
    "age = 12\n",
    "course = \" Data Analysis\"\n",
    "print(\"Hello everyone!!!. \\n my name is\", First_name, Last_name, \"I am\", age, \" years old\", \"Taking the course\", course)"
   ]
  },
  {
   "cell_type": "code",
   "execution_count": 16,
   "id": "aaf872ae",
   "metadata": {},
   "outputs": [
    {
     "name": "stdout",
     "output_type": "stream",
     "text": [
      "Hello everyone!!!. \n",
      " my name is Oreagba Omotoke  \n",
      " I am 12  years old \n",
      " Taking the course  Data Analysis\n"
     ]
    }
   ],
   "source": [
    "First_name = \"Oreagba\"\n",
    "Last_name = \"Omotoke\"\n",
    "age = 12\n",
    "course = \" Data Analysis\"\n",
    "print(\"Hello everyone!!!. \\n my name is\", First_name, Last_name, \" \\n I am\", age, \" years old\", \"\\n Taking the course\", course)"
   ]
  },
  {
   "cell_type": "code",
   "execution_count": null,
   "id": "0ffc4e06",
   "metadata": {},
   "outputs": [],
   "source": [
    "First_name = input (\"please enter your first name\")\n",
    "Last_name = input (\"please enter your last name\")\n",
    "age = input (\"how old are you\")\n",
    "course = input (\"what course are you taking\")\n",
    "print(\"Hello everyone!!!. \\n my name is\", First_name, Last_name, \" \\n I am\", age, \" years old\", \"\\n Taking the course\", course)"
   ]
  },
  {
   "cell_type": "code",
   "execution_count": null,
   "id": "c9551e29",
   "metadata": {},
   "outputs": [],
   "source": [
    "First_name = input (\"please enter your first name\")\n",
    "Last_name = input (\"please enter your last name\")\n",
    "age = input (\"how old are you\")\n",
    "course = input (\"what course are you taking\")\n",
    "print(\"Hello everyone!!!. \\n my name is\", First_name, Last_name, \" \\n I am\", age, \" years old\", \"\\n Taking the course\", cou"
   ]
  },
  {
   "cell_type": "code",
   "execution_count": null,
   "id": "d9382271",
   "metadata": {},
   "outputs": [],
   "source": []
  }
 ],
 "metadata": {
  "kernelspec": {
   "display_name": "Python 3 (ipykernel)",
   "language": "python",
   "name": "python3"
  },
  "language_info": {
   "codemirror_mode": {
    "name": "ipython",
    "version": 3
   },
   "file_extension": ".py",
   "mimetype": "text/x-python",
   "name": "python",
   "nbconvert_exporter": "python",
   "pygments_lexer": "ipython3",
   "version": "3.9.13"
  }
 },
 "nbformat": 4,
 "nbformat_minor": 5
}
