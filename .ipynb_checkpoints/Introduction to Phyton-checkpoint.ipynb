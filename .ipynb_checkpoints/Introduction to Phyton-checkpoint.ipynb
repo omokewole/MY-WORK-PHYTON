{
 "cells": [
  {
   "cell_type": "markdown",
   "id": "f853e8ef",
   "metadata": {},
   "source": [
    "# intro to python\n",
    "## Intro to Phyton\n",
    "#### Intro to phyton\n",
    "##### Intro to Phyton\n",
    "\n",
    "python was fun to learn, this is an inntroduction \n",
    "\n",
    "## Order List \n",
    "1. point one \n",
    "2. point two \n",
    "3. point three\n",
    "\n",
    "## unorder list\n",
    "- point one \n",
    "- point two \n",
    "- point three\n"
   ]
  },
  {
   "cell_type": "markdown",
   "id": "1fadaa2f",
   "metadata": {},
   "source": [
    "- a to add a cell above \n",
    "- b to add a cell below\n",
    "- x to delete cell\n",
    "- the cell has to be on blue to to add cells\n",
    "- to start a comment in the  code cell in python, you begin with # and must be on markdown\n",
    " # i am about to write my first python code\n"
   ]
  },
  {
   "cell_type": "code",
   "execution_count": 6,
   "id": "e120a613",
   "metadata": {},
   "outputs": [
    {
     "name": "stdout",
     "output_type": "stream",
     "text": [
      "Hello world, i am here learing python for data science\n"
     ]
    }
   ],
   "source": [
    " print(\"Hello world, i am here learing python for data science\")"
   ]
  },
  {
   "cell_type": "markdown",
   "id": "bf68de66",
   "metadata": {},
   "source": [
    "# variable and identifier\n",
    "- A variable is any object or value that occupy space on computer memory\n",
    "- An identifier is used to identifu variable"
   ]
  },
  {
   "cell_type": "code",
   "execution_count": 13,
   "id": "6e4b125b",
   "metadata": {},
   "outputs": [
    {
     "name": "stdout",
     "output_type": "stream",
     "text": [
      "2\n"
     ]
    }
   ],
   "source": [
    "num1=2\n",
    "print(num1)"
   ]
  },
  {
   "cell_type": "markdown",
   "id": "d9e7f1b2",
   "metadata": {},
   "source": [
    "## Rules for naming variable\n",
    "- variable name cannot start with a number, although, number can be found any where else\n",
    "- Any special character can not be included in a variable name except underscore\n",
    "- name_ = \"olaitan\" is allowed\n",
    "- variable name cannot be joined with white space(space), use underscore\n",
    "- the python reserved words cannot be used as variable name\n",
    "- variable name needs to be descriptive\n",
    "- text needs to be coated \n",
    "- number cannot be coated\n",
    "- \\n means next line\n",
    "- input is to take input from user and put in variable\n",
    "\n"
   ]
  },
  {
   "cell_type": "code",
   "execution_count": 14,
   "id": "5d6e576c",
   "metadata": {},
   "outputs": [
    {
     "ename": "NameError",
     "evalue": "name 'last_name' is not defined",
     "output_type": "error",
     "traceback": [
      "\u001b[1;31m---------------------------------------------------------------------------\u001b[0m",
      "\u001b[1;31mNameError\u001b[0m                                 Traceback (most recent call last)",
      "\u001b[1;32m~\\AppData\\Local\\Temp\\ipykernel_9436\\2720585998.py\u001b[0m in \u001b[0;36m<module>\u001b[1;34m\u001b[0m\n\u001b[0;32m      3\u001b[0m \u001b[0mage\u001b[0m \u001b[1;33m=\u001b[0m \u001b[1;36m12\u001b[0m\u001b[1;33m\u001b[0m\u001b[1;33m\u001b[0m\u001b[0m\n\u001b[0;32m      4\u001b[0m \u001b[0mcourse\u001b[0m \u001b[1;33m=\u001b[0m \u001b[1;34m\" Data Analysis\"\u001b[0m\u001b[1;33m\u001b[0m\u001b[1;33m\u001b[0m\u001b[0m\n\u001b[1;32m----> 5\u001b[1;33m \u001b[0mprint\u001b[0m\u001b[1;33m(\u001b[0m\u001b[1;34m\"Hello everyone!!!. \\n my name is\"\u001b[0m\u001b[1;33m,\u001b[0m \u001b[0mfirst_name\u001b[0m\u001b[1;33m,\u001b[0m \u001b[0mlast_name\u001b[0m\u001b[1;33m,\u001b[0m \u001b[1;34m\"I am\"\u001b[0m\u001b[1;33m,\u001b[0m \u001b[0mage\u001b[0m\u001b[1;33m,\u001b[0m \u001b[1;34m\" years old\"\u001b[0m\u001b[1;33m,\u001b[0m \u001b[1;34m\"Taking the course\"\u001b[0m\u001b[1;33m,\u001b[0m \u001b[0mcourse\u001b[0m\u001b[1;33m)\u001b[0m\u001b[1;33m\u001b[0m\u001b[1;33m\u001b[0m\u001b[0m\n\u001b[0m",
      "\u001b[1;31mNameError\u001b[0m: name 'last_name' is not defined"
     ]
    }
   ],
   "source": [
    "first_name = \"Oreagba\"\n",
    "Last_name = \"Omotoke\"\n",
    "age = 12\n",
    "course = \" Data Analysis\"\n",
    "print(\"Hello everyone!!!. \\n my name is\", first_name, last_name, \"I am\", age, \" years old\", \"Taking the course\", course)"
   ]
  },
  {
   "cell_type": "code",
   "execution_count": 15,
   "id": "83216c7e",
   "metadata": {},
   "outputs": [
    {
     "name": "stdout",
     "output_type": "stream",
     "text": [
      "Hello everyone!!!. \n",
      " my name is Oreagba Omotoke I am 12  years old Taking the course  Data Analysis\n"
     ]
    }
   ],
   "source": [
    "First_name = \"Oreagba\"\n",
    "Last_name = \"Omotoke\"\n",
    "age = 12\n",
    "course = \" Data Analysis\"\n",
    "print(\"Hello everyone!!!. \\n my name is\", First_name, Last_name, \"I am\", age, \" years old\", \"Taking the course\", course)"
   ]
  },
  {
   "cell_type": "code",
   "execution_count": 16,
   "id": "aaf872ae",
   "metadata": {},
   "outputs": [
    {
     "name": "stdout",
     "output_type": "stream",
     "text": [
      "Hello everyone!!!. \n",
      " my name is Oreagba Omotoke  \n",
      " I am 12  years old \n",
      " Taking the course  Data Analysis\n"
     ]
    }
   ],
   "source": [
    "First_name = \"Oreagba\"\n",
    "Last_name = \"Omotoke\"\n",
    "age = 12\n",
    "course = \" Data Analysis\"\n",
    "print(\"Hello everyone!!!. \\n my name is\", First_name, Last_name, \" \\n I am\", age, \" years old\", \"\\n Taking the course\", course)"
   ]
  },
  {
   "cell_type": "code",
   "execution_count": 2,
   "id": "0ffc4e06",
   "metadata": {},
   "outputs": [
    {
     "name": "stdout",
     "output_type": "stream",
     "text": [
      "please enter your first name7\n",
      "please enter your last name9\n",
      "how old are you0\n",
      "what course are you taking8\n",
      "Hello everyone!!!. \n",
      " my name is 7 9  \n",
      " I am 0  years old \n",
      " Taking the course 8\n"
     ]
    }
   ],
   "source": [
    "First_name = input (\"please enter your first name\")\n",
    "Last_name = input (\"please enter your last name\")\n",
    "age = input (\"how old are you\")\n",
    "course = input (\"what course are you taking\")\n",
    "print(\"Hello everyone!!!. \\n my name is\", First_name, Last_name, \" \\n I am\", age, \" years old\", \"\\n Taking the course\", course)"
   ]
  },
  {
   "cell_type": "code",
   "execution_count": null,
   "id": "c9551e29",
   "metadata": {},
   "outputs": [],
   "source": [
    "First_name = input (\"please enter your first name\")\n",
    "Last_name = input (\"please enter your last name\")\n",
    "age = input (\"how old are you\")\n",
    "course = input (\"what course are you taking\")\n",
    "print(\"Hello everyone!!!. \\n my name is\", First_name, Last_name, \" \\n I am\", age, \" years old\", \"\\n Taking the course\", cou"
   ]
  },
  {
   "cell_type": "code",
   "execution_count": 5,
   "id": "dd091934",
   "metadata": {},
   "outputs": [
    {
     "name": "stdout",
     "output_type": "stream",
     "text": [
      "please enter the first number 4\n",
      "please enter the second number 5\n",
      "The sum of the numbers entered is  9\n"
     ]
    }
   ],
   "source": [
    "# write a phyton script to take two numbers from a user and sum of the number\n",
    "number1 = int (input(\"please enter the first number \"))\n",
    "number2 = int (input (\"please enter the second number \"))\n",
    "total = number1 + number2\n",
    "print (\"The sum of the numbers entered is \", total)"
   ]
  },
  {
   "cell_type": "markdown",
   "id": "cafe5350",
   "metadata": {},
   "source": [
    "# operators in phyton. operators are used to manipulate operand\n",
    "- Arithmetic operator\n",
    "- Comparison Operator\n",
    "- identity operator\n",
    "- membership operator\n",
    "- logical operator "
   ]
  },
  {
   "cell_type": "markdown",
   "id": "01f0f99a",
   "metadata": {},
   "source": [
    "# Arithmetic Operator"
   ]
  },
  {
   "cell_type": "code",
   "execution_count": 8,
   "id": "7aba59dd",
   "metadata": {},
   "outputs": [
    {
     "name": "stdout",
     "output_type": "stream",
     "text": [
      "32\n"
     ]
    }
   ],
   "source": [
    "\n",
    "## addition \n",
    "a = 12\n",
    "b = 20\n",
    "c = a+b\n",
    "print (c)"
   ]
  },
  {
   "cell_type": "code",
   "execution_count": 9,
   "id": "5a5990da",
   "metadata": {},
   "outputs": [
    {
     "name": "stdout",
     "output_type": "stream",
     "text": [
      "-8\n"
     ]
    }
   ],
   "source": [
    "\n",
    "## subtraction\n",
    "a = 12\n",
    "b = 20\n",
    "c = a-b\n",
    "print (c)"
   ]
  },
  {
   "cell_type": "code",
   "execution_count": 10,
   "id": "5fa532a2",
   "metadata": {},
   "outputs": [
    {
     "name": "stdout",
     "output_type": "stream",
     "text": [
      "0.6\n"
     ]
    }
   ],
   "source": [
    "# division\n",
    "a = 12\n",
    "b = 20\n",
    "c = a/b\n",
    "print (c)"
   ]
  },
  {
   "cell_type": "code",
   "execution_count": 13,
   "id": "718b79b5",
   "metadata": {},
   "outputs": [
    {
     "name": "stdout",
     "output_type": "stream",
     "text": [
      "1\n"
     ]
    }
   ],
   "source": [
    "# modulus (%) it returns the remainder of division\n",
    "a = 10\n",
    "b = 3\n",
    "c = a % b\n",
    "print (c)"
   ]
  },
  {
   "cell_type": "markdown",
   "id": "13524627",
   "metadata": {},
   "source": [
    "# comperasion . it compares two or more variable and the out come is boolean "
   ]
  },
  {
   "cell_type": "code",
   "execution_count": 1,
   "id": "5681f429",
   "metadata": {},
   "outputs": [
    {
     "data": {
      "text/plain": [
       "False"
      ]
     },
     "execution_count": 1,
     "metadata": {},
     "output_type": "execute_result"
    }
   ],
   "source": [
    "\n",
    "# greater than \n",
    "a = 6 \n",
    "b = 20 \n",
    "a > b"
   ]
  },
  {
   "cell_type": "code",
   "execution_count": 15,
   "id": "1d3d2e1c",
   "metadata": {},
   "outputs": [
    {
     "data": {
      "text/plain": [
       "False"
      ]
     },
     "execution_count": 15,
     "metadata": {},
     "output_type": "execute_result"
    }
   ],
   "source": [
    "# greater than or equals to (>=)\n",
    "a = 6 \n",
    "b= 8\n",
    "a >= b"
   ]
  },
  {
   "cell_type": "code",
   "execution_count": 17,
   "id": "7cfa349d",
   "metadata": {},
   "outputs": [
    {
     "data": {
      "text/plain": [
       "True"
      ]
     },
     "execution_count": 17,
     "metadata": {},
     "output_type": "execute_result"
    }
   ],
   "source": [
    "# less\n",
    "a = 6 \n",
    "b= 8\n",
    "a <= b"
   ]
  },
  {
   "cell_type": "code",
   "execution_count": 18,
   "id": "29e934b0",
   "metadata": {},
   "outputs": [
    {
     "data": {
      "text/plain": [
       "True"
      ]
     },
     "execution_count": 18,
     "metadata": {},
     "output_type": "execute_result"
    }
   ],
   "source": [
    "# less than or equals to (<=)\n",
    "a = 6 \n",
    "b= 8\n",
    "a <= b"
   ]
  },
  {
   "cell_type": "code",
   "execution_count": 19,
   "id": "6fdd20be",
   "metadata": {},
   "outputs": [
    {
     "data": {
      "text/plain": [
       "False"
      ]
     },
     "execution_count": 19,
     "metadata": {},
     "output_type": "execute_result"
    }
   ],
   "source": [
    "# equal to  (==)\n",
    "a = 10\n",
    "b = 8\n",
    "a == b \n"
   ]
  },
  {
   "cell_type": "code",
   "execution_count": 2,
   "id": "88a0cb7e",
   "metadata": {},
   "outputs": [
    {
     "data": {
      "text/plain": [
       "20"
      ]
     },
     "execution_count": 2,
     "metadata": {},
     "output_type": "execute_result"
    }
   ],
   "source": [
    "a = b # assigning \n",
    "a"
   ]
  },
  {
   "cell_type": "markdown",
   "id": "ae66cfa6",
   "metadata": {},
   "source": [
    "# Assignment Operator"
   ]
  },
  {
   "cell_type": "code",
   "execution_count": 20,
   "id": "9a140bb9",
   "metadata": {},
   "outputs": [
    {
     "name": "stdout",
     "output_type": "stream",
     "text": [
      "4\n"
     ]
    }
   ],
   "source": [
    "# equals \n",
    "a = 4\n",
    "print (a)"
   ]
  },
  {
   "cell_type": "code",
   "execution_count": 21,
   "id": "3824935a",
   "metadata": {},
   "outputs": [
    {
     "name": "stdout",
     "output_type": "stream",
     "text": [
      "value of toke before increament 2\n",
      "value of toke after increament 6\n"
     ]
    }
   ],
   "source": [
    "# increament\n",
    "toke = 2\n",
    "print (\"value of toke before increament\", toke)\n",
    "toke += 4\n",
    "print (\"value of toke after increament\", toke)\n"
   ]
  },
  {
   "cell_type": "code",
   "execution_count": 3,
   "id": "2cfd684f",
   "metadata": {},
   "outputs": [
    {
     "name": "stdout",
     "output_type": "stream",
     "text": [
      "value of toke before decreament 10\n",
      "value of toke after decreament 6\n"
     ]
    }
   ],
   "source": [
    "# decreament\n",
    "toke = 10\n",
    "print (\"value of toke before decreament\", toke)\n",
    "toke -= 4\n",
    "print (\"value of toke after decreament\", toke)\n"
   ]
  },
  {
   "cell_type": "markdown",
   "id": "582b2d40",
   "metadata": {},
   "source": [
    "# MEMBERSHIP Operator\n",
    "## it returns a boolean result"
   ]
  },
  {
   "cell_type": "code",
   "execution_count": null,
   "id": "4e41566f",
   "metadata": {},
   "outputs": [],
   "source": [
    "in / not in,\n",
    "4 in [1,2,3,45,67]"
   ]
  },
  {
   "cell_type": "code",
   "execution_count": 24,
   "id": "00c36514",
   "metadata": {},
   "outputs": [
    {
     "data": {
      "text/plain": [
       "False"
      ]
     },
     "execution_count": 24,
     "metadata": {},
     "output_type": "execute_result"
    }
   ],
   "source": [
    "4 in [1,2,3,45,67]"
   ]
  },
  {
   "cell_type": "code",
   "execution_count": 25,
   "id": "d198e5ee",
   "metadata": {},
   "outputs": [
    {
     "data": {
      "text/plain": [
       "False"
      ]
     },
     "execution_count": 25,
     "metadata": {},
     "output_type": "execute_result"
    }
   ],
   "source": [
    "7 not in [1,2,3,4,5,7,89,56]"
   ]
  },
  {
   "cell_type": "code",
   "execution_count": 4,
   "id": "b6855f8e",
   "metadata": {},
   "outputs": [
    {
     "data": {
      "text/plain": [
       "True"
      ]
     },
     "execution_count": 4,
     "metadata": {},
     "output_type": "execute_result"
    }
   ],
   "source": [
    "7 in [1,3,5,6,7,8,9]"
   ]
  },
  {
   "cell_type": "code",
   "execution_count": null,
   "id": "f8949dba",
   "metadata": {},
   "outputs": [],
   "source": [
    "#identity\n",
    "is/  is not "
   ]
  },
  {
   "cell_type": "code",
   "execution_count": 26,
   "id": "952e0905",
   "metadata": {},
   "outputs": [
    {
     "name": "stderr",
     "output_type": "stream",
     "text": [
      "<>:1: SyntaxWarning: \"is\" with a literal. Did you mean \"==\"?\n",
      "<>:1: SyntaxWarning: \"is\" with a literal. Did you mean \"==\"?\n",
      "C:\\Users\\Sober\\AppData\\Local\\Temp\\ipykernel_8884\\672288743.py:1: SyntaxWarning: \"is\" with a literal. Did you mean \"==\"?\n",
      "  4 is 4\n"
     ]
    },
    {
     "data": {
      "text/plain": [
       "True"
      ]
     },
     "execution_count": 26,
     "metadata": {},
     "output_type": "execute_result"
    }
   ],
   "source": [
    "4 is 4"
   ]
  },
  {
   "cell_type": "code",
   "execution_count": 27,
   "id": "54c173a9",
   "metadata": {},
   "outputs": [
    {
     "data": {
      "text/plain": [
       "True"
      ]
     },
     "execution_count": 27,
     "metadata": {},
     "output_type": "execute_result"
    }
   ],
   "source": [
    "a = 4\n",
    "b = 4\n",
    "a is b"
   ]
  },
  {
   "cell_type": "code",
   "execution_count": 34,
   "id": "970feba2",
   "metadata": {},
   "outputs": [
    {
     "data": {
      "text/plain": [
       "False"
      ]
     },
     "execution_count": 34,
     "metadata": {},
     "output_type": "execute_result"
    }
   ],
   "source": [
    "a = \"Ola\"\n",
    "b = \"ola\"\n",
    "a is b\n"
   ]
  },
  {
   "cell_type": "code",
   "execution_count": 35,
   "id": "1c3bc046",
   "metadata": {},
   "outputs": [
    {
     "data": {
      "text/plain": [
       "True"
      ]
     },
     "execution_count": 35,
     "metadata": {},
     "output_type": "execute_result"
    }
   ],
   "source": [
    "# Logical\n",
    "# and / or \n",
    "(12 > 4) and (8< 12)"
   ]
  },
  {
   "cell_type": "code",
   "execution_count": 36,
   "id": "1abd5297",
   "metadata": {},
   "outputs": [
    {
     "data": {
      "text/plain": [
       "True"
      ]
     },
     "execution_count": 36,
     "metadata": {},
     "output_type": "execute_result"
    }
   ],
   "source": [
    "(12> 4) or (8<4)"
   ]
  },
  {
   "cell_type": "code",
   "execution_count": 6,
   "id": "4973b69d",
   "metadata": {},
   "outputs": [
    {
     "data": {
      "text/plain": [
       "False"
      ]
     },
     "execution_count": 6,
     "metadata": {},
     "output_type": "execute_result"
    }
   ],
   "source": [
    "(8>3) and (5>9)"
   ]
  },
  {
   "cell_type": "markdown",
   "id": "a8f69ac3",
   "metadata": {},
   "source": [
    " # Datatype in Python\n",
    " \n",
    " - mutable datatype: datatype that can be modified after declaration\n",
    " - list \n",
    " - dictionary\n",
    " - set\n",
    " \n",
    " \n",
    " - \n",
    " - immutable datatype: datatype cannot be modified after declaration\n",
    " - number\n",
    " - str\n",
    " - tuple\n",
    " "
   ]
  },
  {
   "cell_type": "code",
   "execution_count": null,
   "id": "db6472aa",
   "metadata": {},
   "outputs": [],
   "source": [
    "# number\n",
    "int  = whole number  ( it cannot be modified but yu can over ride it)\n",
    "float = number with decimals\n",
    "complex = 3 + 3J"
   ]
  },
  {
   "cell_type": "code",
   "execution_count": null,
   "id": "87fc6468",
   "metadata": {},
   "outputs": [],
   "source": [
    " # str : are sequence of characters\n",
    "    name =  'ola'\n",
    "    name = \"ola\"\n",
    "    name = \"\"\" this is used when the string is\n",
    "    very long in a way that it\n",
    "    moves to the next line\"\"\""
   ]
  },
  {
   "cell_type": "markdown",
   "id": "11640873",
   "metadata": {},
   "source": [
    "# indexing and slicing\n",
    "\n",
    "## indexing\n",
    "forward indexing starts counting from the front first letter from 0\n",
    "backward indexing starts counting from the back from -1"
   ]
  },
  {
   "cell_type": "code",
   "execution_count": 9,
   "id": "049e15e2",
   "metadata": {},
   "outputs": [
    {
     "data": {
      "text/plain": [
       "'i'"
      ]
     },
     "execution_count": 9,
     "metadata": {},
     "output_type": "execute_result"
    }
   ],
   "source": [
    "name = \"olaitan\"\n",
    "name [3] forward indexing"
   ]
  },
  {
   "cell_type": "code",
   "execution_count": 10,
   "id": "6cc7d500",
   "metadata": {},
   "outputs": [
    {
     "data": {
      "text/plain": [
       "'t'"
      ]
     },
     "execution_count": 10,
     "metadata": {},
     "output_type": "execute_result"
    }
   ],
   "source": [
    "name = \"omotoke\"\n",
    "name [4]\n",
    "name [-4]"
   ]
  },
  {
   "cell_type": "code",
   "execution_count": 40,
   "id": "a85cedd1",
   "metadata": {},
   "outputs": [
    {
     "data": {
      "text/plain": [
       "'l'"
      ]
     },
     "execution_count": 40,
     "metadata": {},
     "output_type": "execute_result"
    }
   ],
   "source": [
    "name = \"olaitan\"\n",
    "name[-6] backward indexing"
   ]
  },
  {
   "cell_type": "markdown",
   "id": "6f62eacc",
   "metadata": {},
   "source": [
    "# slicing\n",
    "- index no: position no: skip no\n",
    "\n",
    "- index no counts from 0 \n",
    "- position number counts from 1"
   ]
  },
  {
   "cell_type": "code",
   "execution_count": 41,
   "id": "48d40869",
   "metadata": {},
   "outputs": [
    {
     "data": {
      "text/plain": [
       "'ai'"
      ]
     },
     "execution_count": 41,
     "metadata": {},
     "output_type": "execute_result"
    }
   ],
   "source": [
    "name = \"olaitana\"\n",
    "\"return ai from olaitan\"\n",
    "name[2: 4]"
   ]
  },
  {
   "cell_type": "code",
   "execution_count": 12,
   "id": "724ed3ba",
   "metadata": {},
   "outputs": [
    {
     "data": {
      "text/plain": [
       "'bisi'"
      ]
     },
     "execution_count": 12,
     "metadata": {},
     "output_type": "execute_result"
    }
   ],
   "source": [
    "name = \"olabisi\"\n",
    "name[3: 5] \n",
    "name [3:7]"
   ]
  },
  {
   "cell_type": "code",
   "execution_count": null,
   "id": "6789163e",
   "metadata": {},
   "outputs": [],
   "source": []
  },
  {
   "cell_type": "code",
   "execution_count": 42,
   "id": "ebc69457",
   "metadata": {},
   "outputs": [
    {
     "data": {
      "text/plain": [
       "'fun'"
      ]
     },
     "execution_count": 42,
     "metadata": {},
     "output_type": "execute_result"
    }
   ],
   "source": [
    "info =\"python is fun to learn\"\n",
    "#return fun from the variable\n",
    "info[10:13]"
   ]
  },
  {
   "cell_type": "code",
   "execution_count": 43,
   "id": "36515319",
   "metadata": {},
   "outputs": [
    {
     "data": {
      "text/plain": [
       "'oin'"
      ]
     },
     "execution_count": 43,
     "metadata": {},
     "output_type": "execute_result"
    }
   ],
   "source": [
    "name[0: 7:3]"
   ]
  },
  {
   "cell_type": "code",
   "execution_count": 44,
   "id": "7a6689c9",
   "metadata": {},
   "outputs": [
    {
     "ename": "SyntaxError",
     "evalue": "invalid syntax (1769612956.py, line 1)",
     "output_type": "error",
     "traceback": [
      "\u001b[1;36m  File \u001b[1;32m\"C:\\Users\\Sober\\AppData\\Local\\Temp\\ipykernel_8884\\1769612956.py\"\u001b[1;36m, line \u001b[1;32m1\u001b[0m\n\u001b[1;33m    - skip position\u001b[0m\n\u001b[1;37m           ^\u001b[0m\n\u001b[1;31mSyntaxError\u001b[0m\u001b[1;31m:\u001b[0m invalid syntax\n"
     ]
    }
   ],
   "source": [
    "- skip position\n",
    "info =\"python is fun to learn\"\n",
    "\n",
    "info[6:13:2]"
   ]
  },
  {
   "cell_type": "code",
   "execution_count": 51,
   "id": "d803f0b8",
   "metadata": {},
   "outputs": [
    {
     "data": {
      "text/plain": [
       "'if  a'"
      ]
     },
     "execution_count": 51,
     "metadata": {},
     "output_type": "execute_result"
    }
   ],
   "source": [
    "info =\"python is fun to learn\"\n",
    "#return if  a\n",
    "\n",
    "info[7:20:3]"
   ]
  },
  {
   "cell_type": "code",
   "execution_count": 13,
   "id": "036875dc",
   "metadata": {},
   "outputs": [
    {
     "data": {
      "text/plain": [
       "'nsut'"
      ]
     },
     "execution_count": 13,
     "metadata": {},
     "output_type": "execute_result"
    }
   ],
   "source": [
    "info = \"python is fun to learn\"\n",
    "info [5:16:3]"
   ]
  },
  {
   "cell_type": "markdown",
   "id": "4f779d03",
   "metadata": {},
   "source": [
    "# string method\n",
    "1. split \n",
    "2. strip\n",
    "3. endwith\n",
    "4. startwith\n",
    "5. upper/lower\n",
    "6. find\n",
    "7. replace"
   ]
  },
  {
   "cell_type": "code",
   "execution_count": 56,
   "id": "8e849a3f",
   "metadata": {},
   "outputs": [
    {
     "data": {
      "text/plain": [
       "'python is fun to learn'"
      ]
     },
     "execution_count": 56,
     "metadata": {},
     "output_type": "execute_result"
    }
   ],
   "source": [
    " info "
   ]
  },
  {
   "cell_type": "code",
   "execution_count": 60,
   "id": "2a298985",
   "metadata": {},
   "outputs": [
    {
     "data": {
      "text/plain": [
       "['omotoke', 'is', 'a', 'goood', 'girl']"
      ]
     },
     "execution_count": 60,
     "metadata": {},
     "output_type": "execute_result"
    }
   ],
   "source": [
    "# split is use to split string at any given space or specified character. the output is list\n",
    "info.split()\n",
    "\n",
    "replace = \"omotoke is a goood girl\"\n",
    "replace. split()"
   ]
  },
  {
   "cell_type": "code",
   "execution_count": 61,
   "id": "bec57a45",
   "metadata": {},
   "outputs": [
    {
     "data": {
      "text/plain": [
       "['my', 'name', 'is', 'titi', 'i', 'am', 'taking', 'phyton', 'class']"
      ]
     },
     "execution_count": 61,
     "metadata": {},
     "output_type": "execute_result"
    }
   ],
   "source": [
    "# split is use to split string at any given space or specified character. the output is list\n",
    "gist = \"my/name/is/titi/i/am/taking/phyton/class\"\n",
    "gist.split(\"/\")\n"
   ]
  },
  {
   "cell_type": "code",
   "execution_count": 63,
   "id": "0fe4ea2a",
   "metadata": {},
   "outputs": [
    {
     "ename": "SyntaxError",
     "evalue": "invalid syntax (1654808701.py, line 3)",
     "output_type": "error",
     "traceback": [
      "\u001b[1;36m  File \u001b[1;32m\"C:\\Users\\Sober\\AppData\\Local\\Temp\\ipykernel_8884\\1654808701.py\"\u001b[1;36m, line \u001b[1;32m3\u001b[0m\n\u001b[1;33m    name strip()\u001b[0m\n\u001b[1;37m         ^\u001b[0m\n\u001b[1;31mSyntaxError\u001b[0m\u001b[1;31m:\u001b[0m invalid syntax\n"
     ]
    }
   ],
   "source": []
  },
  {
   "cell_type": "code",
   "execution_count": 64,
   "id": "a87c31b6",
   "metadata": {},
   "outputs": [
    {
     "data": {
      "text/plain": [
       "'olatian'"
      ]
     },
     "execution_count": 64,
     "metadata": {},
     "output_type": "execute_result"
    }
   ],
   "source": [
    "#strip is used ro remove excesive space before and after the text\n",
    "\n",
    "\n",
    "name = \"     olatian   \"\n",
    "name.strip()"
   ]
  },
  {
   "cell_type": "code",
   "execution_count": 66,
   "id": "68bda256",
   "metadata": {},
   "outputs": [
    {
     "data": {
      "text/plain": [
       "'olaitan'"
      ]
     },
     "execution_count": 66,
     "metadata": {},
     "output_type": "execute_result"
    }
   ],
   "source": [
    "name = \"{{{{///olaitan>>>>>>////\"\n",
    "name.strip(\"{\").strip(\"/\").strip(\">\")"
   ]
  },
  {
   "cell_type": "code",
   "execution_count": null,
   "id": "9309b4ac",
   "metadata": {},
   "outputs": [],
   "source": [
    "# endswith\n",
    "## it gives a boolen result\n"
   ]
  },
  {
   "cell_type": "code",
   "execution_count": 1,
   "id": "0aec45fa",
   "metadata": {},
   "outputs": [
    {
     "data": {
      "text/plain": [
       "True"
      ]
     },
     "execution_count": 1,
     "metadata": {},
     "output_type": "execute_result"
    }
   ],
   "source": [
    "name = \"Olaitan\"\n",
    "\n",
    "name.endswith(\"n\")"
   ]
  },
  {
   "cell_type": "code",
   "execution_count": 2,
   "id": "dbc80bb4",
   "metadata": {},
   "outputs": [
    {
     "data": {
      "text/plain": [
       "False"
      ]
     },
     "execution_count": 2,
     "metadata": {},
     "output_type": "execute_result"
    }
   ],
   "source": [
    "name = \"Bolatito\"\n",
    "name.endswith(\"z\")"
   ]
  },
  {
   "cell_type": "markdown",
   "id": "4be4b3fa",
   "metadata": {},
   "source": [
    "# Startswith"
   ]
  },
  {
   "cell_type": "code",
   "execution_count": 4,
   "id": "41b2489f",
   "metadata": {},
   "outputs": [
    {
     "data": {
      "text/plain": [
       "True"
      ]
     },
     "execution_count": 4,
     "metadata": {},
     "output_type": "execute_result"
    }
   ],
   "source": [
    "name= \"olaitan\"\n",
    "name.startswith(\"o\")"
   ]
  },
  {
   "cell_type": "markdown",
   "id": "932283f3",
   "metadata": {},
   "source": [
    "# Upper"
   ]
  },
  {
   "cell_type": "code",
   "execution_count": 5,
   "id": "9b1db67f",
   "metadata": {},
   "outputs": [
    {
     "data": {
      "text/plain": [
       "'OLAITAN'"
      ]
     },
     "execution_count": 5,
     "metadata": {},
     "output_type": "execute_result"
    }
   ],
   "source": [
    "name.upper()"
   ]
  },
  {
   "cell_type": "code",
   "execution_count": 7,
   "id": "2b71e9b3",
   "metadata": {},
   "outputs": [
    {
     "data": {
      "text/plain": [
       "'OLAITAN'"
      ]
     },
     "execution_count": 7,
     "metadata": {},
     "output_type": "execute_result"
    }
   ],
   "source": [
    "name=name.upper()\n",
    "name"
   ]
  },
  {
   "cell_type": "markdown",
   "id": "a0c07cda",
   "metadata": {},
   "source": [
    "# Lower"
   ]
  },
  {
   "cell_type": "code",
   "execution_count": 8,
   "id": "aceaff57",
   "metadata": {},
   "outputs": [
    {
     "data": {
      "text/plain": [
       "'olaitan'"
      ]
     },
     "execution_count": 8,
     "metadata": {},
     "output_type": "execute_result"
    }
   ],
   "source": [
    "name=name.lower()\n",
    "name"
   ]
  },
  {
   "cell_type": "markdown",
   "id": "7b2d366e",
   "metadata": {},
   "source": [
    "# find\n",
    "\n",
    "## this will find the position of the specific character and return the index number of specified character"
   ]
  },
  {
   "cell_type": "code",
   "execution_count": 9,
   "id": "5186e0a0",
   "metadata": {},
   "outputs": [
    {
     "data": {
      "text/plain": [
       "3"
      ]
     },
     "execution_count": 9,
     "metadata": {},
     "output_type": "execute_result"
    }
   ],
   "source": [
    "name.find(\"i\")"
   ]
  },
  {
   "cell_type": "markdown",
   "id": "d2782ec1",
   "metadata": {},
   "source": [
    "# replace"
   ]
  },
  {
   "cell_type": "code",
   "execution_count": 10,
   "id": "e1e70021",
   "metadata": {},
   "outputs": [
    {
     "name": "stdout",
     "output_type": "stream",
     "text": [
      "olaytan\n"
     ]
    }
   ],
   "source": [
    "name = \"olaitan\"\n",
    "name= name.replace (\"i\", \"y\")\n",
    "print(name)"
   ]
  },
  {
   "cell_type": "code",
   "execution_count": 11,
   "id": "3d67d28a",
   "metadata": {},
   "outputs": [
    {
     "name": "stdout",
     "output_type": "stream",
     "text": [
      "oreahba\n"
     ]
    }
   ],
   "source": [
    "name = \"oreagba\"\n",
    "name = name.replace (\"g\", \"h\")\n",
    "print(name)"
   ]
  },
  {
   "cell_type": "markdown",
   "id": "a1b83341",
   "metadata": {},
   "source": [
    "# LIST\n",
    "\n",
    "- IT IS A CONTAINER THAT CAN BE USED TO SAVE DATA\n",
    "- LIST IS USED WITH SQUARE BRAKET [    ] EMPTY LIST\n",
    "- LIST CAN HAVE DIFFERENT DATA TYPE"
   ]
  },
  {
   "cell_type": "code",
   "execution_count": 14,
   "id": "d27b296b",
   "metadata": {},
   "outputs": [
    {
     "data": {
      "text/plain": [
       "'sancho'"
      ]
     },
     "execution_count": 14,
     "metadata": {},
     "output_type": "execute_result"
    }
   ],
   "source": [
    "LIST1 = [\"cow\", 2, 6.6, [23,5], \"james\", \"sancho\", \"rice\", \"white\"]\n",
    "LIST1[5]\n"
   ]
  },
  {
   "cell_type": "code",
   "execution_count": 15,
   "id": "dda3e343",
   "metadata": {},
   "outputs": [
    {
     "data": {
      "text/plain": [
       "5"
      ]
     },
     "execution_count": 15,
     "metadata": {},
     "output_type": "execute_result"
    }
   ],
   "source": [
    "LIST1 [3][1]"
   ]
  },
  {
   "cell_type": "code",
   "execution_count": 16,
   "id": "a88be154",
   "metadata": {},
   "outputs": [
    {
     "data": {
      "text/plain": [
       "[6.6, [23, 5], 'james', 'sancho']"
      ]
     },
     "execution_count": 16,
     "metadata": {},
     "output_type": "execute_result"
    }
   ],
   "source": [
    "LIST1 [2:6]"
   ]
  },
  {
   "cell_type": "code",
   "execution_count": null,
   "id": "1fb87e33",
   "metadata": {},
   "outputs": [],
   "source": [
    "1. append : is used to add element at the end of a list\n",
    "2. pop : is used to remove element at specific index\n",
    "3. remove : is used to delete element specified\n",
    "4.sort : is used to sort element of a list\n",
    "    false (ascending)\n",
    "    true (descending)"
   ]
  },
  {
   "cell_type": "code",
   "execution_count": 17,
   "id": "d64e9050",
   "metadata": {},
   "outputs": [
    {
     "name": "stdout",
     "output_type": "stream",
     "text": [
      "[1, 'kola', 'ade', 'elephant']\n"
     ]
    }
   ],
   "source": [
    "liss = [1,\"kola\",\"ade\"]\n",
    "liss.append(\"elephant\")\n",
    "print(liss)"
   ]
  },
  {
   "cell_type": "code",
   "execution_count": 18,
   "id": "3801b2c9",
   "metadata": {},
   "outputs": [
    {
     "data": {
      "text/plain": [
       "'elephant'"
      ]
     },
     "execution_count": 18,
     "metadata": {},
     "output_type": "execute_result"
    }
   ],
   "source": [
    "liss.pop()"
   ]
  },
  {
   "cell_type": "code",
   "execution_count": 19,
   "id": "36d8dac1",
   "metadata": {},
   "outputs": [
    {
     "name": "stdout",
     "output_type": "stream",
     "text": [
      "[1, 'kola']\n",
      "ade\n"
     ]
    }
   ],
   "source": [
    "name=liss.pop()\n",
    "print(liss)\n",
    "print(name)"
   ]
  },
  {
   "cell_type": "code",
   "execution_count": 20,
   "id": "ce33cd5c",
   "metadata": {},
   "outputs": [
    {
     "data": {
      "text/plain": [
       "'kola'"
      ]
     },
     "execution_count": 20,
     "metadata": {},
     "output_type": "execute_result"
    }
   ],
   "source": [
    "liss.pop(1)"
   ]
  },
  {
   "cell_type": "code",
   "execution_count": 21,
   "id": "57f6162a",
   "metadata": {},
   "outputs": [
    {
     "name": "stdout",
     "output_type": "stream",
     "text": [
      "['kola', 'ade']\n"
     ]
    }
   ],
   "source": [
    "liss = [7,\"kola\",\"ade\"]\n",
    "liss.remove(7)\n",
    "print (liss)"
   ]
  },
  {
   "cell_type": "code",
   "execution_count": 27,
   "id": "e3efc21a",
   "metadata": {},
   "outputs": [
    {
     "name": "stdout",
     "output_type": "stream",
     "text": [
      "[2, 4, 7, 7, 8, 8.3, 10, 63]\n"
     ]
    }
   ],
   "source": [
    "liss = [2,7,8.3,10,4,7,8,63]\n",
    "liss.sort()\n",
    "print (liss)"
   ]
  },
  {
   "cell_type": "code",
   "execution_count": 34,
   "id": "6471bd0b",
   "metadata": {},
   "outputs": [
    {
     "ename": "SyntaxError",
     "evalue": "invalid syntax (3902389822.py, line 1)",
     "output_type": "error",
     "traceback": [
      "\u001b[1;36m  File \u001b[1;32m\"C:\\Users\\Sober\\AppData\\Local\\Temp\\ipykernel_19284\\3902389822.py\"\u001b[1;36m, line \u001b[1;32m1\u001b[0m\n\u001b[1;33m    liss.sort(reverse.False)\u001b[0m\n\u001b[1;37m                      ^\u001b[0m\n\u001b[1;31mSyntaxError\u001b[0m\u001b[1;31m:\u001b[0m invalid syntax\n"
     ]
    }
   ],
   "source": [
    "liss.sort(reverse.False)\n",
    "print (liss)\n",
    "\n"
   ]
  },
  {
   "cell_type": "markdown",
   "id": "8e8605a3",
   "metadata": {},
   "source": [
    "# modify the element of a list "
   ]
  },
  {
   "cell_type": "code",
   "execution_count": 29,
   "id": "615ba392",
   "metadata": {},
   "outputs": [
    {
     "name": "stdout",
     "output_type": "stream",
     "text": [
      "['cow', 2, 6.6, [23, 5], 'james', 'RASHFORD', 'rice', 'white']\n"
     ]
    }
   ],
   "source": [
    "LIST1 = [\"cow\", 2, 6.6, [23,5], \"james\", \"sancho\", \"rice\", \"white\"]\n",
    "# change sancho to rashford\n",
    "\n",
    "LIST1[5] = \"RASHFORD\"\n",
    "print (LIST1)"
   ]
  },
  {
   "cell_type": "markdown",
   "id": "a23f0b27",
   "metadata": {},
   "source": [
    "# tup\n",
    "tup = (    ) # an empty turple"
   ]
  },
  {
   "cell_type": "code",
   "execution_count": 39,
   "id": "5587ee9d",
   "metadata": {},
   "outputs": [
    {
     "ename": "SyntaxError",
     "evalue": "invalid syntax (975752148.py, line 1)",
     "output_type": "error",
     "traceback": [
      "\u001b[1;36m  File \u001b[1;32m\"C:\\Users\\Sober\\AppData\\Local\\Temp\\ipykernel_19284\\975752148.py\"\u001b[1;36m, line \u001b[1;32m1\u001b[0m\n\u001b[1;33m    tup = (2,\"kazeem\", \"olaitan\",\"james\", \"ade\",[2,3,6,7]2,2,26,42)\u001b[0m\n\u001b[1;37m                                                         ^\u001b[0m\n\u001b[1;31mSyntaxError\u001b[0m\u001b[1;31m:\u001b[0m invalid syntax\n"
     ]
    }
   ],
   "source": [
    "tup = (2,\"kazeem\", \"olaitan\",\"james\", \"ade\",[2,3,6,7]2,2,26,42)\n",
    "tup[5]"
   ]
  },
  {
   "cell_type": "code",
   "execution_count": 37,
   "id": "4748a1db",
   "metadata": {},
   "outputs": [
    {
     "data": {
      "text/plain": [
       "1"
      ]
     },
     "execution_count": 37,
     "metadata": {},
     "output_type": "execute_result"
    }
   ],
   "source": [
    "tup.count(2)"
   ]
  },
  {
   "cell_type": "code",
   "execution_count": 40,
   "id": "b6b0fa4e",
   "metadata": {},
   "outputs": [
    {
     "data": {
      "text/plain": [
       "3"
      ]
     },
     "execution_count": 40,
     "metadata": {},
     "output_type": "execute_result"
    }
   ],
   "source": [
    "tup = (2,\"kazeem\", \"olaitan\",\"james\", \"ade\",[2,3,6,7],2,2,26,42)\n",
    "tup[5][1]"
   ]
  },
  {
   "cell_type": "code",
   "execution_count": 43,
   "id": "670e0828",
   "metadata": {},
   "outputs": [
    {
     "data": {
      "text/plain": [
       "3"
      ]
     },
     "execution_count": 43,
     "metadata": {},
     "output_type": "execute_result"
    }
   ],
   "source": [
    "tup.count(2)"
   ]
  },
  {
   "cell_type": "code",
   "execution_count": null,
   "id": "7b79389b",
   "metadata": {},
   "outputs": [],
   "source": [
    "# set : it removes duplicates entry and sort the data in ascending order\n",
    "# dictionary: a type of data that has key and valuse pair relatiinship"
   ]
  },
  {
   "cell_type": "code",
   "execution_count": null,
   "id": "373c36d3",
   "metadata": {},
   "outputs": [],
   "source": [
    " set1 = {100,300,7,2,9,0,5,3,2,2,2,}"
   ]
  },
  {
   "cell_type": "code",
   "execution_count": null,
   "id": "d96acf89",
   "metadata": {},
   "outputs": [],
   "source": []
  }
 ],
 "metadata": {
  "kernelspec": {
   "display_name": "Python 3 (ipykernel)",
   "language": "python",
   "name": "python3"
  },
  "language_info": {
   "codemirror_mode": {
    "name": "ipython",
    "version": 3
   },
   "file_extension": ".py",
   "mimetype": "text/x-python",
   "name": "python",
   "nbconvert_exporter": "python",
   "pygments_lexer": "ipython3",
   "version": "3.9.13"
  }
 },
 "nbformat": 4,
 "nbformat_minor": 5
}
