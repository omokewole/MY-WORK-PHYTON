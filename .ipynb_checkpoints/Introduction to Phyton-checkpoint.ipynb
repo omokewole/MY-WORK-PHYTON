{
 "cells": [
  {
   "cell_type": "markdown",
   "id": "f853e8ef",
   "metadata": {},
   "source": [
    "# intro to python\n",
    "## Intro to Phyton\n",
    "#### Intro to phyton\n",
    "##### Intro to Phyton\n",
    "\n",
    "python was fun to learn, this is an inntroduction \n",
    "\n",
    "## Order List \n",
    "1. point one \n",
    "2. point two \n",
    "3. point three\n",
    "\n",
    "## unorder list\n",
    "- point one \n",
    "- point two \n",
    "- point three\n"
   ]
  },
  {
   "cell_type": "markdown",
   "id": "1fadaa2f",
   "metadata": {},
   "source": [
    "- a to add a cell above \n",
    "- b to add a cell below\n",
    "- x to delete cell\n",
    "- the cell has to be on blue to to add cells\n",
    "- to start a comment in the  code cell in python, you begin with #\n",
    " # i am about to write my first python code\n"
   ]
  },
  {
   "cell_type": "code",
   "execution_count": 6,
   "id": "e120a613",
   "metadata": {},
   "outputs": [
    {
     "name": "stdout",
     "output_type": "stream",
     "text": [
      "Hello world, i am here learing python for data science\n"
     ]
    }
   ],
   "source": [
    " print(\"Hello world, i am here learing python for data science\")"
   ]
  },
  {
   "cell_type": "markdown",
   "id": "bf68de66",
   "metadata": {},
   "source": [
    "# variable and identifier\n",
    "- A variable is any object or value that occupy space on computer memory\n",
    "- An identifier is used to identifu variable"
   ]
  },
  {
   "cell_type": "code",
   "execution_count": 13,
   "id": "6e4b125b",
   "metadata": {},
   "outputs": [
    {
     "name": "stdout",
     "output_type": "stream",
     "text": [
      "2\n"
     ]
    }
   ],
   "source": [
    "num1=2\n",
    "print(num1)"
   ]
  },
  {
   "cell_type": "markdown",
   "id": "d9e7f1b2",
   "metadata": {},
   "source": [
    "## Rules for naming variable\n",
    "- variable name cannot start with a number, although, number can be found any where else\n",
    "- Any special character can not be included in a variable name except underscore\n",
    "- name_ = \"olaitan\" is allowed\n",
    "- variable name cannot be joined with white space(space), use underscore\n",
    "- the python reserved words cannot be used as variable name\n",
    "- variable name needs to be descriptive\n",
    "- text needs to be coated \n",
    "- number cannot be coated\n",
    "- \\n means next line\n",
    "- input is to take input from user and put in variable\n",
    "\n"
   ]
  },
  {
   "cell_type": "code",
   "execution_count": 14,
   "id": "5d6e576c",
   "metadata": {},
   "outputs": [
    {
     "ename": "NameError",
     "evalue": "name 'last_name' is not defined",
     "output_type": "error",
     "traceback": [
      "\u001b[1;31m---------------------------------------------------------------------------\u001b[0m",
      "\u001b[1;31mNameError\u001b[0m                                 Traceback (most recent call last)",
      "\u001b[1;32m~\\AppData\\Local\\Temp\\ipykernel_9436\\2720585998.py\u001b[0m in \u001b[0;36m<module>\u001b[1;34m\u001b[0m\n\u001b[0;32m      3\u001b[0m \u001b[0mage\u001b[0m \u001b[1;33m=\u001b[0m \u001b[1;36m12\u001b[0m\u001b[1;33m\u001b[0m\u001b[1;33m\u001b[0m\u001b[0m\n\u001b[0;32m      4\u001b[0m \u001b[0mcourse\u001b[0m \u001b[1;33m=\u001b[0m \u001b[1;34m\" Data Analysis\"\u001b[0m\u001b[1;33m\u001b[0m\u001b[1;33m\u001b[0m\u001b[0m\n\u001b[1;32m----> 5\u001b[1;33m \u001b[0mprint\u001b[0m\u001b[1;33m(\u001b[0m\u001b[1;34m\"Hello everyone!!!. \\n my name is\"\u001b[0m\u001b[1;33m,\u001b[0m \u001b[0mfirst_name\u001b[0m\u001b[1;33m,\u001b[0m \u001b[0mlast_name\u001b[0m\u001b[1;33m,\u001b[0m \u001b[1;34m\"I am\"\u001b[0m\u001b[1;33m,\u001b[0m \u001b[0mage\u001b[0m\u001b[1;33m,\u001b[0m \u001b[1;34m\" years old\"\u001b[0m\u001b[1;33m,\u001b[0m \u001b[1;34m\"Taking the course\"\u001b[0m\u001b[1;33m,\u001b[0m \u001b[0mcourse\u001b[0m\u001b[1;33m)\u001b[0m\u001b[1;33m\u001b[0m\u001b[1;33m\u001b[0m\u001b[0m\n\u001b[0m",
      "\u001b[1;31mNameError\u001b[0m: name 'last_name' is not defined"
     ]
    }
   ],
   "source": [
    "first_name = \"Oreagba\"\n",
    "Last_name = \"Omotoke\"\n",
    "age = 12\n",
    "course = \" Data Analysis\"\n",
    "print(\"Hello everyone!!!. \\n my name is\", first_name, last_name, \"I am\", age, \" years old\", \"Taking the course\", course)"
   ]
  },
  {
   "cell_type": "code",
   "execution_count": 15,
   "id": "83216c7e",
   "metadata": {},
   "outputs": [
    {
     "name": "stdout",
     "output_type": "stream",
     "text": [
      "Hello everyone!!!. \n",
      " my name is Oreagba Omotoke I am 12  years old Taking the course  Data Analysis\n"
     ]
    }
   ],
   "source": [
    "First_name = \"Oreagba\"\n",
    "Last_name = \"Omotoke\"\n",
    "age = 12\n",
    "course = \" Data Analysis\"\n",
    "print(\"Hello everyone!!!. \\n my name is\", First_name, Last_name, \"I am\", age, \" years old\", \"Taking the course\", course)"
   ]
  },
  {
   "cell_type": "code",
   "execution_count": 16,
   "id": "aaf872ae",
   "metadata": {},
   "outputs": [
    {
     "name": "stdout",
     "output_type": "stream",
     "text": [
      "Hello everyone!!!. \n",
      " my name is Oreagba Omotoke  \n",
      " I am 12  years old \n",
      " Taking the course  Data Analysis\n"
     ]
    }
   ],
   "source": [
    "First_name = \"Oreagba\"\n",
    "Last_name = \"Omotoke\"\n",
    "age = 12\n",
    "course = \" Data Analysis\"\n",
    "print(\"Hello everyone!!!. \\n my name is\", First_name, Last_name, \" \\n I am\", age, \" years old\", \"\\n Taking the course\", course)"
   ]
  },
  {
   "cell_type": "code",
   "execution_count": 2,
   "id": "0ffc4e06",
   "metadata": {},
   "outputs": [
    {
     "name": "stdout",
     "output_type": "stream",
     "text": [
      "please enter your first name7\n",
      "please enter your last name9\n",
      "how old are you0\n",
      "what course are you taking8\n",
      "Hello everyone!!!. \n",
      " my name is 7 9  \n",
      " I am 0  years old \n",
      " Taking the course 8\n"
     ]
    }
   ],
   "source": [
    "First_name = input (\"please enter your first name\")\n",
    "Last_name = input (\"please enter your last name\")\n",
    "age = input (\"how old are you\")\n",
    "course = input (\"what course are you taking\")\n",
    "print(\"Hello everyone!!!. \\n my name is\", First_name, Last_name, \" \\n I am\", age, \" years old\", \"\\n Taking the course\", course)"
   ]
  },
  {
   "cell_type": "code",
   "execution_count": null,
   "id": "c9551e29",
   "metadata": {},
   "outputs": [],
   "source": [
    "First_name = input (\"please enter your first name\")\n",
    "Last_name = input (\"please enter your last name\")\n",
    "age = input (\"how old are you\")\n",
    "course = input (\"what course are you taking\")\n",
    "print(\"Hello everyone!!!. \\n my name is\", First_name, Last_name, \" \\n I am\", age, \" years old\", \"\\n Taking the course\", cou"
   ]
  },
  {
   "cell_type": "code",
   "execution_count": 5,
   "id": "dd091934",
   "metadata": {},
   "outputs": [
    {
     "name": "stdout",
     "output_type": "stream",
     "text": [
      "please enter the first number 4\n",
      "please enter the second number 5\n",
      "The sum of the numbers entered is  9\n"
     ]
    }
   ],
   "source": [
    "# write a phyton script to take two numbers from a user and sum of the number\n",
    "number1 = int (input(\"please enter the first number \"))\n",
    "number2 = int (input (\"please enter the second number \"))\n",
    "total = number1 + number2\n",
    "print (\"The sum of the numbers entered is \", total)"
   ]
  },
  {
   "cell_type": "markdown",
   "id": "cafe5350",
   "metadata": {},
   "source": [
    "# operators in phyton. operators are used to manipulate operand\n",
    "- Arithmetic operator\n",
    "- Comparison Operator\n",
    "- identity operator\n",
    "- membership operator\n",
    "- logical operator "
   ]
  },
  {
   "cell_type": "markdown",
   "id": "01f0f99a",
   "metadata": {},
   "source": [
    "# Arithmetic Operator"
   ]
  },
  {
   "cell_type": "code",
   "execution_count": 8,
   "id": "7aba59dd",
   "metadata": {},
   "outputs": [
    {
     "name": "stdout",
     "output_type": "stream",
     "text": [
      "32\n"
     ]
    }
   ],
   "source": [
    "\n",
    "## addition \n",
    "a = 12\n",
    "b = 20\n",
    "c = a+b\n",
    "print (c)"
   ]
  },
  {
   "cell_type": "code",
   "execution_count": 9,
   "id": "5a5990da",
   "metadata": {},
   "outputs": [
    {
     "name": "stdout",
     "output_type": "stream",
     "text": [
      "-8\n"
     ]
    }
   ],
   "source": [
    "\n",
    "## subtraction\n",
    "a = 12\n",
    "b = 20\n",
    "c = a-b\n",
    "print (c)"
   ]
  },
  {
   "cell_type": "code",
   "execution_count": 10,
   "id": "5fa532a2",
   "metadata": {},
   "outputs": [
    {
     "name": "stdout",
     "output_type": "stream",
     "text": [
      "0.6\n"
     ]
    }
   ],
   "source": [
    "# division\n",
    "a = 12\n",
    "b = 20\n",
    "c = a/b\n",
    "print (c)"
   ]
  },
  {
   "cell_type": "code",
   "execution_count": 13,
   "id": "718b79b5",
   "metadata": {},
   "outputs": [
    {
     "name": "stdout",
     "output_type": "stream",
     "text": [
      "1\n"
     ]
    }
   ],
   "source": [
    "# modulus (%) it returns the remainder of division\n",
    "a = 10\n",
    "b = 3\n",
    "c = a % b\n",
    "print (c)"
   ]
  },
  {
   "cell_type": "markdown",
   "id": "13524627",
   "metadata": {},
   "source": [
    "# comperasion . it compares two or more variable and the out come is buliane "
   ]
  },
  {
   "cell_type": "code",
   "execution_count": 14,
   "id": "5681f429",
   "metadata": {},
   "outputs": [
    {
     "data": {
      "text/plain": [
       "False"
      ]
     },
     "execution_count": 14,
     "metadata": {},
     "output_type": "execute_result"
    }
   ],
   "source": [
    "\n",
    "# greater than \n",
    "a = 6 \n",
    "b = 20 \n",
    "a > b"
   ]
  },
  {
   "cell_type": "code",
   "execution_count": 15,
   "id": "1d3d2e1c",
   "metadata": {},
   "outputs": [
    {
     "data": {
      "text/plain": [
       "False"
      ]
     },
     "execution_count": 15,
     "metadata": {},
     "output_type": "execute_result"
    }
   ],
   "source": [
    "# greater than or equals to (>=)\n",
    "a = 6 \n",
    "b= 8\n",
    "a >= b"
   ]
  },
  {
   "cell_type": "code",
   "execution_count": 17,
   "id": "7cfa349d",
   "metadata": {},
   "outputs": [
    {
     "data": {
      "text/plain": [
       "True"
      ]
     },
     "execution_count": 17,
     "metadata": {},
     "output_type": "execute_result"
    }
   ],
   "source": [
    "# less\n",
    "a = 6 \n",
    "b= 8\n",
    "a <= b"
   ]
  },
  {
   "cell_type": "code",
   "execution_count": 18,
   "id": "29e934b0",
   "metadata": {},
   "outputs": [
    {
     "data": {
      "text/plain": [
       "True"
      ]
     },
     "execution_count": 18,
     "metadata": {},
     "output_type": "execute_result"
    }
   ],
   "source": [
    "# less than or equals to (<=)\n",
    "a = 6 \n",
    "b= 8\n",
    "a <= b"
   ]
  },
  {
   "cell_type": "code",
   "execution_count": 19,
   "id": "6fdd20be",
   "metadata": {},
   "outputs": [
    {
     "data": {
      "text/plain": [
       "False"
      ]
     },
     "execution_count": 19,
     "metadata": {},
     "output_type": "execute_result"
    }
   ],
   "source": [
    "# equal to  (==)\n",
    "a = 10\n",
    "b = 8\n",
    "a == b \n"
   ]
  },
  {
   "cell_type": "code",
   "execution_count": null,
   "id": "88a0cb7e",
   "metadata": {},
   "outputs": [],
   "source": [
    "a = b # assigning "
   ]
  },
  {
   "cell_type": "markdown",
   "id": "ae66cfa6",
   "metadata": {},
   "source": [
    "# Assignment Operator"
   ]
  },
  {
   "cell_type": "code",
   "execution_count": 20,
   "id": "9a140bb9",
   "metadata": {},
   "outputs": [
    {
     "name": "stdout",
     "output_type": "stream",
     "text": [
      "4\n"
     ]
    }
   ],
   "source": [
    "# equals \n",
    "a = 4\n",
    "print (a)"
   ]
  },
  {
   "cell_type": "code",
   "execution_count": 21,
   "id": "3824935a",
   "metadata": {},
   "outputs": [
    {
     "name": "stdout",
     "output_type": "stream",
     "text": [
      "value of toke before increament 2\n",
      "value of toke after increament 6\n"
     ]
    }
   ],
   "source": [
    "# increament\n",
    "toke = 2\n",
    "print (\"value of toke before increament\", toke)\n",
    "toke += 4\n",
    "print (\"value of toke after increament\", toke)\n"
   ]
  },
  {
   "cell_type": "code",
   "execution_count": 22,
   "id": "2cfd684f",
   "metadata": {},
   "outputs": [
    {
     "name": "stdout",
     "output_type": "stream",
     "text": [
      "value of toke before increament 10\n",
      "value of toke after increament 6\n"
     ]
    }
   ],
   "source": [
    "# decreament\n",
    "toke = 10\n",
    "print (\"value of toke before increament\", toke)\n",
    "toke -= 4\n",
    "print (\"value of toke after increament\", toke)\n"
   ]
  },
  {
   "cell_type": "markdown",
   "id": "582b2d40",
   "metadata": {},
   "source": [
    "# MEMBERSHIP Operator\n",
    "## it returns a bulian result"
   ]
  },
  {
   "cell_type": "code",
   "execution_count": null,
   "id": "4e41566f",
   "metadata": {},
   "outputs": [],
   "source": [
    "in / not in,\n",
    "4 in [1,2,3,45,67]"
   ]
  },
  {
   "cell_type": "code",
   "execution_count": 24,
   "id": "00c36514",
   "metadata": {},
   "outputs": [
    {
     "data": {
      "text/plain": [
       "False"
      ]
     },
     "execution_count": 24,
     "metadata": {},
     "output_type": "execute_result"
    }
   ],
   "source": [
    "4 in [1,2,3,45,67]"
   ]
  },
  {
   "cell_type": "code",
   "execution_count": 25,
   "id": "d198e5ee",
   "metadata": {},
   "outputs": [
    {
     "data": {
      "text/plain": [
       "False"
      ]
     },
     "execution_count": 25,
     "metadata": {},
     "output_type": "execute_result"
    }
   ],
   "source": [
    "7 not in [1,2,3,4,5,7,89,56]"
   ]
  },
  {
   "cell_type": "code",
   "execution_count": null,
   "id": "f8949dba",
   "metadata": {},
   "outputs": [],
   "source": [
    "#identity\n",
    "is/  is not "
   ]
  },
  {
   "cell_type": "code",
   "execution_count": 26,
   "id": "952e0905",
   "metadata": {},
   "outputs": [
    {
     "name": "stderr",
     "output_type": "stream",
     "text": [
      "<>:1: SyntaxWarning: \"is\" with a literal. Did you mean \"==\"?\n",
      "<>:1: SyntaxWarning: \"is\" with a literal. Did you mean \"==\"?\n",
      "C:\\Users\\Sober\\AppData\\Local\\Temp\\ipykernel_8884\\672288743.py:1: SyntaxWarning: \"is\" with a literal. Did you mean \"==\"?\n",
      "  4 is 4\n"
     ]
    },
    {
     "data": {
      "text/plain": [
       "True"
      ]
     },
     "execution_count": 26,
     "metadata": {},
     "output_type": "execute_result"
    }
   ],
   "source": [
    "4 is 4"
   ]
  },
  {
   "cell_type": "code",
   "execution_count": 27,
   "id": "54c173a9",
   "metadata": {},
   "outputs": [
    {
     "data": {
      "text/plain": [
       "True"
      ]
     },
     "execution_count": 27,
     "metadata": {},
     "output_type": "execute_result"
    }
   ],
   "source": [
    "a = 4\n",
    "b = 4\n",
    "a is b"
   ]
  },
  {
   "cell_type": "code",
   "execution_count": 34,
   "id": "970feba2",
   "metadata": {},
   "outputs": [
    {
     "data": {
      "text/plain": [
       "False"
      ]
     },
     "execution_count": 34,
     "metadata": {},
     "output_type": "execute_result"
    }
   ],
   "source": [
    "a = \"Ola\"\n",
    "b = \"ola\"\n",
    "a is b\n"
   ]
  },
  {
   "cell_type": "code",
   "execution_count": 35,
   "id": "1c3bc046",
   "metadata": {},
   "outputs": [
    {
     "data": {
      "text/plain": [
       "True"
      ]
     },
     "execution_count": 35,
     "metadata": {},
     "output_type": "execute_result"
    }
   ],
   "source": [
    "# Logical\n",
    "# and / or \n",
    "(12 > 4) and (8< 12)"
   ]
  },
  {
   "cell_type": "code",
   "execution_count": 36,
   "id": "1abd5297",
   "metadata": {},
   "outputs": [
    {
     "data": {
      "text/plain": [
       "True"
      ]
     },
     "execution_count": 36,
     "metadata": {},
     "output_type": "execute_result"
    }
   ],
   "source": [
    "(12> 4) or (8<4)"
   ]
  },
  {
   "cell_type": "markdown",
   "id": "a8f69ac3",
   "metadata": {},
   "source": [
    " # Datatype in Python\n",
    " \n",
    " - mutable datatype: datatype that can be modified after declaration\n",
    " - list \n",
    " - dictionary\n",
    " - set\n",
    " \n",
    " \n",
    " - \n",
    " - immutable datatype: datatype cannot be modified after declaration\n",
    " - number\n",
    " - str\n",
    " - tuple\n",
    " "
   ]
  },
  {
   "cell_type": "code",
   "execution_count": null,
   "id": "db6472aa",
   "metadata": {},
   "outputs": [],
   "source": [
    "# number\n",
    "int  = whole number  ( it cannot be modified but yu can over ride it)\n",
    "float = number with decimals\n",
    "complex = 3 + 3J"
   ]
  },
  {
   "cell_type": "code",
   "execution_count": null,
   "id": "87fc6468",
   "metadata": {},
   "outputs": [],
   "source": [
    " # str : are sequence of characters\n",
    "    name =  'ola'\n",
    "    name = \"ola\"\n",
    "    name = \"\"\" this is used when the string is\n",
    "    very long in a way that it\n",
    "    moves to the next line\"\"\""
   ]
  },
  {
   "cell_type": "markdown",
   "id": "11640873",
   "metadata": {},
   "source": [
    "# indexing and slicing\n",
    "\n",
    "## indexing\n",
    "forward indexing starts counting from the front first letter from 0\n",
    "backward indexing starts counting from the back from -1"
   ]
  },
  {
   "cell_type": "code",
   "execution_count": 38,
   "id": "049e15e2",
   "metadata": {},
   "outputs": [
    {
     "data": {
      "text/plain": [
       "'i'"
      ]
     },
     "execution_count": 38,
     "metadata": {},
     "output_type": "execute_result"
    }
   ],
   "source": [
    "name = \"olaitan\"\n",
    "name [3] forward indexing"
   ]
  },
  {
   "cell_type": "code",
   "execution_count": 40,
   "id": "a85cedd1",
   "metadata": {},
   "outputs": [
    {
     "data": {
      "text/plain": [
       "'l'"
      ]
     },
     "execution_count": 40,
     "metadata": {},
     "output_type": "execute_result"
    }
   ],
   "source": [
    "name = \"olaitan\"\n",
    "name[-6] backward indexing"
   ]
  },
  {
   "cell_type": "markdown",
   "id": "6f62eacc",
   "metadata": {},
   "source": [
    "# slicing\n",
    "- index no: position no: skip no\n",
    "\n",
    "- index no counts from 0 \n",
    "- position number counts from 1"
   ]
  },
  {
   "cell_type": "code",
   "execution_count": 41,
   "id": "48d40869",
   "metadata": {},
   "outputs": [
    {
     "data": {
      "text/plain": [
       "'ai'"
      ]
     },
     "execution_count": 41,
     "metadata": {},
     "output_type": "execute_result"
    }
   ],
   "source": [
    "name = \"olaitana\"\n",
    "\"return ai from olaitan\"\n",
    "name[2: 4]"
   ]
  },
  {
   "cell_type": "code",
   "execution_count": 42,
   "id": "ebc69457",
   "metadata": {},
   "outputs": [
    {
     "data": {
      "text/plain": [
       "'fun'"
      ]
     },
     "execution_count": 42,
     "metadata": {},
     "output_type": "execute_result"
    }
   ],
   "source": [
    "info =\"python is fun to learn\"\n",
    "#return fun from the variable\n",
    "info[10:13]"
   ]
  },
  {
   "cell_type": "code",
   "execution_count": 43,
   "id": "36515319",
   "metadata": {},
   "outputs": [
    {
     "data": {
      "text/plain": [
       "'oin'"
      ]
     },
     "execution_count": 43,
     "metadata": {},
     "output_type": "execute_result"
    }
   ],
   "source": [
    "name[0: 7:3]"
   ]
  },
  {
   "cell_type": "code",
   "execution_count": 44,
   "id": "7a6689c9",
   "metadata": {},
   "outputs": [
    {
     "ename": "SyntaxError",
     "evalue": "invalid syntax (1769612956.py, line 1)",
     "output_type": "error",
     "traceback": [
      "\u001b[1;36m  File \u001b[1;32m\"C:\\Users\\Sober\\AppData\\Local\\Temp\\ipykernel_8884\\1769612956.py\"\u001b[1;36m, line \u001b[1;32m1\u001b[0m\n\u001b[1;33m    - skip position\u001b[0m\n\u001b[1;37m           ^\u001b[0m\n\u001b[1;31mSyntaxError\u001b[0m\u001b[1;31m:\u001b[0m invalid syntax\n"
     ]
    }
   ],
   "source": [
    "- skip position\n",
    "info =\"python is fun to learn\"\n",
    "\n",
    "info[6:13:2]"
   ]
  },
  {
   "cell_type": "code",
   "execution_count": 51,
   "id": "d803f0b8",
   "metadata": {},
   "outputs": [
    {
     "data": {
      "text/plain": [
       "'if  a'"
      ]
     },
     "execution_count": 51,
     "metadata": {},
     "output_type": "execute_result"
    }
   ],
   "source": [
    "info =\"python is fun to learn\"\n",
    "#return if  a\n",
    "\n",
    "info[7:20:3]"
   ]
  },
  {
   "cell_type": "markdown",
   "id": "4f779d03",
   "metadata": {},
   "source": [
    "# string method\n",
    "1. split \n",
    "2. strip\n",
    "3. endwith\n",
    "4. startwith\n",
    "5. upper/lower\n",
    "6. find\n",
    "7. replace"
   ]
  },
  {
   "cell_type": "code",
   "execution_count": 56,
   "id": "8e849a3f",
   "metadata": {},
   "outputs": [
    {
     "data": {
      "text/plain": [
       "'python is fun to learn'"
      ]
     },
     "execution_count": 56,
     "metadata": {},
     "output_type": "execute_result"
    }
   ],
   "source": [
    " info "
   ]
  },
  {
   "cell_type": "code",
   "execution_count": 60,
   "id": "2a298985",
   "metadata": {},
   "outputs": [
    {
     "data": {
      "text/plain": [
       "['omotoke', 'is', 'a', 'goood', 'girl']"
      ]
     },
     "execution_count": 60,
     "metadata": {},
     "output_type": "execute_result"
    }
   ],
   "source": [
    "# split is use to split string at any given space or specified character. the output is list\n",
    "info.split()\n",
    "\n",
    "replace = \"omotoke is a goood girl\"\n",
    "replace. split()"
   ]
  },
  {
   "cell_type": "code",
   "execution_count": 61,
   "id": "bec57a45",
   "metadata": {},
   "outputs": [
    {
     "data": {
      "text/plain": [
       "['my', 'name', 'is', 'titi', 'i', 'am', 'taking', 'phyton', 'class']"
      ]
     },
     "execution_count": 61,
     "metadata": {},
     "output_type": "execute_result"
    }
   ],
   "source": [
    "# split is use to split string at any given space or specified character. the output is list\n",
    "gist = \"my/name/is/titi/i/am/taking/phyton/class\"\n",
    "gist.split(\"/\")\n"
   ]
  },
  {
   "cell_type": "code",
   "execution_count": 63,
   "id": "0fe4ea2a",
   "metadata": {},
   "outputs": [
    {
     "ename": "SyntaxError",
     "evalue": "invalid syntax (1654808701.py, line 3)",
     "output_type": "error",
     "traceback": [
      "\u001b[1;36m  File \u001b[1;32m\"C:\\Users\\Sober\\AppData\\Local\\Temp\\ipykernel_8884\\1654808701.py\"\u001b[1;36m, line \u001b[1;32m3\u001b[0m\n\u001b[1;33m    name strip()\u001b[0m\n\u001b[1;37m         ^\u001b[0m\n\u001b[1;31mSyntaxError\u001b[0m\u001b[1;31m:\u001b[0m invalid syntax\n"
     ]
    }
   ],
   "source": []
  },
  {
   "cell_type": "code",
   "execution_count": 64,
   "id": "a87c31b6",
   "metadata": {},
   "outputs": [
    {
     "data": {
      "text/plain": [
       "'olatian'"
      ]
     },
     "execution_count": 64,
     "metadata": {},
     "output_type": "execute_result"
    }
   ],
   "source": [
    "#strip is used ro remove excesive space before and after the text\n",
    "\n",
    "\n",
    "name = \"     olatian   \"\n",
    "name.strip()"
   ]
  },
  {
   "cell_type": "code",
   "execution_count": 66,
   "id": "68bda256",
   "metadata": {},
   "outputs": [
    {
     "data": {
      "text/plain": [
       "'olaitan'"
      ]
     },
     "execution_count": 66,
     "metadata": {},
     "output_type": "execute_result"
    }
   ],
   "source": [
    "name = \"{{{{///olaitan>>>>>>////\"\n",
    "name.strip(\"{\").strip(\"/\").strip(\">\")"
   ]
  },
  {
   "cell_type": "code",
   "execution_count": null,
   "id": "9309b4ac",
   "metadata": {},
   "outputs": [],
   "source": []
  }
 ],
 "metadata": {
  "kernelspec": {
   "display_name": "Python 3 (ipykernel)",
   "language": "python",
   "name": "python3"
  },
  "language_info": {
   "codemirror_mode": {
    "name": "ipython",
    "version": 3
   },
   "file_extension": ".py",
   "mimetype": "text/x-python",
   "name": "python",
   "nbconvert_exporter": "python",
   "pygments_lexer": "ipython3",
   "version": "3.9.13"
  }
 },
 "nbformat": 4,
 "nbformat_minor": 5
}
