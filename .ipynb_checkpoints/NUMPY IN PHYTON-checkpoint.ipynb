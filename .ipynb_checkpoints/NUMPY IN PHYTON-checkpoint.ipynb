{
 "cells": [
  {
   "cell_type": "code",
   "execution_count": null,
   "id": "b153ddcb",
   "metadata": {},
   "outputs": [],
   "source": [
    "# packages \n",
    "## libraries purposely built to provide solutions to a specific problem. \n",
    "# we have a lot of packages in phyton\n",
    "\n",
    "# numpie - numerical phyton. it is used to perform mathematical operations\n",
    "\n",
    "###  pandas - it is built to perform data manipulation\n",
    "\n",
    "### matplot or seeborn or tlotly they are built to perform data visualization in [hyton]\n",
    "\n",
    "### scikit or sklen - built to perform machine learning application\n",
    "\n",
    "### keras or pytoch - this are built to perform deep learning application\n"
   ]
  }
 ],
 "metadata": {
  "kernelspec": {
   "display_name": "Python 3 (ipykernel)",
   "language": "python",
   "name": "python3"
  },
  "language_info": {
   "codemirror_mode": {
    "name": "ipython",
    "version": 3
   },
   "file_extension": ".py",
   "mimetype": "text/x-python",
   "name": "python",
   "nbconvert_exporter": "python",
   "pygments_lexer": "ipython3",
   "version": "3.9.13"
  }
 },
 "nbformat": 4,
 "nbformat_minor": 5
}
