{
 "cells": [
  {
   "cell_type": "code",
   "execution_count": null,
   "id": "c1f5e9fc",
   "metadata": {},
   "outputs": [],
   "source": [
    "# panda "
   ]
  },
  {
   "cell_type": "code",
   "execution_count": null,
   "id": "16859027",
   "metadata": {},
   "outputs": [],
   "source": []
  },
  {
   "cell_type": "code",
   "execution_count": null,
   "id": "77c390d7",
   "metadata": {},
   "outputs": [],
   "source": [
    "# NEED FOR PANDAS"
   ]
  },
  {
   "cell_type": "code",
   "execution_count": null,
   "id": "918e4633",
   "metadata": {},
   "outputs": [],
   "source": [
    "# INSTALLATION OF PANDAS"
   ]
  },
  {
   "cell_type": "code",
   "execution_count": null,
   "id": "d0f467f3",
   "metadata": {},
   "outputs": [],
   "source": [
    "# IMPORTATION OF PANDAS"
   ]
  },
  {
   "cell_type": "code",
   "execution_count": null,
   "id": "6b24ab5c",
   "metadata": {},
   "outputs": [],
   "source": [
    "# what is series and how to create "
   ]
  },
  {
   "cell_type": "code",
   "execution_count": null,
   "id": "7d794df2",
   "metadata": {},
   "outputs": [],
   "source": []
  },
  {
   "cell_type": "code",
   "execution_count": null,
   "id": "e00b06ec",
   "metadata": {},
   "outputs": [],
   "source": [
    "# creating dataframe from a list"
   ]
  },
  {
   "cell_type": "code",
   "execution_count": null,
   "id": "7654124c",
   "metadata": {},
   "outputs": [],
   "source": [
    "# creating dataframe from list with customized index"
   ]
  },
  {
   "cell_type": "code",
   "execution_count": null,
   "id": "ddd546aa",
   "metadata": {},
   "outputs": [],
   "source": [
    "# creating dataframe  from dictinary"
   ]
  },
  {
   "cell_type": "code",
   "execution_count": null,
   "id": "a400ba03",
   "metadata": {},
   "outputs": [],
   "source": [
    "# creating dataframe  from dictinary of list"
   ]
  },
  {
   "cell_type": "code",
   "execution_count": null,
   "id": "0391c436",
   "metadata": {},
   "outputs": [],
   "source": [
    "# how to export dataframe as excel and csv file"
   ]
  },
  {
   "cell_type": "code",
   "execution_count": null,
   "id": "cb411b92",
   "metadata": {},
   "outputs": [],
   "source": [
    "# how to import excel or csv file into dataframe"
   ]
  },
  {
   "cell_type": "code",
   "execution_count": null,
   "id": "ce662812",
   "metadata": {},
   "outputs": [],
   "source": [
    "# how to check the first five row of dataframe"
   ]
  },
  {
   "cell_type": "code",
   "execution_count": null,
   "id": "042ff4c9",
   "metadata": {},
   "outputs": [],
   "source": [
    "# how to check the  last five row of dataframe"
   ]
  },
  {
   "cell_type": "code",
   "execution_count": null,
   "id": "f39900ad",
   "metadata": {},
   "outputs": [],
   "source": [
    "# how to randomly check rows of dataframe"
   ]
  },
  {
   "cell_type": "code",
   "execution_count": null,
   "id": "6fe1bef8",
   "metadata": {},
   "outputs": [],
   "source": [
    "# how to check the summary information of the dataframe "
   ]
  },
  {
   "cell_type": "code",
   "execution_count": null,
   "id": "ba20d42c",
   "metadata": {},
   "outputs": [],
   "source": [
    "# shape is used to return the dimension of the dataframe"
   ]
  },
  {
   "cell_type": "code",
   "execution_count": null,
   "id": "f7d8a390",
   "metadata": {},
   "outputs": [],
   "source": [
    "# column is used to to return all the columns name of the dataframe"
   ]
  },
  {
   "cell_type": "code",
   "execution_count": null,
   "id": "0c7396d9",
   "metadata": {},
   "outputs": [],
   "source": [
    "# check the statistical summary of the datafram"
   ]
  },
  {
   "cell_type": "code",
   "execution_count": null,
   "id": "eae9aa3c",
   "metadata": {},
   "outputs": [],
   "source": [
    "# df[col] to return a single column in form of series\n"
   ]
  },
  {
   "cell_type": "code",
   "execution_count": null,
   "id": "c58aa351",
   "metadata": {},
   "outputs": [],
   "source": [
    "# df[[col, col...col]] to return number of specify columns in form of dataframe\n"
   ]
  },
  {
   "cell_type": "code",
   "execution_count": null,
   "id": "e7a3e039",
   "metadata": {},
   "outputs": [],
   "source": [
    "# df.iloc[row, column] return row and column of the dataframe using its positon\n"
   ]
  },
  {
   "cell_type": "markdown",
   "id": "fdc0608b",
   "metadata": {},
   "source": [
    "# Print element in index one, seven, ten and column two and four from above dataframe"
   ]
  },
  {
   "cell_type": "code",
   "execution_count": null,
   "id": "2a010c03",
   "metadata": {},
   "outputs": [],
   "source": [
    "# select all the rows and first two columns of the dataframe using thier position"
   ]
  },
  {
   "cell_type": "code",
   "execution_count": null,
   "id": "78b091ad",
   "metadata": {},
   "outputs": [],
   "source": [
    "# df.loc[:, label] return the rows and columns of the dataframe using their label name\n"
   ]
  },
  {
   "cell_type": "code",
   "execution_count": null,
   "id": "21cdfd3b",
   "metadata": {},
   "outputs": [],
   "source": [
    "# using query on dataframe"
   ]
  },
  {
   "cell_type": "code",
   "execution_count": null,
   "id": "9df2e442",
   "metadata": {},
   "outputs": [],
   "source": [
    "# how to join two dataframe"
   ]
  },
  {
   "cell_type": "code",
   "execution_count": null,
   "id": "854e6fdd",
   "metadata": {},
   "outputs": [],
   "source": [
    "# how to delete rows in dataframe"
   ]
  },
  {
   "cell_type": "code",
   "execution_count": null,
   "id": "d1a4d7e3",
   "metadata": {},
   "outputs": [],
   "source": [
    "# how to delete columns in dataframe"
   ]
  },
  {
   "cell_type": "code",
   "execution_count": null,
   "id": "f9b185c6",
   "metadata": {},
   "outputs": [],
   "source": [
    "# how to add columns to dataframe"
   ]
  },
  {
   "cell_type": "code",
   "execution_count": null,
   "id": "f2a38748",
   "metadata": {},
   "outputs": [],
   "source": [
    "# rename can be used to change name of columns or index"
   ]
  },
  {
   "cell_type": "code",
   "execution_count": null,
   "id": "b4449227",
   "metadata": {},
   "outputs": [],
   "source": [
    "# checking for missing values in dataframe"
   ]
  },
  {
   "cell_type": "code",
   "execution_count": null,
   "id": "2f937f0b",
   "metadata": {},
   "outputs": [],
   "source": [
    "# treating missing values in dataframe"
   ]
  },
  {
   "cell_type": "code",
   "execution_count": null,
   "id": "9f054006",
   "metadata": {},
   "outputs": [],
   "source": [
    "# checking for duplicates record on the dataframe"
   ]
  },
  {
   "cell_type": "code",
   "execution_count": null,
   "id": "0bbb370b",
   "metadata": {},
   "outputs": [],
   "source": [
    "# treating duplicate records on the dataframe"
   ]
  },
  {
   "cell_type": "code",
   "execution_count": null,
   "id": "3e5c741f",
   "metadata": {},
   "outputs": [],
   "source": [
    "# changing the datatype of the column on the dataframe"
   ]
  },
  {
   "cell_type": "code",
   "execution_count": null,
   "id": "1e4764f9",
   "metadata": {},
   "outputs": [],
   "source": [
    "# groupby on the dataframe"
   ]
  },
  {
   "cell_type": "code",
   "execution_count": null,
   "id": "41f69ad2",
   "metadata": {},
   "outputs": [],
   "source": []
  },
  {
   "cell_type": "code",
   "execution_count": null,
   "id": "931638d7",
   "metadata": {},
   "outputs": [],
   "source": []
  }
 ],
 "metadata": {
  "kernelspec": {
   "display_name": "Python 3 (ipykernel)",
   "language": "python",
   "name": "python3"
  },
  "language_info": {
   "codemirror_mode": {
    "name": "ipython",
    "version": 3
   },
   "file_extension": ".py",
   "mimetype": "text/x-python",
   "name": "python",
   "nbconvert_exporter": "python",
   "pygments_lexer": "ipython3",
   "version": "3.9.13"
  }
 },
 "nbformat": 4,
 "nbformat_minor": 5
}
