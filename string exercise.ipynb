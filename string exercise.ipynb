{
 "cells": [
  {
   "cell_type": "markdown",
   "metadata": {},
   "source": [
    "# 1. Exercise \n",
    "\n",
    "1. Define a varible and assign a string \"Lagos School of Programming\" and return the string \"School\" to the screen\n",
    "2. Write a code the will reverse that string \" I am loving Python\"\n",
    "3. return the character of the string below by starting at index 4 to the last index of string, while skiping 3 characters\n",
    "\n",
    "\n",
    "`After python class, we will talk about numpy and pandas libraris before moving to machine learning`"
   ]
  },
  {
   "cell_type": "code",
   "execution_count": 36,
   "metadata": {},
   "outputs": [
    {
     "data": {
      "text/plain": [
       "'School'"
      ]
     },
     "execution_count": 36,
     "metadata": {},
     "output_type": "execute_result"
    }
   ],
   "source": [
    "my_programme = \"Lagos School of Programming\"\n",
    "my_programme [6:12]"
   ]
  },
  {
   "cell_type": "code",
   "execution_count": 37,
   "metadata": {},
   "outputs": [
    {
     "data": {
      "text/plain": [
       "'nohtyP gnivol ma I'"
      ]
     },
     "execution_count": 37,
     "metadata": {},
     "output_type": "execute_result"
    }
   ],
   "source": [
    "reverse_code= \"I am loving Python\"\n",
    "reverse_code [::-1]"
   ]
  },
  {
   "cell_type": "code",
   "execution_count": 38,
   "metadata": {},
   "outputs": [
    {
     "data": {
      "text/plain": [
       "'ryocs  ltkbtuynpd br feontmheeng'"
      ]
     },
     "execution_count": 38,
     "metadata": {},
     "output_type": "execute_result"
    }
   ],
   "source": [
    "case= \"After python class, we will talk about numpy and pandas libraris before moving to machine learning\"\n",
    "\n",
    "case[4:98:3]"
   ]
  },
  {
   "cell_type": "markdown",
   "metadata": {},
   "source": [
    "# Exercise \n",
    "\n",
    "1. covert the following list to string and return the number of character we have\n",
    "\n",
    "`[\"python\", \"is\", \"fun\", \"but\", \"require\", \"alot\", \"of\", \"practicing\", \"to \", \"master\", \"it\"]`\n",
    "    \n",
    "2. covert the following string to a list using a dot character.`\"Python.is.a.multi.purpose.programming.language.we.can.use.it.for.machine.learning\"`\n",
    "\n",
    "____________________\n",
    "3. Define a variable `\"Javascript\"` and update it to `\"python\"`"
   ]
  },
  {
   "cell_type": "code",
   "execution_count": 41,
   "metadata": {},
   "outputs": [
    {
     "data": {
      "text/plain": [
       "'python is fun but require alot of practicing to  master it'"
      ]
     },
     "execution_count": 41,
     "metadata": {},
     "output_type": "execute_result"
    }
   ],
   "source": [
    "love=  [\"python\", \"is\", \"fun\", \"but\", \"require\", \"alot\", \"of\", \"practicing\", \"to \", \"master\", \"it\"]\n",
    "\n",
    "' '.join(love) \n"
   ]
  },
  {
   "cell_type": "code",
   "execution_count": 46,
   "metadata": {},
   "outputs": [
    {
     "name": "stdout",
     "output_type": "stream",
     "text": [
      "11\n"
     ]
    }
   ],
   "source": [
    "love=  [\"python\", \"is\", \"fun\", \"but\", \"require\", \"alot\", \"of\", \"practicing\", \"to \", \"master\", \"it\"]\n",
    "print(len(love))"
   ]
  },
  {
   "cell_type": "code",
   "execution_count": 52,
   "metadata": {},
   "outputs": [
    {
     "data": {
      "text/plain": [
       "['Python',\n",
       " 'is',\n",
       " 'a',\n",
       " 'multi',\n",
       " 'purpose',\n",
       " 'programming',\n",
       " 'language',\n",
       " 'we',\n",
       " 'can',\n",
       " 'use',\n",
       " 'it',\n",
       " 'for',\n",
       " 'machine',\n",
       " 'learning']"
      ]
     },
     "execution_count": 52,
     "metadata": {},
     "output_type": "execute_result"
    }
   ],
   "source": [
    "  convert = \"Python.is.a.multi.purpose.programming.language.we.can.use.it.for.machine.learning\"\n",
    "    \n",
    "convert.split(\".\")"
   ]
  },
  {
   "cell_type": "markdown",
   "metadata": {},
   "source": [
    "# Exercise\n",
    "\n",
    "list1 =  [  [23,67,6,76], [[\"Adult\", \"Youth\", \"Tenager\", \"Toddler\"],\"Attractive\", \"Talkative\", \"Boldness\", \"Friendly\"]    \n",
    "           \n",
    ", [[[\"Lagos\", \"Ibadan\", \"Ilorin\", \"Kano\"], \"Nigeria\", \"Ghana\", \"Tunisia\", \"Algeria\"], \"Bad\", \"Good\", \"Best\", \"Better\"] ]\n",
    "\n",
    "\n",
    "**Using the list above, peform the following task**\n",
    "\n",
    "1. return element 6 from the list\n",
    "2. return elements \"Attractive\", \"Talkative\", \"Boldness\", \"Friendly\" from the list\n",
    "3. return element   \"Best\" from the list\n",
    "4. return elements  \"Ibadan\", \"Ilorin\", \"Kano\" from the list\n",
    "5. return elements \"Bad\", \"Good\", \"Best\", \"Better\" from the list\n",
    "\n"
   ]
  },
  {
   "cell_type": "code",
   "execution_count": 1,
   "metadata": {},
   "outputs": [
    {
     "data": {
      "text/plain": [
       "[[23, 67, 6, 76],\n",
       " [['Adult', 'Youth', 'Tenager', 'Toddler'],\n",
       "  'Attractive',\n",
       "  'Talkative',\n",
       "  'Boldness',\n",
       "  'Friendly'],\n",
       " [[['Lagos', 'Ibadan', 'Ilorin', 'Kano'],\n",
       "   'Nigeria',\n",
       "   'Ghana',\n",
       "   'Tunisia',\n",
       "   'Algeria'],\n",
       "  'Bad',\n",
       "  'Good',\n",
       "  'Best',\n",
       "  'Better']]"
      ]
     },
     "execution_count": 1,
     "metadata": {},
     "output_type": "execute_result"
    }
   ],
   "source": [
    "list1 = [ [23,67,6,76], [[\"Adult\", \"Youth\", \"Tenager\", \"Toddler\"],\"Attractive\", \"Talkative\", \"Boldness\", \"Friendly\"]\n",
    "\n",
    ", [[[\"Lagos\", \"Ibadan\", \"Ilorin\", \"Kano\"], \"Nigeria\", \"Ghana\", \"Tunisia\", \"Algeria\"], \"Bad\", \"Good\", \"Best\", \"Better\"] ]\n",
    "\n",
    "list1"
   ]
  },
  {
   "cell_type": "code",
   "execution_count": 39,
   "metadata": {},
   "outputs": [
    {
     "data": {
      "text/plain": [
       "[67, 6, 76]"
      ]
     },
     "execution_count": 39,
     "metadata": {},
     "output_type": "execute_result"
    }
   ],
   "source": [
    "list1[0][1:4]"
   ]
  },
  {
   "cell_type": "code",
   "execution_count": 27,
   "metadata": {},
   "outputs": [
    {
     "data": {
      "text/plain": [
       "['Attractive', 'Talkative', 'Boldness', 'Friendly']"
      ]
     },
     "execution_count": 27,
     "metadata": {},
     "output_type": "execute_result"
    }
   ],
   "source": [
    "list1 [1][1:5]"
   ]
  },
  {
   "cell_type": "code",
   "execution_count": 46,
   "metadata": {},
   "outputs": [
    {
     "data": {
      "text/plain": [
       "'Best'"
      ]
     },
     "execution_count": 46,
     "metadata": {},
     "output_type": "execute_result"
    }
   ],
   "source": [
    "list1[2][3]"
   ]
  },
  {
   "cell_type": "code",
   "execution_count": null,
   "metadata": {},
   "outputs": [],
   "source": [
    "list1 = [ [23,67,6,76], [[\"Adult\", \"Youth\", \"Tenager\", \"Toddler\"],\"Attractive\", \"Talkative\", \"Boldness\", \"Friendly\"]\n",
    "\n",
    ", [[[\"Lagos\", \"Ibadan\", \"Ilorin\", \"Kano\"], \"Nigeria\", \"Ghana\", \"Tunisia\", \"Algeria\"], \"Bad\", \"Good\", \"Best\", \"Better\"] ]\n"
   ]
  },
  {
   "cell_type": "code",
   "execution_count": 29,
   "metadata": {},
   "outputs": [
    {
     "data": {
      "text/plain": [
       "['Ibadan', 'Ilorin', 'Kano']"
      ]
     },
     "execution_count": 29,
     "metadata": {},
     "output_type": "execute_result"
    }
   ],
   "source": [
    "list1 [2][0][0][1:4]"
   ]
  },
  {
   "cell_type": "code",
   "execution_count": 35,
   "metadata": {},
   "outputs": [
    {
     "data": {
      "text/plain": [
       "['Bad', 'Good', 'Best', 'Better']"
      ]
     },
     "execution_count": 35,
     "metadata": {},
     "output_type": "execute_result"
    }
   ],
   "source": [
    "list1 [2][1:5]"
   ]
  },
  {
   "cell_type": "code",
   "execution_count": null,
   "metadata": {},
   "outputs": [],
   "source": []
  }
 ],
 "metadata": {
  "kernelspec": {
   "display_name": "Python 3 (ipykernel)",
   "language": "python",
   "name": "python3"
  },
  "language_info": {
   "codemirror_mode": {
    "name": "ipython",
    "version": 3
   },
   "file_extension": ".py",
   "mimetype": "text/x-python",
   "name": "python",
   "nbconvert_exporter": "python",
   "pygments_lexer": "ipython3",
   "version": "3.9.13"
  }
 },
 "nbformat": 4,
 "nbformat_minor": 4
}
