{
 "cells": [
  {
   "cell_type": "code",
   "execution_count": 4,
   "id": "8de13d79",
   "metadata": {},
   "outputs": [
    {
     "name": "stdout",
     "output_type": "stream",
     "text": [
      "1\n",
      "2\n",
      "3\n",
      "4\n",
      "5\n",
      "6\n",
      "7\n",
      "8\n",
      "9\n",
      "10\n"
     ]
    }
   ],
   "source": [
    "i = 1\n",
    "while i <= 10:\n",
    "    print(i)\n",
    "    i += 1\n"
   ]
  },
  {
   "cell_type": "code",
   "execution_count": 5,
   "id": "5cb766d1",
   "metadata": {},
   "outputs": [
    {
     "name": "stdout",
     "output_type": "stream",
     "text": [
      "Thailand contains 8 letters!\n",
      "Vietnam contains 7 letters!\n",
      "Malaysia contains 8 letters!\n",
      "UAE contains 3 letters!\n"
     ]
    }
   ],
   "source": [
    "countries = ['Thailand', 'Vietnam', 'Malaysia', 'UAE']\n",
    "for country in countries:\n",
    "    print(country, 'contains', len(country), 'letters!')"
   ]
  },
  {
   "cell_type": "code",
   "execution_count": 8,
   "id": "c5e9dac2",
   "metadata": {},
   "outputs": [
    {
     "name": "stdout",
     "output_type": "stream",
     "text": [
      "0\n",
      "1\n",
      "2\n",
      "3\n",
      "4\n",
      "5\n",
      "6\n"
     ]
    }
   ],
   "source": [
    "for y in range (0,7):\n",
    "    print (y)"
   ]
  },
  {
   "cell_type": "code",
   "execution_count": 9,
   "id": "e5031410",
   "metadata": {},
   "outputs": [
    {
     "name": "stdout",
     "output_type": "stream",
     "text": [
      "France\n",
      "Japan\n",
      "USA\n"
     ]
    }
   ],
   "source": [
    "countries= {\"France\": \"Paris\", \"Japan\": \"Tokyo\", \"USA\": \"Washington DC\"}\n",
    "\n",
    "for country in (countries):\n",
    "    print (country)\n",
    "    "
   ]
  },
  {
   "cell_type": "code",
   "execution_count": 10,
   "id": "80865bbe",
   "metadata": {},
   "outputs": [
    {
     "name": "stdout",
     "output_type": "stream",
     "text": [
      "my number is greater\n"
     ]
    }
   ],
   "source": [
    "x = 4 \n",
    "if x >=2:\n",
    "    print(\"my number is greater\")"
   ]
  },
  {
   "cell_type": "code",
   "execution_count": 11,
   "id": "f3ab246b",
   "metadata": {},
   "outputs": [
    {
     "name": "stdout",
     "output_type": "stream",
     "text": [
      "x is a positive number\n"
     ]
    }
   ],
   "source": [
    "x = 10\n",
    "if x > 0:\n",
    "    print(\"x is a positive number\")"
   ]
  },
  {
   "cell_type": "code",
   "execution_count": 13,
   "id": "f0755e4b",
   "metadata": {},
   "outputs": [
    {
     "name": "stdout",
     "output_type": "stream",
     "text": [
      "x is a negative number\n"
     ]
    }
   ],
   "source": [
    "x = -50\n",
    "if x > 0:\n",
    "    ptint (\"x is a positive number\")\n",
    "else:\n",
    "    print (\"x is a negative number\")"
   ]
  },
  {
   "cell_type": "code",
   "execution_count": 29,
   "id": "288111ab",
   "metadata": {},
   "outputs": [
    {
     "name": "stdout",
     "output_type": "stream",
     "text": [
      "Brand\n",
      "Model\n",
      "Year\n"
     ]
    }
   ],
   "source": [
    "myCar = { \"Brand\": \"Hyundai\", \"Model\": \"Palisade\", \"Year\": 2020}\n",
    "\n",
    "for test in (myCar):\n",
    "    print(test)"
   ]
  },
  {
   "cell_type": "code",
   "execution_count": null,
   "id": "48f3a6e9",
   "metadata": {},
   "outputs": [],
   "source": []
  },
  {
   "cell_type": "code",
   "execution_count": null,
   "id": "5c0209a9",
   "metadata": {},
   "outputs": [],
   "source": [
    "myClass = {\n",
    "  \"Instructor\" : \"Anna\",\n",
    "  \"Assistants\" : [\"Nat\", \"Ted\", \"Wei Meng\"],\n",
    "  \"Students\" : 20"
   ]
  },
  {
   "cell_type": "code",
   "execution_count": null,
   "id": "15e21ef7",
   "metadata": {},
   "outputs": [],
   "source": [
    "x = -50\n",
    "if x > 0:\n",
    "    ptint (\"x is a positive number\")\n",
    "else:\n",
    "    print (\"x is a negative number\")"
   ]
  }
 ],
 "metadata": {
  "kernelspec": {
   "display_name": "Python 3 (ipykernel)",
   "language": "python",
   "name": "python3"
  },
  "language_info": {
   "codemirror_mode": {
    "name": "ipython",
    "version": 3
   },
   "file_extension": ".py",
   "mimetype": "text/x-python",
   "name": "python",
   "nbconvert_exporter": "python",
   "pygments_lexer": "ipython3",
   "version": "3.9.13"
  }
 },
 "nbformat": 4,
 "nbformat_minor": 5
}
