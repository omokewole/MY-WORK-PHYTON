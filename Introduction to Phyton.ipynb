{
 "cells": [
  {
   "cell_type": "markdown",
   "id": "f853e8ef",
   "metadata": {},
   "source": [
    "# intro to python\n",
    "## Intro to Phyton\n",
    "#### Intro to phyton\n",
    "##### Intro to Phyton\n",
    "\n",
    "python was fun to learn, this is an inntroduction \n",
    "\n",
    "## Order List \n",
    "1. point one \n",
    "2. point two \n",
    "3. point three\n",
    "\n",
    "## unorder list\n",
    "- point one \n",
    "- point two \n",
    "- point three\n"
   ]
  },
  {
   "cell_type": "markdown",
   "id": "1fadaa2f",
   "metadata": {},
   "source": [
    "- a to add a cell above \n",
    "- b to add a cell below\n",
    "- x to delete cell\n",
    "- the cell has to be on blue to to add cells\n",
    "- to start a comment in the  code cell in python, you begin with #\n",
    " # i am about to write my first python code\n"
   ]
  },
  {
   "cell_type": "code",
   "execution_count": 6,
   "id": "e120a613",
   "metadata": {},
   "outputs": [
    {
     "name": "stdout",
     "output_type": "stream",
     "text": [
      "Hello world, i am here learing python for data science\n"
     ]
    }
   ],
   "source": [
    " print(\"Hello world, i am here learing python for data science\")"
   ]
  },
  {
   "cell_type": "markdown",
   "id": "bf68de66",
   "metadata": {},
   "source": [
    "# variable and identifier\n",
    "- A variable is any object or value that occupy space on computer memory\n",
    "- An identifier is used to identifu variable"
   ]
  },
  {
   "cell_type": "code",
   "execution_count": 13,
   "id": "6e4b125b",
   "metadata": {},
   "outputs": [
    {
     "name": "stdout",
     "output_type": "stream",
     "text": [
      "2\n"
     ]
    }
   ],
   "source": [
    "num1=2\n",
    "print(num1)"
   ]
  },
  {
   "cell_type": "markdown",
   "id": "d9e7f1b2",
   "metadata": {},
   "source": [
    "## Rules for naming variable\n",
    "- variable name cannot start with a number, although, number can be found any where else\n",
    "- Any special character can not be included in a variable name except underscore\n",
    "- name_ = \"olaitan\" is allowed\n",
    "- variable name cannot be joined with white space(space), use underscore\n",
    "- the python reserved words cannot be used as variable name\n",
    "- variable name needs to be descriptive\n",
    "- text needs to be coated \n",
    "- number cannot be coated\n",
    "- \\n means next line\n",
    "- input is to take input from user and put in variable\n",
    "\n"
   ]
  },
  {
   "cell_type": "code",
   "execution_count": 14,
   "id": "5d6e576c",
   "metadata": {},
   "outputs": [
    {
     "ename": "NameError",
     "evalue": "name 'last_name' is not defined",
     "output_type": "error",
     "traceback": [
      "\u001b[1;31m---------------------------------------------------------------------------\u001b[0m",
      "\u001b[1;31mNameError\u001b[0m                                 Traceback (most recent call last)",
      "\u001b[1;32m~\\AppData\\Local\\Temp\\ipykernel_9436\\2720585998.py\u001b[0m in \u001b[0;36m<module>\u001b[1;34m\u001b[0m\n\u001b[0;32m      3\u001b[0m \u001b[0mage\u001b[0m \u001b[1;33m=\u001b[0m \u001b[1;36m12\u001b[0m\u001b[1;33m\u001b[0m\u001b[1;33m\u001b[0m\u001b[0m\n\u001b[0;32m      4\u001b[0m \u001b[0mcourse\u001b[0m \u001b[1;33m=\u001b[0m \u001b[1;34m\" Data Analysis\"\u001b[0m\u001b[1;33m\u001b[0m\u001b[1;33m\u001b[0m\u001b[0m\n\u001b[1;32m----> 5\u001b[1;33m \u001b[0mprint\u001b[0m\u001b[1;33m(\u001b[0m\u001b[1;34m\"Hello everyone!!!. \\n my name is\"\u001b[0m\u001b[1;33m,\u001b[0m \u001b[0mfirst_name\u001b[0m\u001b[1;33m,\u001b[0m \u001b[0mlast_name\u001b[0m\u001b[1;33m,\u001b[0m \u001b[1;34m\"I am\"\u001b[0m\u001b[1;33m,\u001b[0m \u001b[0mage\u001b[0m\u001b[1;33m,\u001b[0m \u001b[1;34m\" years old\"\u001b[0m\u001b[1;33m,\u001b[0m \u001b[1;34m\"Taking the course\"\u001b[0m\u001b[1;33m,\u001b[0m \u001b[0mcourse\u001b[0m\u001b[1;33m)\u001b[0m\u001b[1;33m\u001b[0m\u001b[1;33m\u001b[0m\u001b[0m\n\u001b[0m",
      "\u001b[1;31mNameError\u001b[0m: name 'last_name' is not defined"
     ]
    }
   ],
   "source": [
    "first_name = \"Oreagba\"\n",
    "Last_name = \"Omotoke\"\n",
    "age = 12\n",
    "course = \" Data Analysis\"\n",
    "print(\"Hello everyone!!!. \\n my name is\", first_name, last_name, \"I am\", age, \" years old\", \"Taking the course\", course)"
   ]
  },
  {
   "cell_type": "code",
   "execution_count": 15,
   "id": "83216c7e",
   "metadata": {},
   "outputs": [
    {
     "name": "stdout",
     "output_type": "stream",
     "text": [
      "Hello everyone!!!. \n",
      " my name is Oreagba Omotoke I am 12  years old Taking the course  Data Analysis\n"
     ]
    }
   ],
   "source": [
    "First_name = \"Oreagba\"\n",
    "Last_name = \"Omotoke\"\n",
    "age = 12\n",
    "course = \" Data Analysis\"\n",
    "print(\"Hello everyone!!!. \\n my name is\", First_name, Last_name, \"I am\", age, \" years old\", \"Taking the course\", course)"
   ]
  },
  {
   "cell_type": "code",
   "execution_count": 16,
   "id": "aaf872ae",
   "metadata": {},
   "outputs": [
    {
     "name": "stdout",
     "output_type": "stream",
     "text": [
      "Hello everyone!!!. \n",
      " my name is Oreagba Omotoke  \n",
      " I am 12  years old \n",
      " Taking the course  Data Analysis\n"
     ]
    }
   ],
   "source": [
    "First_name = \"Oreagba\"\n",
    "Last_name = \"Omotoke\"\n",
    "age = 12\n",
    "course = \" Data Analysis\"\n",
    "print(\"Hello everyone!!!. \\n my name is\", First_name, Last_name, \" \\n I am\", age, \" years old\", \"\\n Taking the course\", course)"
   ]
  },
  {
   "cell_type": "code",
   "execution_count": 2,
   "id": "0ffc4e06",
   "metadata": {},
   "outputs": [
    {
     "name": "stdout",
     "output_type": "stream",
     "text": [
      "please enter your first name7\n",
      "please enter your last name9\n",
      "how old are you0\n",
      "what course are you taking8\n",
      "Hello everyone!!!. \n",
      " my name is 7 9  \n",
      " I am 0  years old \n",
      " Taking the course 8\n"
     ]
    }
   ],
   "source": [
    "First_name = input (\"please enter your first name\")\n",
    "Last_name = input (\"please enter your last name\")\n",
    "age = input (\"how old are you\")\n",
    "course = input (\"what course are you taking\")\n",
    "print(\"Hello everyone!!!. \\n my name is\", First_name, Last_name, \" \\n I am\", age, \" years old\", \"\\n Taking the course\", course)"
   ]
  },
  {
   "cell_type": "code",
   "execution_count": null,
   "id": "c9551e29",
   "metadata": {},
   "outputs": [],
   "source": [
    "First_name = input (\"please enter your first name\")\n",
    "Last_name = input (\"please enter your last name\")\n",
    "age = input (\"how old are you\")\n",
    "course = input (\"what course are you taking\")\n",
    "print(\"Hello everyone!!!. \\n my name is\", First_name, Last_name, \" \\n I am\", age, \" years old\", \"\\n Taking the course\", cou"
   ]
  },
  {
   "cell_type": "code",
   "execution_count": 5,
   "id": "94531130",
   "metadata": {},
   "outputs": [
    {
     "name": "stdout",
     "output_type": "stream",
     "text": [
      "please enter the first number 4\n",
      "please enter the second number 5\n",
      "The sum of the numbers entered is  9\n"
     ]
    }
   ],
   "source": [
    "# write a phyton script to take two numbers from a user and sum of the number\n",
    "number1 = int (input(\"please enter the first number \"))\n",
    "number2 = int (input (\"please enter the second number \"))\n",
    "total = number1 + number2\n",
    "print (\"The sum of the numbers entered is \", total)"
   ]
  },
  {
   "cell_type": "markdown",
   "id": "01381032",
   "metadata": {},
   "source": [
    "# operators in phyton. operators are used to manipulate operand\n",
    "- Arithmetic operator\n",
    "- Comparison Operator\n",
    "- identity operator\n",
    "- membership operator\n",
    "- logical operator "
   ]
  },
  {
   "cell_type": "markdown",
   "id": "c29460fd",
   "metadata": {},
   "source": [
    "# Arithmetic Operator"
   ]
  },
  {
   "cell_type": "code",
   "execution_count": 8,
   "id": "79085871",
   "metadata": {},
   "outputs": [
    {
     "name": "stdout",
     "output_type": "stream",
     "text": [
      "32\n"
     ]
    }
   ],
   "source": [
    "\n",
    "## addition \n",
    "a = 12\n",
    "b = 20\n",
    "c = a+b\n",
    "print (c)"
   ]
  },
  {
   "cell_type": "code",
   "execution_count": 9,
   "id": "2eea9313",
   "metadata": {},
   "outputs": [
    {
     "name": "stdout",
     "output_type": "stream",
     "text": [
      "-8\n"
     ]
    }
   ],
   "source": [
    "\n",
    "## subtraction\n",
    "a = 12\n",
    "b = 20\n",
    "c = a-b\n",
    "print (c)"
   ]
  },
  {
   "cell_type": "code",
   "execution_count": 10,
   "id": "6f7db7c3",
   "metadata": {},
   "outputs": [
    {
     "name": "stdout",
     "output_type": "stream",
     "text": [
      "0.6\n"
     ]
    }
   ],
   "source": [
    "# division\n",
    "a = 12\n",
    "b = 20\n",
    "c = a/b\n",
    "print (c)"
   ]
  },
  {
   "cell_type": "code",
   "execution_count": 13,
   "id": "267a4c08",
   "metadata": {},
   "outputs": [
    {
     "name": "stdout",
     "output_type": "stream",
     "text": [
      "1\n"
     ]
    }
   ],
   "source": [
    "# modulus (%) it returns the remainder of division\n",
    "a = 10\n",
    "b = 3\n",
    "c = a % b\n",
    "print (c)"
   ]
  },
  {
   "cell_type": "markdown",
   "id": "64c7af15",
   "metadata": {},
   "source": [
    "# comperasion . it compares two or more variable and the out come is buliane "
   ]
  },
  {
   "cell_type": "code",
   "execution_count": 14,
   "id": "e04a1d5a",
   "metadata": {},
   "outputs": [
    {
     "data": {
      "text/plain": [
       "False"
      ]
     },
     "execution_count": 14,
     "metadata": {},
     "output_type": "execute_result"
    }
   ],
   "source": [
    "\n",
    "# greater than \n",
    "a = 6 \n",
    "b = 20 \n",
    "a > b"
   ]
  },
  {
   "cell_type": "code",
   "execution_count": 15,
   "id": "302e4c47",
   "metadata": {},
   "outputs": [
    {
     "data": {
      "text/plain": [
       "False"
      ]
     },
     "execution_count": 15,
     "metadata": {},
     "output_type": "execute_result"
    }
   ],
   "source": [
    "# greater than or equals to (>=)\n",
    "a = 6 \n",
    "b= 8\n",
    "a >= b"
   ]
  },
  {
   "cell_type": "code",
   "execution_count": 17,
   "id": "0dda6ea6",
   "metadata": {},
   "outputs": [
    {
     "data": {
      "text/plain": [
       "True"
      ]
     },
     "execution_count": 17,
     "metadata": {},
     "output_type": "execute_result"
    }
   ],
   "source": [
    "# less\n",
    "a = 6 \n",
    "b= 8\n",
    "a <= b"
   ]
  },
  {
   "cell_type": "code",
   "execution_count": 18,
   "id": "19dfb616",
   "metadata": {},
   "outputs": [
    {
     "data": {
      "text/plain": [
       "True"
      ]
     },
     "execution_count": 18,
     "metadata": {},
     "output_type": "execute_result"
    }
   ],
   "source": [
    "# less than or equals to (<=)\n",
    "a = 6 \n",
    "b= 8\n",
    "a <= b"
   ]
  },
  {
   "cell_type": "code",
   "execution_count": 19,
   "id": "62c1e496",
   "metadata": {},
   "outputs": [
    {
     "data": {
      "text/plain": [
       "False"
      ]
     },
     "execution_count": 19,
     "metadata": {},
     "output_type": "execute_result"
    }
   ],
   "source": [
    "# equal to  (==)\n",
    "a = 10\n",
    "b = 8\n",
    "a == b \n"
   ]
  },
  {
   "cell_type": "code",
   "execution_count": null,
   "id": "87bb18fc",
   "metadata": {},
   "outputs": [],
   "source": [
    "a = b # assigning "
   ]
  },
  {
   "cell_type": "markdown",
   "id": "b833c7fc",
   "metadata": {},
   "source": [
    "# Assignment Operator"
   ]
  },
  {
   "cell_type": "code",
   "execution_count": 20,
   "id": "e107c626",
   "metadata": {},
   "outputs": [
    {
     "name": "stdout",
     "output_type": "stream",
     "text": [
      "4\n"
     ]
    }
   ],
   "source": [
    "# equals \n",
    "a = 4\n",
    "print (a)"
   ]
  },
  {
   "cell_type": "code",
   "execution_count": 21,
   "id": "8d4f33a8",
   "metadata": {},
   "outputs": [
    {
     "name": "stdout",
     "output_type": "stream",
     "text": [
      "value of toke before increament 2\n",
      "value of toke after increament 6\n"
     ]
    }
   ],
   "source": [
    "# increament\n",
    "toke = 2\n",
    "print (\"value of toke before increament\", toke)\n",
    "toke += 4\n",
    "print (\"value of toke after increament\", toke)\n"
   ]
  },
  {
   "cell_type": "code",
   "execution_count": 22,
   "id": "d7341d14",
   "metadata": {},
   "outputs": [
    {
     "name": "stdout",
     "output_type": "stream",
     "text": [
      "value of toke before increament 10\n",
      "value of toke after increament 6\n"
     ]
    }
   ],
   "source": [
    "# decreament\n",
    "toke = 10\n",
    "print (\"value of toke before increament\", toke)\n",
    "toke -= 4\n",
    "print (\"value of toke after increament\", toke)\n"
   ]
  },
  {
   "cell_type": "markdown",
   "id": "6ef5db38",
   "metadata": {},
   "source": [
    "# MEMBERSHIP Operator\n",
    "## it returns a bulian result"
   ]
  },
  {
   "cell_type": "code",
   "execution_count": null,
   "id": "14e2e990",
   "metadata": {},
   "outputs": [],
   "source": [
    "in / not in,\n",
    "4 in [1,2,3,45,67]"
   ]
  },
  {
   "cell_type": "code",
   "execution_count": 24,
   "id": "80f3f298",
   "metadata": {},
   "outputs": [
    {
     "data": {
      "text/plain": [
       "False"
      ]
     },
     "execution_count": 24,
     "metadata": {},
     "output_type": "execute_result"
    }
   ],
   "source": [
    "4 in [1,2,3,45,67]"
   ]
  },
  {
   "cell_type": "code",
   "execution_count": 25,
   "id": "3b55992c",
   "metadata": {},
   "outputs": [
    {
     "data": {
      "text/plain": [
       "False"
      ]
     },
     "execution_count": 25,
     "metadata": {},
     "output_type": "execute_result"
    }
   ],
   "source": [
    "7 not in [1,2,3,4,5,7,89,56]"
   ]
  },
  {
   "cell_type": "code",
   "execution_count": null,
   "id": "d4575185",
   "metadata": {},
   "outputs": [],
   "source": [
    "#identity\n",
    "is/  is not "
   ]
  },
  {
   "cell_type": "code",
   "execution_count": 26,
   "id": "daa7bc01",
   "metadata": {},
   "outputs": [
    {
     "name": "stderr",
     "output_type": "stream",
     "text": [
      "<>:1: SyntaxWarning: \"is\" with a literal. Did you mean \"==\"?\n",
      "<>:1: SyntaxWarning: \"is\" with a literal. Did you mean \"==\"?\n",
      "C:\\Users\\Sober\\AppData\\Local\\Temp\\ipykernel_8884\\672288743.py:1: SyntaxWarning: \"is\" with a literal. Did you mean \"==\"?\n",
      "  4 is 4\n"
     ]
    },
    {
     "data": {
      "text/plain": [
       "True"
      ]
     },
     "execution_count": 26,
     "metadata": {},
     "output_type": "execute_result"
    }
   ],
   "source": [
    "4 is 4"
   ]
  },
  {
   "cell_type": "code",
   "execution_count": 27,
   "id": "8d50dc3f",
   "metadata": {},
   "outputs": [
    {
     "data": {
      "text/plain": [
       "True"
      ]
     },
     "execution_count": 27,
     "metadata": {},
     "output_type": "execute_result"
    }
   ],
   "source": [
    "a = 4\n",
    "b = 4\n",
    "a is b"
   ]
  },
  {
   "cell_type": "code",
   "execution_count": 34,
   "id": "32e05271",
   "metadata": {},
   "outputs": [
    {
     "data": {
      "text/plain": [
       "False"
      ]
     },
     "execution_count": 34,
     "metadata": {},
     "output_type": "execute_result"
    }
   ],
   "source": [
    "a = \"Ola\"\n",
    "b = \"ola\"\n",
    "a is b\n"
   ]
  },
  {
   "cell_type": "code",
   "execution_count": 35,
   "id": "8e6e4f24",
   "metadata": {},
   "outputs": [
    {
     "data": {
      "text/plain": [
       "True"
      ]
     },
     "execution_count": 35,
     "metadata": {},
     "output_type": "execute_result"
    }
   ],
   "source": [
    "# Logical\n",
    "# and / or \n",
    "(12 > 4) and (8< 12)"
   ]
  },
  {
   "cell_type": "code",
   "execution_count": 36,
   "id": "6113e2d2",
   "metadata": {},
   "outputs": [
    {
     "data": {
      "text/plain": [
       "True"
      ]
     },
     "execution_count": 36,
     "metadata": {},
     "output_type": "execute_result"
    }
   ],
   "source": [
    "(12> 4) or (8<4)"
   ]
  },
  {
   "cell_type": "markdown",
   "id": "30ecaad4",
   "metadata": {},
   "source": [
    " # Datatype in Python\n",
    " \n",
    " - mutable datatype: datatype that can be modified after declaration\n",
    " - list \n",
    " - dictionary\n",
    " - set\n",
    " \n",
    " \n",
    " - \n",
    " - immutable datatype: datatype cannot be modified after declaration\n",
    " - number\n",
    " - str\n",
    " - tuple\n",
    " "
   ]
  },
  {
   "cell_type": "code",
   "execution_count": null,
   "id": "ad6cd07a",
   "metadata": {},
   "outputs": [],
   "source": [
    "# number\n",
    "int  = whole number  ( it cannot be modified but yu can over ride it)\n",
    "float = number with decimals\n",
    "complex = 3 + 3J"
   ]
  },
  {
   "cell_type": "code",
   "execution_count": null,
   "id": "7a2c1ac7",
   "metadata": {},
   "outputs": [],
   "source": [
    " # str : are sequence of characters\n",
    "    name =  'ola'\n",
    "    name = \"ola\"\n",
    "    name = \"\"\" this is used when the string is\n",
    "    very long in a way that it\n",
    "    moves to the next line\"\"\""
   ]
  },
  {
   "cell_type": "code",
   "execution_count": null,
   "id": "963352d8",
   "metadata": {},
   "outputs": [],
   "source": []
  },
  {
   "cell_type": "code",
   "execution_count": null,
   "id": "4d8d6499",
   "metadata": {},
   "outputs": [],
   "source": []
  }
 ],
 "metadata": {
  "kernelspec": {
   "display_name": "Python 3 (ipykernel)",
   "language": "python",
   "name": "python3"
  },
  "language_info": {
   "codemirror_mode": {
    "name": "ipython",
    "version": 3
   },
   "file_extension": ".py",
   "mimetype": "text/x-python",
   "name": "python",
   "nbconvert_exporter": "python",
   "pygments_lexer": "ipython3",
   "version": "3.9.13"
  }
 },
 "nbformat": 4,
 "nbformat_minor": 5
}
