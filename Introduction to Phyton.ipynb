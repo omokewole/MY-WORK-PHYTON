{
 "cells": [
  {
   "cell_type": "markdown",
   "id": "f853e8ef",
   "metadata": {},
   "source": [
    "# intro to python\n",
    "## Intro to Phyton\n",
    "#### Intro to phyton\n",
    "##### Intro to Phyton\n",
    "\n",
    "python was fun to learn, this is an inntroduction \n",
    "\n",
    "## Order List \n",
    "1. point one \n",
    "2. point two \n",
    "3. point three\n",
    "\n",
    "## unorder list\n",
    "- point one \n",
    "- point two \n",
    "- point three\n"
   ]
  },
  {
   "cell_type": "markdown",
   "id": "1fadaa2f",
   "metadata": {},
   "source": [
    "- a to add a cell above \n",
    "- b to add a cell below\n",
    "- x to delete cell\n",
    "- the cell has to be on blue to to add cells\n",
    "- to start a comment in the  code cell in python, you begin with # and must be on markdown\n",
    " # i am about to write my first python code\n"
   ]
  },
  {
   "cell_type": "code",
   "execution_count": 6,
   "id": "e120a613",
   "metadata": {},
   "outputs": [
    {
     "name": "stdout",
     "output_type": "stream",
     "text": [
      "Hello world, i am here learing python for data science\n"
     ]
    }
   ],
   "source": [
    " print(\"Hello world, i am here learing python for data science\")"
   ]
  },
  {
   "cell_type": "markdown",
   "id": "bf68de66",
   "metadata": {},
   "source": [
    "# variable and identifier\n",
    "- A variable is any object or value that occupy space on computer memory\n",
    "- An identifier is used to identifu variable"
   ]
  },
  {
   "cell_type": "code",
   "execution_count": 13,
   "id": "6e4b125b",
   "metadata": {},
   "outputs": [
    {
     "name": "stdout",
     "output_type": "stream",
     "text": [
      "2\n"
     ]
    }
   ],
   "source": [
    "num1=2\n",
    "print(num1)"
   ]
  },
  {
   "cell_type": "markdown",
   "id": "d9e7f1b2",
   "metadata": {},
   "source": [
    "## Rules for naming variable\n",
    "- variable name cannot start with a number, although, number can be found any where else\n",
    "- Any special character can not be included in a variable name except underscore\n",
    "- name_ = \"olaitan\" is allowed\n",
    "- variable name cannot be joined with white space(space), use underscore\n",
    "- the python reserved words cannot be used as variable name\n",
    "- variable name needs to be descriptive\n",
    "- text needs to be coated \n",
    "- number cannot be coated\n",
    "- \\n means next line\n",
    "- input is to take input from user and put in variable\n",
    "\n"
   ]
  },
  {
   "cell_type": "code",
   "execution_count": 14,
   "id": "5d6e576c",
   "metadata": {},
   "outputs": [
    {
     "ename": "NameError",
     "evalue": "name 'last_name' is not defined",
     "output_type": "error",
     "traceback": [
      "\u001b[1;31m---------------------------------------------------------------------------\u001b[0m",
      "\u001b[1;31mNameError\u001b[0m                                 Traceback (most recent call last)",
      "\u001b[1;32m~\\AppData\\Local\\Temp\\ipykernel_9436\\2720585998.py\u001b[0m in \u001b[0;36m<module>\u001b[1;34m\u001b[0m\n\u001b[0;32m      3\u001b[0m \u001b[0mage\u001b[0m \u001b[1;33m=\u001b[0m \u001b[1;36m12\u001b[0m\u001b[1;33m\u001b[0m\u001b[1;33m\u001b[0m\u001b[0m\n\u001b[0;32m      4\u001b[0m \u001b[0mcourse\u001b[0m \u001b[1;33m=\u001b[0m \u001b[1;34m\" Data Analysis\"\u001b[0m\u001b[1;33m\u001b[0m\u001b[1;33m\u001b[0m\u001b[0m\n\u001b[1;32m----> 5\u001b[1;33m \u001b[0mprint\u001b[0m\u001b[1;33m(\u001b[0m\u001b[1;34m\"Hello everyone!!!. \\n my name is\"\u001b[0m\u001b[1;33m,\u001b[0m \u001b[0mfirst_name\u001b[0m\u001b[1;33m,\u001b[0m \u001b[0mlast_name\u001b[0m\u001b[1;33m,\u001b[0m \u001b[1;34m\"I am\"\u001b[0m\u001b[1;33m,\u001b[0m \u001b[0mage\u001b[0m\u001b[1;33m,\u001b[0m \u001b[1;34m\" years old\"\u001b[0m\u001b[1;33m,\u001b[0m \u001b[1;34m\"Taking the course\"\u001b[0m\u001b[1;33m,\u001b[0m \u001b[0mcourse\u001b[0m\u001b[1;33m)\u001b[0m\u001b[1;33m\u001b[0m\u001b[1;33m\u001b[0m\u001b[0m\n\u001b[0m",
      "\u001b[1;31mNameError\u001b[0m: name 'last_name' is not defined"
     ]
    }
   ],
   "source": [
    "first_name = \"Oreagba\"\n",
    "Last_name = \"Omotoke\"\n",
    "age = 12\n",
    "course = \" Data Analysis\"\n",
    "print(\"Hello everyone!!!. \\n my name is\", first_name, last_name, \"I am\", age, \" years old\", \"Taking the course\", course)"
   ]
  },
  {
   "cell_type": "code",
   "execution_count": 15,
   "id": "83216c7e",
   "metadata": {},
   "outputs": [
    {
     "name": "stdout",
     "output_type": "stream",
     "text": [
      "Hello everyone!!!. \n",
      " my name is Oreagba Omotoke I am 12  years old Taking the course  Data Analysis\n"
     ]
    }
   ],
   "source": [
    "First_name = \"Oreagba\"\n",
    "Last_name = \"Omotoke\"\n",
    "age = 12\n",
    "course = \" Data Analysis\"\n",
    "print(\"Hello everyone!!!. \\n my name is\", First_name, Last_name, \"I am\", age, \" years old\", \"Taking the course\", course)"
   ]
  },
  {
   "cell_type": "code",
   "execution_count": 16,
   "id": "aaf872ae",
   "metadata": {},
   "outputs": [
    {
     "name": "stdout",
     "output_type": "stream",
     "text": [
      "Hello everyone!!!. \n",
      " my name is Oreagba Omotoke  \n",
      " I am 12  years old \n",
      " Taking the course  Data Analysis\n"
     ]
    }
   ],
   "source": [
    "First_name = \"Oreagba\"\n",
    "Last_name = \"Omotoke\"\n",
    "age = 12\n",
    "course = \" Data Analysis\"\n",
    "print(\"Hello everyone!!!. \\n my name is\", First_name, Last_name, \" \\n I am\", age, \" years old\", \"\\n Taking the course\", course)"
   ]
  },
  {
   "cell_type": "code",
   "execution_count": 1,
   "id": "0ffc4e06",
   "metadata": {},
   "outputs": [
    {
     "name": "stdout",
     "output_type": "stream",
     "text": [
      "please enter your first name toke\n",
      "please enter your last name kehinde\n",
      "how old are you  6\n",
      "what course are you taking msc\n",
      "Hello everyone!!!. \n",
      " my name is toke kehinde  \n",
      " I am 6  years old \n",
      " Taking the course msc\n"
     ]
    }
   ],
   "source": [
    "First_name = input (\"please enter your first name \")\n",
    "Last_name = input (\"please enter your last name \")\n",
    "age = input (\"how old are you  \")\n",
    "course = input (\"what course are you taking \")\n",
    "print(\"Hello everyone!!!. \\n my name is\", First_name, Last_name, \" \\n I am\", age, \" years old\", \"\\n Taking the course\", course)"
   ]
  },
  {
   "cell_type": "code",
   "execution_count": null,
   "id": "c9551e29",
   "metadata": {},
   "outputs": [],
   "source": [
    "First_name = input (\"please enter your first name\")\n",
    "Last_name = input (\"please enter your last name\")\n",
    "age = input (\"how old are you\")\n",
    "course = input (\"what course are you taking\")\n",
    "print(\"Hello everyone!!!. \\n my name is\", First_name, Last_name, \" \\n I am\", age, \" years old\", \"\\n Taking the course\", cou"
   ]
  },
  {
   "cell_type": "code",
   "execution_count": 5,
   "id": "dd091934",
   "metadata": {},
   "outputs": [
    {
     "name": "stdout",
     "output_type": "stream",
     "text": [
      "please enter the first number 4\n",
      "please enter the second number 5\n",
      "The sum of the numbers entered is  9\n"
     ]
    }
   ],
   "source": [
    "# write a phyton script to take two numbers from a user and sum of the number\n",
    "number1 = int (input(\"please enter the first number \"))\n",
    "number2 = int (input (\"please enter the second number \"))\n",
    "total = number1 + number2\n",
    "print (\"The sum of the numbers entered is \", total)"
   ]
  },
  {
   "cell_type": "markdown",
   "id": "cafe5350",
   "metadata": {},
   "source": [
    "# operators in phyton. operators are used to manipulate operand\n",
    "- Arithmetic operator\n",
    "- Comparison Operator\n",
    "- identity operator\n",
    "- membership operator\n",
    "- logical operator "
   ]
  },
  {
   "cell_type": "markdown",
   "id": "01f0f99a",
   "metadata": {},
   "source": [
    "# Arithmetic Operator"
   ]
  },
  {
   "cell_type": "code",
   "execution_count": 8,
   "id": "7aba59dd",
   "metadata": {},
   "outputs": [
    {
     "name": "stdout",
     "output_type": "stream",
     "text": [
      "32\n"
     ]
    }
   ],
   "source": [
    "\n",
    "## addition \n",
    "a = 12\n",
    "b = 20\n",
    "c = a+b\n",
    "print (c)"
   ]
  },
  {
   "cell_type": "code",
   "execution_count": 9,
   "id": "5a5990da",
   "metadata": {},
   "outputs": [
    {
     "name": "stdout",
     "output_type": "stream",
     "text": [
      "-8\n"
     ]
    }
   ],
   "source": [
    "\n",
    "## subtraction\n",
    "a = 12\n",
    "b = 20\n",
    "c = a-b\n",
    "print (c)"
   ]
  },
  {
   "cell_type": "code",
   "execution_count": 10,
   "id": "5fa532a2",
   "metadata": {},
   "outputs": [
    {
     "name": "stdout",
     "output_type": "stream",
     "text": [
      "0.6\n"
     ]
    }
   ],
   "source": [
    "# division\n",
    "a = 12\n",
    "b = 20\n",
    "c = a/b\n",
    "print (c)"
   ]
  },
  {
   "cell_type": "code",
   "execution_count": 13,
   "id": "718b79b5",
   "metadata": {},
   "outputs": [
    {
     "name": "stdout",
     "output_type": "stream",
     "text": [
      "1\n"
     ]
    }
   ],
   "source": [
    "# modulus (%) it returns the remainder of division\n",
    "a = 10\n",
    "b = 3\n",
    "c = a % b\n",
    "print (c)"
   ]
  },
  {
   "cell_type": "markdown",
   "id": "13524627",
   "metadata": {},
   "source": [
    "# comperasion . it compares two or more variable and the out come is boolean "
   ]
  },
  {
   "cell_type": "code",
   "execution_count": 1,
   "id": "5681f429",
   "metadata": {},
   "outputs": [
    {
     "data": {
      "text/plain": [
       "False"
      ]
     },
     "execution_count": 1,
     "metadata": {},
     "output_type": "execute_result"
    }
   ],
   "source": [
    "\n",
    "# greater than \n",
    "a = 6 \n",
    "b = 20 \n",
    "a > b"
   ]
  },
  {
   "cell_type": "code",
   "execution_count": 15,
   "id": "1d3d2e1c",
   "metadata": {},
   "outputs": [
    {
     "data": {
      "text/plain": [
       "False"
      ]
     },
     "execution_count": 15,
     "metadata": {},
     "output_type": "execute_result"
    }
   ],
   "source": [
    "# greater than or equals to (>=)\n",
    "a = 6 \n",
    "b= 8\n",
    "a >= b"
   ]
  },
  {
   "cell_type": "code",
   "execution_count": 17,
   "id": "7cfa349d",
   "metadata": {},
   "outputs": [
    {
     "data": {
      "text/plain": [
       "True"
      ]
     },
     "execution_count": 17,
     "metadata": {},
     "output_type": "execute_result"
    }
   ],
   "source": [
    "# less\n",
    "a = 6 \n",
    "b= 8\n",
    "a <= b"
   ]
  },
  {
   "cell_type": "code",
   "execution_count": 18,
   "id": "29e934b0",
   "metadata": {},
   "outputs": [
    {
     "data": {
      "text/plain": [
       "True"
      ]
     },
     "execution_count": 18,
     "metadata": {},
     "output_type": "execute_result"
    }
   ],
   "source": [
    "# less than or equals to (<=)\n",
    "a = 6 \n",
    "b= 8\n",
    "a <= b"
   ]
  },
  {
   "cell_type": "code",
   "execution_count": 19,
   "id": "6fdd20be",
   "metadata": {},
   "outputs": [
    {
     "data": {
      "text/plain": [
       "False"
      ]
     },
     "execution_count": 19,
     "metadata": {},
     "output_type": "execute_result"
    }
   ],
   "source": [
    "# equal to  (==)\n",
    "a = 10\n",
    "b = 8\n",
    "a == b \n"
   ]
  },
  {
   "cell_type": "code",
   "execution_count": 2,
   "id": "88a0cb7e",
   "metadata": {},
   "outputs": [
    {
     "data": {
      "text/plain": [
       "20"
      ]
     },
     "execution_count": 2,
     "metadata": {},
     "output_type": "execute_result"
    }
   ],
   "source": [
    "a = b # assigning \n",
    "a"
   ]
  },
  {
   "cell_type": "markdown",
   "id": "ae66cfa6",
   "metadata": {},
   "source": [
    "# Assignment Operator"
   ]
  },
  {
   "cell_type": "code",
   "execution_count": 20,
   "id": "9a140bb9",
   "metadata": {},
   "outputs": [
    {
     "name": "stdout",
     "output_type": "stream",
     "text": [
      "4\n"
     ]
    }
   ],
   "source": [
    "# equals \n",
    "a = 4\n",
    "print (a)"
   ]
  },
  {
   "cell_type": "code",
   "execution_count": 21,
   "id": "3824935a",
   "metadata": {},
   "outputs": [
    {
     "name": "stdout",
     "output_type": "stream",
     "text": [
      "value of toke before increament 2\n",
      "value of toke after increament 6\n"
     ]
    }
   ],
   "source": [
    "# increament\n",
    "toke = 2\n",
    "print (\"value of toke before increament\", toke)\n",
    "toke += 4\n",
    "print (\"value of toke after increament\", toke)\n"
   ]
  },
  {
   "cell_type": "code",
   "execution_count": 3,
   "id": "2cfd684f",
   "metadata": {},
   "outputs": [
    {
     "name": "stdout",
     "output_type": "stream",
     "text": [
      "value of toke before decreament 10\n",
      "value of toke after decreament 6\n"
     ]
    }
   ],
   "source": [
    "# decreament\n",
    "toke = 10\n",
    "print (\"value of toke before decreament\", toke)\n",
    "toke -= 4\n",
    "print (\"value of toke after decreament\", toke)\n"
   ]
  },
  {
   "cell_type": "markdown",
   "id": "582b2d40",
   "metadata": {},
   "source": [
    "# MEMBERSHIP Operator\n",
    "## it returns a boolean result"
   ]
  },
  {
   "cell_type": "code",
   "execution_count": null,
   "id": "4e41566f",
   "metadata": {},
   "outputs": [],
   "source": [
    "in / not in,\n",
    "4 in [1,2,3,45,67]"
   ]
  },
  {
   "cell_type": "code",
   "execution_count": 24,
   "id": "00c36514",
   "metadata": {},
   "outputs": [
    {
     "data": {
      "text/plain": [
       "False"
      ]
     },
     "execution_count": 24,
     "metadata": {},
     "output_type": "execute_result"
    }
   ],
   "source": [
    "4 in [1,2,3,45,67]"
   ]
  },
  {
   "cell_type": "markdown",
   "id": "a3f7dc34",
   "metadata": {},
   "source": []
  },
  {
   "cell_type": "code",
   "execution_count": 25,
   "id": "d198e5ee",
   "metadata": {},
   "outputs": [
    {
     "data": {
      "text/plain": [
       "False"
      ]
     },
     "execution_count": 25,
     "metadata": {},
     "output_type": "execute_result"
    }
   ],
   "source": [
    "7 not in [1,2,3,4,5,7,89,56]"
   ]
  },
  {
   "cell_type": "code",
   "execution_count": 4,
   "id": "b6855f8e",
   "metadata": {},
   "outputs": [
    {
     "data": {
      "text/plain": [
       "True"
      ]
     },
     "execution_count": 4,
     "metadata": {},
     "output_type": "execute_result"
    }
   ],
   "source": [
    "7 in [1,3,5,6,7,8,9]"
   ]
  },
  {
   "cell_type": "code",
   "execution_count": null,
   "id": "f8949dba",
   "metadata": {},
   "outputs": [],
   "source": [
    "#identity\n",
    "is/  is not "
   ]
  },
  {
   "cell_type": "code",
   "execution_count": 26,
   "id": "952e0905",
   "metadata": {},
   "outputs": [
    {
     "name": "stderr",
     "output_type": "stream",
     "text": [
      "<>:1: SyntaxWarning: \"is\" with a literal. Did you mean \"==\"?\n",
      "<>:1: SyntaxWarning: \"is\" with a literal. Did you mean \"==\"?\n",
      "C:\\Users\\Sober\\AppData\\Local\\Temp\\ipykernel_8884\\672288743.py:1: SyntaxWarning: \"is\" with a literal. Did you mean \"==\"?\n",
      "  4 is 4\n"
     ]
    },
    {
     "data": {
      "text/plain": [
       "True"
      ]
     },
     "execution_count": 26,
     "metadata": {},
     "output_type": "execute_result"
    }
   ],
   "source": [
    "4 is 4"
   ]
  },
  {
   "cell_type": "code",
   "execution_count": 27,
   "id": "54c173a9",
   "metadata": {},
   "outputs": [
    {
     "data": {
      "text/plain": [
       "True"
      ]
     },
     "execution_count": 27,
     "metadata": {},
     "output_type": "execute_result"
    }
   ],
   "source": [
    "a = 4\n",
    "b = 4\n",
    "a is b"
   ]
  },
  {
   "cell_type": "code",
   "execution_count": 34,
   "id": "970feba2",
   "metadata": {},
   "outputs": [
    {
     "data": {
      "text/plain": [
       "False"
      ]
     },
     "execution_count": 34,
     "metadata": {},
     "output_type": "execute_result"
    }
   ],
   "source": [
    "a = \"Ola\"\n",
    "b = \"ola\"\n",
    "a is b\n"
   ]
  },
  {
   "cell_type": "markdown",
   "id": "493839b6",
   "metadata": {},
   "source": [
    "# Logical\n",
    "\n",
    "### and / or \n",
    "(12 > 4) and (8< 12)"
   ]
  },
  {
   "cell_type": "code",
   "execution_count": 36,
   "id": "1abd5297",
   "metadata": {},
   "outputs": [
    {
     "data": {
      "text/plain": [
       "True"
      ]
     },
     "execution_count": 36,
     "metadata": {},
     "output_type": "execute_result"
    }
   ],
   "source": [
    "(12> 4) or (8<4)"
   ]
  },
  {
   "cell_type": "code",
   "execution_count": 6,
   "id": "4973b69d",
   "metadata": {},
   "outputs": [
    {
     "data": {
      "text/plain": [
       "False"
      ]
     },
     "execution_count": 6,
     "metadata": {},
     "output_type": "execute_result"
    }
   ],
   "source": [
    "(8>3) and (5>9)"
   ]
  },
  {
   "cell_type": "markdown",
   "id": "a8f69ac3",
   "metadata": {},
   "source": [
    " # Datatype in Python\n",
    " \n",
    " - mutable datatype: datatype that can be modified after declaration\n",
    " - list \n",
    " - dictionary\n",
    " - set\n",
    " \n",
    " \n",
    " - \n",
    " - immutable datatype: datatype cannot be modified after declaration\n",
    " - number\n",
    " - str\n",
    " - tuple\n",
    " "
   ]
  },
  {
   "cell_type": "markdown",
   "id": "9d15e70a",
   "metadata": {},
   "source": [
    "# number (immutable)\n",
    "\n",
    "## int  = whole number  ( it cannot be modified but you can over ride it)\n",
    "## float = number with decimals\n",
    "## complex = 3 + 3J"
   ]
  },
  {
   "cell_type": "code",
   "execution_count": null,
   "id": "87fc6468",
   "metadata": {},
   "outputs": [],
   "source": [
    " # str : are sequence of characters\n",
    "    name =  'ola'\n",
    "    name = \"ola\"\n",
    "    name = \"\"\" this is used when the string is\n",
    "    very long in a way that it\n",
    "    moves to the next line\"\"\""
   ]
  },
  {
   "cell_type": "markdown",
   "id": "11640873",
   "metadata": {},
   "source": [
    "# indexing and slicing\n",
    "\n",
    "## indexing\n",
    "forward indexing starts counting from the front first letter from 0\n",
    "backward indexing starts counting from the back from -1"
   ]
  },
  {
   "cell_type": "code",
   "execution_count": 9,
   "id": "049e15e2",
   "metadata": {},
   "outputs": [
    {
     "data": {
      "text/plain": [
       "'i'"
      ]
     },
     "execution_count": 9,
     "metadata": {},
     "output_type": "execute_result"
    }
   ],
   "source": [
    "name = \"olaitan\"\n",
    "name [3] forward indexing"
   ]
  },
  {
   "cell_type": "code",
   "execution_count": 10,
   "id": "6cc7d500",
   "metadata": {},
   "outputs": [
    {
     "data": {
      "text/plain": [
       "'t'"
      ]
     },
     "execution_count": 10,
     "metadata": {},
     "output_type": "execute_result"
    }
   ],
   "source": [
    "name = \"omotoke\"\n",
    "name [4]\n",
    "name [-4]"
   ]
  },
  {
   "cell_type": "code",
   "execution_count": 40,
   "id": "a85cedd1",
   "metadata": {},
   "outputs": [
    {
     "data": {
      "text/plain": [
       "'l'"
      ]
     },
     "execution_count": 40,
     "metadata": {},
     "output_type": "execute_result"
    }
   ],
   "source": [
    "name = \"olaitan\"\n",
    "name[-6] backward indexing"
   ]
  },
  {
   "cell_type": "markdown",
   "id": "6f62eacc",
   "metadata": {},
   "source": [
    "# slicing\n",
    "- index no: position no: skip no\n",
    "\n",
    "- index no counts from 0 \n",
    "- position number counts from 1"
   ]
  },
  {
   "cell_type": "code",
   "execution_count": 41,
   "id": "48d40869",
   "metadata": {},
   "outputs": [
    {
     "data": {
      "text/plain": [
       "'ai'"
      ]
     },
     "execution_count": 41,
     "metadata": {},
     "output_type": "execute_result"
    }
   ],
   "source": [
    "name = \"olaitana\"\n",
    "\"return ai from olaitan\"\n",
    "name[2: 4]"
   ]
  },
  {
   "cell_type": "code",
   "execution_count": 12,
   "id": "724ed3ba",
   "metadata": {},
   "outputs": [
    {
     "data": {
      "text/plain": [
       "'bisi'"
      ]
     },
     "execution_count": 12,
     "metadata": {},
     "output_type": "execute_result"
    }
   ],
   "source": [
    "name = \"olabisi\"\n",
    "name[3: 5] \n",
    "name [3:7]"
   ]
  },
  {
   "cell_type": "code",
   "execution_count": null,
   "id": "6789163e",
   "metadata": {},
   "outputs": [],
   "source": []
  },
  {
   "cell_type": "code",
   "execution_count": 42,
   "id": "ebc69457",
   "metadata": {},
   "outputs": [
    {
     "data": {
      "text/plain": [
       "'fun'"
      ]
     },
     "execution_count": 42,
     "metadata": {},
     "output_type": "execute_result"
    }
   ],
   "source": [
    "info =\"python is fun to learn\"\n",
    "#return fun from the variable\n",
    "info[10:13]"
   ]
  },
  {
   "cell_type": "code",
   "execution_count": 43,
   "id": "36515319",
   "metadata": {},
   "outputs": [
    {
     "data": {
      "text/plain": [
       "'oin'"
      ]
     },
     "execution_count": 43,
     "metadata": {},
     "output_type": "execute_result"
    }
   ],
   "source": [
    "name[0: 7:3]"
   ]
  },
  {
   "cell_type": "code",
   "execution_count": 51,
   "id": "d803f0b8",
   "metadata": {},
   "outputs": [
    {
     "data": {
      "text/plain": [
       "'if  a'"
      ]
     },
     "execution_count": 51,
     "metadata": {},
     "output_type": "execute_result"
    }
   ],
   "source": [
    "info =\"python is fun to learn\"\n",
    "#return if  a\n",
    "\n",
    "info[7:20:3]"
   ]
  },
  {
   "cell_type": "code",
   "execution_count": 13,
   "id": "036875dc",
   "metadata": {},
   "outputs": [
    {
     "data": {
      "text/plain": [
       "'nsut'"
      ]
     },
     "execution_count": 13,
     "metadata": {},
     "output_type": "execute_result"
    }
   ],
   "source": [
    "info = \"python is fun to learn\"\n",
    "info [5:16:3]"
   ]
  },
  {
   "cell_type": "markdown",
   "id": "853def60",
   "metadata": {},
   "source": [
    "# string method\n",
    "\n",
    "### string is a sequence of character\n",
    "1. split \n",
    "2. strip\n",
    "3. endwith\n",
    "4. startwith\n",
    "5. upper/lower\n",
    "6. find\n",
    "7. replace\n",
    "8. format"
   ]
  },
  {
   "cell_type": "code",
   "execution_count": 56,
   "id": "8e849a3f",
   "metadata": {
    "collapsed": true
   },
   "outputs": [
    {
     "data": {
      "text/plain": [
       "'python is fun to learn'"
      ]
     },
     "execution_count": 56,
     "metadata": {},
     "output_type": "execute_result"
    }
   ],
   "source": [
    " info "
   ]
  },
  {
   "cell_type": "markdown",
   "id": "397bcc5c",
   "metadata": {},
   "source": [
    "### split is use to split string at any given space or specified character. the output is list\n",
    "\n",
    "info.split()\n",
    "\n",
    "replace = \"omotoke is a goood girl\"\n",
    "replace. split()"
   ]
  },
  {
   "cell_type": "markdown",
   "id": "9220b2a4",
   "metadata": {},
   "source": [
    "### split is use to split string at any given space or specified character. the output is list\n",
    "\n",
    "gist = \"my/name/is/titi/i/am/taking/phyton/class\"\n",
    "gist.split(\"/\")\n"
   ]
  },
  {
   "cell_type": "markdown",
   "id": "e4911fe8",
   "metadata": {},
   "source": [
    "# strip is used ro remove excesive space before and after the text\n",
    "\n",
    "\n",
    "name = \"     olatian   \"\n",
    "name.strip()"
   ]
  },
  {
   "cell_type": "code",
   "execution_count": 66,
   "id": "68bda256",
   "metadata": {},
   "outputs": [
    {
     "data": {
      "text/plain": [
       "'olaitan'"
      ]
     },
     "execution_count": 66,
     "metadata": {},
     "output_type": "execute_result"
    }
   ],
   "source": [
    "name = \"{{{{///olaitan>>>>>>////\"\n",
    "name.strip(\"{\").strip(\"/\").strip(\">\")"
   ]
  },
  {
   "cell_type": "markdown",
   "id": "72ed7f9b",
   "metadata": {},
   "source": [
    "# endswith\n",
    "## it gives a boolen result\n"
   ]
  },
  {
   "cell_type": "code",
   "execution_count": 1,
   "id": "fb17938d",
   "metadata": {},
   "outputs": [
    {
     "data": {
      "text/plain": [
       "True"
      ]
     },
     "execution_count": 1,
     "metadata": {},
     "output_type": "execute_result"
    }
   ],
   "source": [
    "name = \"Olaitan\"\n",
    "\n",
    "name.endswith(\"n\")"
   ]
  },
  {
   "cell_type": "code",
   "execution_count": 2,
   "id": "f4e61b0c",
   "metadata": {},
   "outputs": [
    {
     "data": {
      "text/plain": [
       "False"
      ]
     },
     "execution_count": 2,
     "metadata": {},
     "output_type": "execute_result"
    }
   ],
   "source": [
    "name = \"Bolatito\"\n",
    "name.endswith(\"z\")"
   ]
  },
  {
   "cell_type": "markdown",
   "id": "97c17859",
   "metadata": {},
   "source": [
    "# Startswith"
   ]
  },
  {
   "cell_type": "code",
   "execution_count": 4,
   "id": "cc874932",
   "metadata": {},
   "outputs": [
    {
     "data": {
      "text/plain": [
       "True"
      ]
     },
     "execution_count": 4,
     "metadata": {},
     "output_type": "execute_result"
    }
   ],
   "source": [
    "name= \"olaitan\"\n",
    "name.startswith(\"o\")"
   ]
  },
  {
   "cell_type": "markdown",
   "id": "d062ebf3",
   "metadata": {},
   "source": [
    "# Upper"
   ]
  },
  {
   "cell_type": "code",
   "execution_count": 5,
   "id": "4147ef3c",
   "metadata": {},
   "outputs": [
    {
     "data": {
      "text/plain": [
       "'OLAITAN'"
      ]
     },
     "execution_count": 5,
     "metadata": {},
     "output_type": "execute_result"
    }
   ],
   "source": [
    "name.upper()"
   ]
  },
  {
   "cell_type": "code",
   "execution_count": 7,
   "id": "f81bd0a7",
   "metadata": {},
   "outputs": [
    {
     "data": {
      "text/plain": [
       "'OLAITAN'"
      ]
     },
     "execution_count": 7,
     "metadata": {},
     "output_type": "execute_result"
    }
   ],
   "source": [
    "name=name.upper()\n",
    "name"
   ]
  },
  {
   "cell_type": "markdown",
   "id": "14b12ee8",
   "metadata": {},
   "source": [
    "# Lower"
   ]
  },
  {
   "cell_type": "code",
   "execution_count": 8,
   "id": "b9a55df3",
   "metadata": {},
   "outputs": [
    {
     "data": {
      "text/plain": [
       "'olaitan'"
      ]
     },
     "execution_count": 8,
     "metadata": {},
     "output_type": "execute_result"
    }
   ],
   "source": [
    "name=name.lower()\n",
    "name"
   ]
  },
  {
   "cell_type": "markdown",
   "id": "412ce9f8",
   "metadata": {},
   "source": [
    "# find\n",
    "\n",
    "## this will find the position of the specific character and return the index number of specified character"
   ]
  },
  {
   "cell_type": "code",
   "execution_count": 9,
   "id": "a475faa8",
   "metadata": {},
   "outputs": [
    {
     "data": {
      "text/plain": [
       "3"
      ]
     },
     "execution_count": 9,
     "metadata": {},
     "output_type": "execute_result"
    }
   ],
   "source": [
    "name.find(\"i\")"
   ]
  },
  {
   "cell_type": "markdown",
   "id": "d4ee6337",
   "metadata": {},
   "source": [
    "# replace"
   ]
  },
  {
   "cell_type": "code",
   "execution_count": 10,
   "id": "14778ece",
   "metadata": {},
   "outputs": [
    {
     "name": "stdout",
     "output_type": "stream",
     "text": [
      "olaytan\n"
     ]
    }
   ],
   "source": [
    "name = \"olaitan\"\n",
    "name= name.replace (\"i\", \"y\")\n",
    "print(name)"
   ]
  },
  {
   "cell_type": "code",
   "execution_count": 11,
   "id": "dd6f7d88",
   "metadata": {},
   "outputs": [
    {
     "name": "stdout",
     "output_type": "stream",
     "text": [
      "oreahba\n"
     ]
    }
   ],
   "source": [
    "name = \"oreagba\"\n",
    "name = name.replace (\"g\", \"h\")\n",
    "print(name)"
   ]
  },
  {
   "cell_type": "markdown",
   "id": "05fe6163",
   "metadata": {},
   "source": [
    "# format"
   ]
  },
  {
   "cell_type": "code",
   "execution_count": 98,
   "id": "65569dd5",
   "metadata": {},
   "outputs": [
    {
     "name": "stdout",
     "output_type": "stream",
     "text": [
      "enter your namearewa\n",
      "enter your age40\n",
      "my name is arewa and i am 40 years old\n"
     ]
    }
   ],
   "source": [
    "name = input(\"enter your name\")\n",
    "age = input(\"enter your age\")\n",
    "print(\"my name is {} and i am {} years old\". format(name,age))"
   ]
  },
  {
   "cell_type": "markdown",
   "id": "2b564d28",
   "metadata": {},
   "source": [
    "# LIST\n",
    "\n",
    "- IT IS A CONTAINER THAT CAN BE USED TO SAVE DATA\n",
    "- LIST IS USED WITH SQUARE BRAKET [    ] EMPTY LIST\n",
    "- LIST CAN HAVE DIFFERENT DATA TYPE"
   ]
  },
  {
   "cell_type": "code",
   "execution_count": 14,
   "id": "0be1fce9",
   "metadata": {},
   "outputs": [
    {
     "data": {
      "text/plain": [
       "'sancho'"
      ]
     },
     "execution_count": 14,
     "metadata": {},
     "output_type": "execute_result"
    }
   ],
   "source": [
    "LIST1 = [\"cow\", 2, 6.6, [23,5], \"james\", \"sancho\", \"rice\", \"white\"]\n",
    "LIST1[5]\n"
   ]
  },
  {
   "cell_type": "code",
   "execution_count": 15,
   "id": "9ca90fef",
   "metadata": {},
   "outputs": [
    {
     "data": {
      "text/plain": [
       "5"
      ]
     },
     "execution_count": 15,
     "metadata": {},
     "output_type": "execute_result"
    }
   ],
   "source": [
    "LIST1 [3][1]"
   ]
  },
  {
   "cell_type": "code",
   "execution_count": 16,
   "id": "3bb2c4eb",
   "metadata": {},
   "outputs": [
    {
     "data": {
      "text/plain": [
       "[6.6, [23, 5], 'james', 'sancho']"
      ]
     },
     "execution_count": 16,
     "metadata": {},
     "output_type": "execute_result"
    }
   ],
   "source": [
    "LIST1 [2:6]"
   ]
  },
  {
   "cell_type": "code",
   "execution_count": null,
   "id": "c50d683c",
   "metadata": {},
   "outputs": [],
   "source": [
    "1. append : is used to add element at the end of a list\n",
    "2. pop : is used to remove element at specific index\n",
    "3. remove : is used to delete element specified\n",
    "4.sort : is used to sort element of a list\n",
    "    false (ascending)\n",
    "    true (descending)"
   ]
  },
  {
   "cell_type": "code",
   "execution_count": 17,
   "id": "c0e48290",
   "metadata": {},
   "outputs": [
    {
     "name": "stdout",
     "output_type": "stream",
     "text": [
      "[1, 'kola', 'ade', 'elephant']\n"
     ]
    }
   ],
   "source": [
    "liss = [1,\"kola\",\"ade\"]\n",
    "liss.append(\"elephant\")\n",
    "print(liss)"
   ]
  },
  {
   "cell_type": "code",
   "execution_count": 18,
   "id": "6db54a86",
   "metadata": {},
   "outputs": [
    {
     "data": {
      "text/plain": [
       "'elephant'"
      ]
     },
     "execution_count": 18,
     "metadata": {},
     "output_type": "execute_result"
    }
   ],
   "source": [
    "liss.pop()"
   ]
  },
  {
   "cell_type": "code",
   "execution_count": 19,
   "id": "91046b20",
   "metadata": {},
   "outputs": [
    {
     "name": "stdout",
     "output_type": "stream",
     "text": [
      "[1, 'kola']\n",
      "ade\n"
     ]
    }
   ],
   "source": [
    "name=liss.pop()\n",
    "print(liss)\n",
    "print(name)"
   ]
  },
  {
   "cell_type": "code",
   "execution_count": 20,
   "id": "f8f7eaed",
   "metadata": {},
   "outputs": [
    {
     "data": {
      "text/plain": [
       "'kola'"
      ]
     },
     "execution_count": 20,
     "metadata": {},
     "output_type": "execute_result"
    }
   ],
   "source": [
    "liss.pop(1)"
   ]
  },
  {
   "cell_type": "code",
   "execution_count": 21,
   "id": "dd48e001",
   "metadata": {},
   "outputs": [
    {
     "name": "stdout",
     "output_type": "stream",
     "text": [
      "['kola', 'ade']\n"
     ]
    }
   ],
   "source": [
    "liss = [7,\"kola\",\"ade\"]\n",
    "liss.remove(7)\n",
    "print (liss)"
   ]
  },
  {
   "cell_type": "code",
   "execution_count": 27,
   "id": "69ffa0f2",
   "metadata": {},
   "outputs": [
    {
     "name": "stdout",
     "output_type": "stream",
     "text": [
      "[2, 4, 7, 7, 8, 8.3, 10, 63]\n"
     ]
    }
   ],
   "source": [
    "liss = [2,7,8.3,10,4,7,8,63]\n",
    "liss.sort()\n",
    "print (liss)"
   ]
  },
  {
   "cell_type": "code",
   "execution_count": 65,
   "id": "c04996b7",
   "metadata": {},
   "outputs": [
    {
     "name": "stdout",
     "output_type": "stream",
     "text": [
      "[2, 4, 7, 7, 8, 8.3, 10, 63]\n"
     ]
    }
   ],
   "source": [
    "liss.sort(reverse=False)\n",
    "print (liss)\n",
    "\n"
   ]
  },
  {
   "cell_type": "markdown",
   "id": "55b5931e",
   "metadata": {},
   "source": [
    "# modify the element of a list "
   ]
  },
  {
   "cell_type": "code",
   "execution_count": 29,
   "id": "5d2479a2",
   "metadata": {},
   "outputs": [
    {
     "name": "stdout",
     "output_type": "stream",
     "text": [
      "['cow', 2, 6.6, [23, 5], 'james', 'RASHFORD', 'rice', 'white']\n"
     ]
    }
   ],
   "source": [
    "LIST1 = [\"cow\", 2, 6.6, [23,5], \"james\", \"sancho\", \"rice\", \"white\"]\n",
    "# change sancho to rashford\n",
    "\n",
    "LIST1[5] = \"RASHFORD\"\n",
    "print (LIST1)"
   ]
  },
  {
   "cell_type": "markdown",
   "id": "999d765b",
   "metadata": {},
   "source": [
    "# tup\n",
    "tup = (    ) # an empty turple"
   ]
  },
  {
   "cell_type": "code",
   "execution_count": 37,
   "id": "5ca0b68a",
   "metadata": {},
   "outputs": [
    {
     "data": {
      "text/plain": [
       "1"
      ]
     },
     "execution_count": 37,
     "metadata": {},
     "output_type": "execute_result"
    }
   ],
   "source": [
    "tup.count(2)"
   ]
  },
  {
   "cell_type": "code",
   "execution_count": 1,
   "id": "bfc6f685",
   "metadata": {},
   "outputs": [
    {
     "data": {
      "text/plain": [
       "3"
      ]
     },
     "execution_count": 1,
     "metadata": {},
     "output_type": "execute_result"
    }
   ],
   "source": [
    "tup = (2,\"kazeem\", \"olaitan\",\"james\", \"ade\",[2,3,6,7],2,2,26,42)\n",
    "tup[5][1]"
   ]
  },
  {
   "cell_type": "code",
   "execution_count": 2,
   "id": "820dc46e",
   "metadata": {},
   "outputs": [
    {
     "data": {
      "text/plain": [
       "3"
      ]
     },
     "execution_count": 2,
     "metadata": {},
     "output_type": "execute_result"
    }
   ],
   "source": [
    "tup.count(2)"
   ]
  },
  {
   "cell_type": "markdown",
   "id": "8730be5a",
   "metadata": {},
   "source": [
    "# set : it removes duplicates entry and sort the data in ascending order\n",
    "# dictionary: a type of data that has key and valuse pair relatiinship\n",
    "\n",
    "# for indexing and slicing, list [ ] bracket \n",
    "tup ()\n",
    "set and dic {}\n"
   ]
  },
  {
   "cell_type": "code",
   "execution_count": 44,
   "id": "0f7499fe",
   "metadata": {},
   "outputs": [
    {
     "data": {
      "text/plain": [
       "{0, 2, 3, 5, 7, 9, 100, 300}"
      ]
     },
     "execution_count": 44,
     "metadata": {},
     "output_type": "execute_result"
    }
   ],
   "source": [
    " set1 = {100,300,7,2,9,0,5,3,2,2,2,}\n",
    " set1 "
   ]
  },
  {
   "cell_type": "markdown",
   "id": "6c468217",
   "metadata": {},
   "source": [
    "# dictionary"
   ]
  },
  {
   "cell_type": "code",
   "execution_count": 56,
   "id": "66af16f7",
   "metadata": {},
   "outputs": [
    {
     "data": {
      "text/plain": [
       "'Olaitan'"
      ]
     },
     "execution_count": 56,
     "metadata": {},
     "output_type": "execute_result"
    }
   ],
   "source": [
    "info = {\"name\": \"Olaitan\", \"age\": \"40\", \"address\":\"Olowora\"}\n",
    "info[\"name\"]"
   ]
  },
  {
   "cell_type": "markdown",
   "id": "1275a684",
   "metadata": {},
   "source": [
    "## to change element"
   ]
  },
  {
   "cell_type": "code",
   "execution_count": 47,
   "id": "96ef14f3",
   "metadata": {},
   "outputs": [
    {
     "name": "stdout",
     "output_type": "stream",
     "text": [
      "{'name': 'Olaitan', 'age': 45, 'address': 'Olowora', '40': 45}\n"
     ]
    }
   ],
   "source": [
    "info [\"age\"] = 45\n",
    "print(info)"
   ]
  },
  {
   "cell_type": "markdown",
   "id": "e6ad469a",
   "metadata": {},
   "source": [
    "## to add element"
   ]
  },
  {
   "cell_type": "code",
   "execution_count": 48,
   "id": "01d2faa5",
   "metadata": {},
   "outputs": [
    {
     "name": "stdout",
     "output_type": "stream",
     "text": [
      "{'name': 'Olaitan', 'age': '40', 'address': 'Olowora', 'salary': 123434}\n"
     ]
    }
   ],
   "source": [
    "### adding new element to dictionary\n",
    "info = {\"name\": \"Olaitan\", \"age\": \"40\", \"address\":\"Olowora\"}\n",
    "info[\"salary\"] = 123434\n",
    "print(info)"
   ]
  },
  {
   "cell_type": "markdown",
   "id": "c9c94034",
   "metadata": {},
   "source": [
    "### to remove an element\n",
    "print(info)\n",
    "info.pop(\"address\")\n",
    "print(info)"
   ]
  },
  {
   "cell_type": "code",
   "execution_count": 3,
   "id": "1b09fc26",
   "metadata": {},
   "outputs": [
    {
     "name": "stdout",
     "output_type": "stream",
     "text": [
      "{'name': 'Olaitan', 'address': 'Olowora'}\n"
     ]
    }
   ],
   "source": [
    "info = {\"name\": \"Olaitan\", \"age\": \"40\", \"address\":\"Olowora\"}\n",
    "info.pop(\"age\")\n",
    "print(info)"
   ]
  },
  {
   "cell_type": "code",
   "execution_count": 6,
   "id": "a8af31c6",
   "metadata": {},
   "outputs": [
    {
     "name": "stdout",
     "output_type": "stream",
     "text": [
      "{'name': 'Olaitan', 'address': 'Olowora', 'station': 'MTR'}\n"
     ]
    }
   ],
   "source": [
    "info\n",
    "info[\"station\"] = \"MTR\"\n",
    "print (info)"
   ]
  },
  {
   "cell_type": "markdown",
   "id": "397fc203",
   "metadata": {},
   "source": [
    "# dictionary of list"
   ]
  },
  {
   "cell_type": "code",
   "execution_count": 64,
   "id": "251b46ea",
   "metadata": {},
   "outputs": [
    {
     "name": "stdout",
     "output_type": "stream",
     "text": [
      "{'name': ['Olaitan', 'james', 'sancho'], 'age': ['40', '30', '20', '32'], 'address': ['Olowora', 'berger', 'magodo', 'isheri']}\n",
      "{'name': ['Olaitan', 'james', 'sancho'], 'age': ['40', '30', '20', '32'], 'address': ['Olowora', 'Arepo', 'magodo', 'isheri']}\n"
     ]
    }
   ],
   "source": [
    "info = {\"name\": [\"Olaitan\",\"james\",\"sancho\"], \"age\": [\"40\",\"30\",\"20\",\"32\"], \"address\":[\"Olowora\", \"berger\",\"magodo\",\"isheri\"]}\n",
    "\n",
    "print (info)\n",
    "info[\"address\"][1] = \"Arepo\"\n",
    "print(info)"
   ]
  },
  {
   "cell_type": "markdown",
   "id": "730d5f1d",
   "metadata": {},
   "source": [
    "# control flow in pyhton\n",
    "### control flow is where pyhton is been executed"
   ]
  },
  {
   "cell_type": "markdown",
   "id": "73457eeb",
   "metadata": {},
   "source": [
    "## conditional statement\n",
    "a. if\n",
    "b. elif\n",
    "c. else\n",
    "\n",
    "## Loop statment\n",
    "a. for loop\n",
    "b. while loop\n",
    "\n",
    "## Loop control statemnet\n",
    "a. continue\n",
    "b. break \n",
    "\n",
    "# Error handling statement \n",
    "a. try \n",
    "b. except\n",
    "c. finally"
   ]
  },
  {
   "cell_type": "markdown",
   "id": "00ba420b",
   "metadata": {},
   "source": [
    "### if"
   ]
  },
  {
   "cell_type": "code",
   "execution_count": 66,
   "id": "12d2c521",
   "metadata": {},
   "outputs": [
    {
     "name": "stdout",
     "output_type": "stream",
     "text": [
      "we are cool at this point\n",
      "8\n"
     ]
    }
   ],
   "source": [
    "name = \"olaitan\"\n",
    "\n",
    "if name.endswith(\"n\"):\n",
    "    print(\"we are cool at this point\")\n",
    "    w=5\n",
    "    t =3\n",
    "    print(w+t)"
   ]
  },
  {
   "cell_type": "code",
   "execution_count": 67,
   "id": "b920daf4",
   "metadata": {},
   "outputs": [
    {
     "name": "stdout",
     "output_type": "stream",
     "text": [
      "i am running because your condition is false\n"
     ]
    }
   ],
   "source": [
    "\n",
    "name = \"olaitan\"\n",
    "if name.endswith(\"z\"):\n",
    "    print(\"we are cool at this point\")\n",
    "    w=5\n",
    "    t =3\n",
    "    print(w+t)\n",
    "else:\n",
    "    print(\"i am running because your condition is false\")"
   ]
  },
  {
   "cell_type": "markdown",
   "id": "2e696807",
   "metadata": {},
   "source": [
    "### Elif"
   ]
  },
  {
   "cell_type": "code",
   "execution_count": 69,
   "id": "da2d2697",
   "metadata": {},
   "outputs": [
    {
     "name": "stdout",
     "output_type": "stream",
     "text": [
      "20\n",
      "20\n",
      "what other combination did you think of\n"
     ]
    }
   ],
   "source": [
    "num1 = int(input())\n",
    "num2 = int(input())\n",
    "if(num1>10) and (num2<20):\n",
    "    total=num1 + num2\n",
    "    print(total)\n",
    "elif(num1==10) and (num2==20):\n",
    "    print(\"fine\")\n",
    "    print(num1+num2)\n",
    "elif(num1<10) and (num2>20):\n",
    "    print(num2 - num1)\n",
    "else:\n",
    "    print(\"what other combination did you think of\")"
   ]
  },
  {
   "cell_type": "code",
   "execution_count": 70,
   "id": "3deb7bc9",
   "metadata": {},
   "outputs": [
    {
     "name": "stdout",
     "output_type": "stream",
     "text": [
      "10\n",
      "20\n",
      "30\n"
     ]
    }
   ],
   "source": [
    "num1 = int(input())\n",
    "num2 = int(input())\n",
    "if(num1>=10) and (num2<=20):\n",
    "    total=num1 + num2\n",
    "    print(total)\n",
    "elif(num1==10) and (num2==20):\n",
    "    print(\"fine\")\n",
    "    print(num1+num2)\n",
    "elif(num1<10) and (num2>20):\n",
    "    print(num2 - num1)\n",
    "else:\n",
    "    print(\"what other combination did you think of\")"
   ]
  },
  {
   "cell_type": "code",
   "execution_count": 71,
   "id": "04e6ff6d",
   "metadata": {},
   "outputs": [
    {
     "name": "stdout",
     "output_type": "stream",
     "text": [
      "10\n",
      "20\n",
      "fine\n",
      "30\n",
      "what other combination did you think of\n"
     ]
    }
   ],
   "source": [
    "num1 = int(input())\n",
    "num2 = int(input())\n",
    "if(num1>10) and (num2<20):\n",
    "    total=num1 + num2\n",
    "    print(total)\n",
    "if(num1==10) and (num2==20):\n",
    "    print(\"fine\")\n",
    "    print(num1+num2)\n",
    "if(num1<10) and (num2>20):\n",
    "    print(num2 - num1)\n",
    "else:\n",
    "    print(\"what other combination did you think of\")"
   ]
  },
  {
   "cell_type": "markdown",
   "id": "4b64ac80",
   "metadata": {},
   "source": [
    "# loop Statement\n",
    "### for loop : its used to iterate over an iterable element e.g str, list, turple, set, dictionary\n"
   ]
  },
  {
   "cell_type": "code",
   "execution_count": 77,
   "id": "9cb2a130",
   "metadata": {},
   "outputs": [
    {
     "name": "stdout",
     "output_type": "stream",
     "text": [
      "ola\n",
      "james\n",
      "ayo\n"
     ]
    }
   ],
   "source": [
    "list1 = [\"ola\", \"james\",\"ayo\"]\n",
    "for y in list1:\n",
    "    print (y)\n"
   ]
  },
  {
   "cell_type": "code",
   "execution_count": null,
   "id": "558552aa",
   "metadata": {},
   "outputs": [],
   "source": []
  },
  {
   "cell_type": "code",
   "execution_count": 80,
   "id": "2feab25d",
   "metadata": {},
   "outputs": [
    {
     "name": "stdout",
     "output_type": "stream",
     "text": [
      "o\n",
      "l\n",
      "a\n",
      "i\n",
      "t\n",
      "a\n",
      "n\n"
     ]
    }
   ],
   "source": [
    "list2 = \"olaitan\"\n",
    "for x in list2:\n",
    "     print(x)"
   ]
  },
  {
   "cell_type": "markdown",
   "id": "8d7ba32e",
   "metadata": {},
   "source": [
    "range (str, end, skip)"
   ]
  },
  {
   "cell_type": "code",
   "execution_count": 81,
   "id": "40f4468d",
   "metadata": {},
   "outputs": [
    {
     "data": {
      "text/plain": [
       "range(0, 10)"
      ]
     },
     "execution_count": 81,
     "metadata": {},
     "output_type": "execute_result"
    }
   ],
   "source": [
    "range(10)"
   ]
  },
  {
   "cell_type": "code",
   "execution_count": 82,
   "id": "fd67355b",
   "metadata": {},
   "outputs": [
    {
     "data": {
      "text/plain": [
       "range(0, 10, 2)"
      ]
     },
     "execution_count": 82,
     "metadata": {},
     "output_type": "execute_result"
    }
   ],
   "source": [
    "range(0,10,2)"
   ]
  },
  {
   "cell_type": "code",
   "execution_count": 85,
   "id": "94300e4c",
   "metadata": {},
   "outputs": [
    {
     "name": "stdout",
     "output_type": "stream",
     "text": [
      "0\n",
      "2\n",
      "4\n",
      "6\n",
      "8\n"
     ]
    }
   ],
   "source": [
    "for i in range(0,10,2):\n",
    "      print(i)"
   ]
  },
  {
   "cell_type": "code",
   "execution_count": 86,
   "id": "79fda350",
   "metadata": {},
   "outputs": [
    {
     "name": "stdout",
     "output_type": "stream",
     "text": [
      "0\n",
      "3\n",
      "6\n",
      "9\n"
     ]
    }
   ],
   "source": [
    "for i in range(0,10,3):\n",
    "      print(i)"
   ]
  },
  {
   "cell_type": "code",
   "execution_count": 89,
   "id": "63e23a8d",
   "metadata": {},
   "outputs": [
    {
     "name": "stdout",
     "output_type": "stream",
     "text": [
      "0\n",
      "1\n",
      "2\n",
      "3\n",
      "4\n",
      "5\n",
      "6\n",
      "7\n",
      "8\n",
      "9\n",
      "10\n",
      "11\n",
      "12\n",
      "13\n",
      "14\n",
      "15\n",
      "16\n",
      "17\n",
      "18\n",
      "19\n",
      "20\n"
     ]
    }
   ],
   "source": [
    "for i in range(0,21):\n",
    "    print (i)\n"
   ]
  },
  {
   "cell_type": "code",
   "execution_count": 100,
   "id": "b6389524",
   "metadata": {},
   "outputs": [
    {
     "name": "stdout",
     "output_type": "stream",
     "text": [
      "the element in even list before updating [] /n\n",
      "the element in odd list before updating [] /n\n",
      "the element in even list after updating [0, 2, 4, 6, 8, 10, 12, 14, 16, 18, 20] /n\n",
      "the element in odd list after updating [1, 3, 5, 7, 9, 11, 13, 15, 17, 19] /n\n"
     ]
    }
   ],
   "source": [
    "even = []\n",
    "odd = []\n",
    "print(\"the element in even list before updating\", even,\"/n\")\n",
    "print(\"the element in odd list before updating\", odd, \"/n\")\n",
    "for i in range(0, 21):\n",
    "     if i%2==0:\n",
    "        even.append(i)\n",
    "     else:\n",
    "        odd.append(i)       \n",
    "print(\"the element in even list after updating\", even,\"/n\")\n",
    "print(\"the element in odd list after updating\", odd, \"/n\")\n"
   ]
  },
  {
   "cell_type": "markdown",
   "id": "a64fe987",
   "metadata": {},
   "source": [
    "### while loop "
   ]
  },
  {
   "cell_type": "code",
   "execution_count": 99,
   "id": "23609f92",
   "metadata": {},
   "outputs": [
    {
     "name": "stdout",
     "output_type": "stream",
     "text": [
      "we are inside while loop0\n",
      "we are inside while loop1\n",
      "we are inside while loop2\n",
      "we are inside while loop3\n",
      "we are inside while loop4\n",
      "we are inside while loop5\n"
     ]
    }
   ],
   "source": [
    "counter = 0\n",
    "while counter <=5: # as far as counter is less than or equal to 5, it will continue with while\n",
    "    print (\"we are inside while loop{}\". format(counter))\n",
    "    counter +=1"
   ]
  },
  {
   "cell_type": "code",
   "execution_count": 1,
   "id": "86248711",
   "metadata": {},
   "outputs": [
    {
     "name": "stdout",
     "output_type": "stream",
     "text": [
      "we are inside while loop 0\n",
      "we are inside while loop 1\n",
      "we are inside while loop 2\n",
      "we are inside while loop 3\n",
      "we are inside while loop 4\n"
     ]
    }
   ],
   "source": [
    "a = 0\n",
    "while a< 5:\n",
    "    print(\"we are inside while loop {}\". format(a))\n",
    "    a+=1"
   ]
  },
  {
   "cell_type": "code",
   "execution_count": 3,
   "id": "5825a6f0",
   "metadata": {},
   "outputs": [
    {
     "name": "stdout",
     "output_type": "stream",
     "text": [
      "titi\n",
      "the user name is  titi\n",
      "kemi\n",
      "the user name is  kemi\n",
      "QUit\n"
     ]
    }
   ],
   "source": [
    "while True:\n",
    "    user_input = input(). lower()\n",
    "    if user_input == \"quit\":\n",
    "        break\n",
    "    print(\"the user name is \", user_input)\n",
    "    "
   ]
  },
  {
   "cell_type": "markdown",
   "id": "61cd62c9",
   "metadata": {},
   "source": [
    "## break\n",
    "## it will stop when the condition is met"
   ]
  },
  {
   "cell_type": "code",
   "execution_count": 9,
   "id": "5cc2b382",
   "metadata": {},
   "outputs": [
    {
     "name": "stdout",
     "output_type": "stream",
     "text": [
      "[2, 4, 6, 8, 10]\n",
      "[1, 3, 5, 7, 9, 11]\n"
     ]
    }
   ],
   "source": [
    "even = []\n",
    "odd = []\n",
    "num = range(1,21)\n",
    "for i in num: \n",
    "    if i ==12:\n",
    "     break\n",
    "    if i%2 == 0:\n",
    "        even.append(i)\n",
    "    else:\n",
    "        odd.append(i)\n",
    "print (even)\n",
    "print (odd)\n",
    " "
   ]
  },
  {
   "cell_type": "code",
   "execution_count": 10,
   "id": "2b867f76",
   "metadata": {},
   "outputs": [
    {
     "name": "stdout",
     "output_type": "stream",
     "text": [
      "[2, 4, 6, 8, 10, 12, 14, 16, 18, 20]\n",
      "[1, 3, 5, 7, 9, 11, 13, 15, 17, 19]\n"
     ]
    }
   ],
   "source": [
    "even = []\n",
    "odd = []\n",
    "num = range(1,21)\n",
    "for i in num: \n",
    "    if i%2 == 0:\n",
    "        even.append(i)\n",
    "    else:\n",
    "        odd.append(i)\n",
    "print (even)\n",
    "print (odd)\n",
    " "
   ]
  },
  {
   "cell_type": "markdown",
   "id": "dada1e44",
   "metadata": {},
   "source": [
    "# continue it will skip at the point where the condition is met and go ahead with the rest elements."
   ]
  },
  {
   "cell_type": "code",
   "execution_count": 11,
   "id": "c3f843e6",
   "metadata": {},
   "outputs": [
    {
     "name": "stdout",
     "output_type": "stream",
     "text": [
      "[2, 4, 6, 8, 10, 14, 16, 18, 20]\n",
      "[1, 3, 5, 7, 9, 11, 13, 15, 17, 19]\n"
     ]
    }
   ],
   "source": [
    "even = []\n",
    "odd = []\n",
    "num = range(1,21)\n",
    "for i in num: \n",
    "    if i ==12:\n",
    "     continue\n",
    "    if i%2 == 0:\n",
    "        even.append(i)\n",
    "    else:\n",
    "        odd.append(i)\n",
    "print (even)\n",
    "print (odd)\n",
    " "
   ]
  },
  {
   "cell_type": "code",
   "execution_count": 14,
   "id": "d7e36d56",
   "metadata": {},
   "outputs": [
    {
     "name": "stdout",
     "output_type": "stream",
     "text": [
      "2 4 5 6 7 4 5 7 8\n",
      "['2', '4', '5', '6', '7', '4', '5', '7', '8']\n",
      "9\n"
     ]
    }
   ],
   "source": [
    "user = (input().split()) \n",
    "print(user)\n",
    "total = int (user[0]) + int (user [4])\n",
    "print (total)"
   ]
  },
  {
   "cell_type": "code",
   "execution_count": 15,
   "id": "56a25888",
   "metadata": {},
   "outputs": [
    {
     "data": {
      "text/plain": [
       "12"
      ]
     },
     "execution_count": 15,
     "metadata": {},
     "output_type": "execute_result"
    }
   ],
   "source": [
    "num =  [3, 5, 7, 9, 11, 13, 15, 17, 19]\n",
    "num [0] + num [3]"
   ]
  },
  {
   "cell_type": "code",
   "execution_count": 26,
   "id": "7d773bc0",
   "metadata": {},
   "outputs": [
    {
     "name": "stdout",
     "output_type": "stream",
     "text": [
      "2 4 5 6 4 5 6 7\n",
      "['2', '4', '5', '6', '4', '5', '6', '7']\n",
      "Arsenal will win, because i like them\n"
     ]
    }
   ],
   "source": [
    "user = (input().split()) \n",
    "print(user)\n",
    "total = int (user[0]) + int (user [4])\n",
    " \n",
    "if total>20:\n",
    "     print (\" i don't want manchester city to win the league\")\n",
    "else:\n",
    "     print(\"Arsenal will win, because i like them\")"
   ]
  },
  {
   "cell_type": "markdown",
   "id": "31882ec9",
   "metadata": {},
   "source": [
    "# Error handling statement\n",
    "### try\n",
    "will inspect the code for error, if there is no error every thing in the executed. if there is error, it will be handled by except\n",
    "\n",
    "## except: \n",
    "if there is error in the try ...... except will run the code"
   ]
  },
  {
   "cell_type": "code",
   "execution_count": 47,
   "id": "45f40625",
   "metadata": {},
   "outputs": [
    {
     "ename": "IndentationError",
     "evalue": "unindent does not match any outer indentation level (<tokenize>, line 3)",
     "output_type": "error",
     "traceback": [
      "\u001b[1;36m  File \u001b[1;32m\"<tokenize>\"\u001b[1;36m, line \u001b[1;32m3\u001b[0m\n\u001b[1;33m    print (user)\u001b[0m\n\u001b[1;37m    ^\u001b[0m\n\u001b[1;31mIndentationError\u001b[0m\u001b[1;31m:\u001b[0m unindent does not match any outer indentation level\n"
     ]
    }
   ],
   "source": [
    "try:\n",
    "  user = (input().split()) \n",
    " print (user)\n",
    "  total=int(user[0]) + int (user[4])\n",
    "if total>20:\n",
    "     print (\"i don't want manchester city to win the league\")\n",
    "else:\n",
    "     print(\"Arsenal will win, because i like them\")\n",
    "        \n",
    "except:\n",
    "    \n",
    "        total = int(user[0]) + int(user[-1])\n",
    "        print(\"the length of the list is not up to 5, so the sum at the end is\", total)\n",
    "        \n",
    "finally:\n",
    "    print(\"finally will always be executed weather there is error or not\")"
   ]
  },
  {
   "cell_type": "code",
   "execution_count": 70,
   "id": "7f08b3de",
   "metadata": {},
   "outputs": [
    {
     "name": "stdout",
     "output_type": "stream",
     "text": [
      "the length of the list is not up to 5, so the sum at the end is 9\n",
      "finally will always be executed weather there is error or not\n"
     ]
    }
   ],
   "source": [
    "try: \n",
    "    user = (input(). split())\n",
    "    print (user)\n",
    "    total = int(user[0]) + (user[4])\n",
    "    if total>20:\n",
    "        print(\"i dont want manchester city to win the league\")\n",
    "    else:\n",
    "        print(\"Arsenal will win, because i like them\")\n",
    "except:\n",
    "    total = int(user[0]) + int(user[-1])\n",
    "    print(\"the length of the list is not up to 5, so the sum at the end is\", total)\n",
    "    \n",
    "finally: \n",
    "    print(\"finally will always be executed weather there is error or not\")"
   ]
  },
  {
   "cell_type": "markdown",
   "id": "1e246f7f",
   "metadata": {},
   "source": [
    "# function in phyton\n",
    "\n",
    "## functions are group of statements put together under a specific name to perform a specific task\n",
    "\n",
    "a. inbuilt function it comes along with phyton software\n",
    "- \n",
    "b. user defined function. are functions defined by the programmers. this is used to avoid #dry\n",
    "\n",
    "# dry is an application for \"do not repeat yourself\"\n",
    "\n",
    "\n",
    "\n"
   ]
  },
  {
   "cell_type": "code",
   "execution_count": 73,
   "id": "54ac8973",
   "metadata": {},
   "outputs": [
    {
     "name": "stdout",
     "output_type": "stream",
     "text": [
      "hello everyone, you are welcome to lasop!!!\n"
     ]
    }
   ],
   "source": [
    "## defining a function. non parametal function\n",
    "\n",
    "def greeting(   ):\n",
    "    print(\"hello everyone, you are welcome to lasop!!!\")\n",
    "    \n",
    "greeting()"
   ]
  },
  {
   "cell_type": "code",
   "execution_count": 74,
   "id": "e8512436",
   "metadata": {},
   "outputs": [
    {
     "name": "stdout",
     "output_type": "stream",
     "text": [
      "hello everyone, you are welcome to lasop!!!\n"
     ]
    }
   ],
   "source": [
    "## calling function that has been defined\n",
    "\n",
    "greeting()"
   ]
  },
  {
   "cell_type": "code",
   "execution_count": 75,
   "id": "88242724",
   "metadata": {},
   "outputs": [],
   "source": [
    "def add_two_num(w, i):\n",
    "    total= w+ i\n",
    "    return total\n"
   ]
  },
  {
   "cell_type": "code",
   "execution_count": 76,
   "id": "5497c686",
   "metadata": {},
   "outputs": [
    {
     "data": {
      "text/plain": [
       "9134"
      ]
     },
     "execution_count": 76,
     "metadata": {},
     "output_type": "execute_result"
    }
   ],
   "source": [
    "add_two_num(2345,6789)"
   ]
  },
  {
   "cell_type": "code",
   "execution_count": 78,
   "id": "f4b20bbb",
   "metadata": {},
   "outputs": [],
   "source": [
    "def min_to_sec(x,m):\n",
    "    total = x-m\n",
    "    return total"
   ]
  },
  {
   "cell_type": "code",
   "execution_count": 80,
   "id": "d08d9abb",
   "metadata": {},
   "outputs": [
    {
     "data": {
      "text/plain": [
       "60"
      ]
     },
     "execution_count": 80,
     "metadata": {},
     "output_type": "execute_result"
    }
   ],
   "source": [
    "min_to_sec(120,60)"
   ]
  },
  {
   "cell_type": "code",
   "execution_count": 81,
   "id": "9a31157e",
   "metadata": {},
   "outputs": [],
   "source": [
    "#function that will convert minuite to second\n",
    "def min_to_sec(minute):\n",
    "    sec=60* minute\n",
    "    return sec"
   ]
  },
  {
   "cell_type": "code",
   "execution_count": null,
   "id": "0fa18c63",
   "metadata": {},
   "outputs": [],
   "source": []
  },
  {
   "cell_type": "code",
   "execution_count": 89,
   "id": "6c8d289d",
   "metadata": {},
   "outputs": [],
   "source": [
    "def area_triangle(h,b):\n",
    "    area= (h*b)*0.5\n",
    "    return area\n"
   ]
  },
  {
   "cell_type": "code",
   "execution_count": 91,
   "id": "56985365",
   "metadata": {},
   "outputs": [
    {
     "data": {
      "text/plain": [
       "20.0"
      ]
     },
     "execution_count": 91,
     "metadata": {},
     "output_type": "execute_result"
    }
   ],
   "source": [
    "area_triangle(20,2)"
   ]
  },
  {
   "cell_type": "code",
   "execution_count": 92,
   "id": "5d40cd80",
   "metadata": {},
   "outputs": [
    {
     "data": {
      "text/plain": [
       "12.0"
      ]
     },
     "execution_count": 92,
     "metadata": {},
     "output_type": "execute_result"
    }
   ],
   "source": [
    "area_triangle(4,6)"
   ]
  },
  {
   "cell_type": "code",
   "execution_count": null,
   "id": "bc536a9e",
   "metadata": {},
   "outputs": [],
   "source": []
  }
 ],
 "metadata": {
  "kernelspec": {
   "display_name": "Python 3 (ipykernel)",
   "language": "python",
   "name": "python3"
  },
  "language_info": {
   "codemirror_mode": {
    "name": "ipython",
    "version": 3
   },
   "file_extension": ".py",
   "mimetype": "text/x-python",
   "name": "python",
   "nbconvert_exporter": "python",
   "pygments_lexer": "ipython3",
   "version": "3.9.13"
  }
 },
 "nbformat": 4,
 "nbformat_minor": 5
}
